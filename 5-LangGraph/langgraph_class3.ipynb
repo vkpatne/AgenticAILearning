{
 "cells": [
  {
   "cell_type": "code",
   "execution_count": 190,
   "id": "ad0d2551",
   "metadata": {},
   "outputs": [],
   "source": [
    "import os\n",
    "from dotenv import load_dotenv\n",
    "load_dotenv()\n",
    "\n",
    "os.environ['GROQ_API_KEY']=os.getenv(\"GROQ_API_KEY\")"
   ]
  },
  {
   "cell_type": "code",
   "execution_count": 191,
   "id": "70e1643c",
   "metadata": {},
   "outputs": [
    {
     "data": {
      "text/plain": [
       "'<think>\\n\\n</think>\\n\\nHello! How can I assist you today? 😊'"
      ]
     },
     "execution_count": 191,
     "metadata": {},
     "output_type": "execute_result"
    }
   ],
   "source": [
    "from langchain_groq import ChatGroq\n",
    "llm=ChatGroq(model=\"deepseek-r1-distill-llama-70b\")\n",
    "llm.invoke(\"hi\").content"
   ]
  },
  {
   "cell_type": "code",
   "execution_count": 192,
   "id": "d9c30631",
   "metadata": {},
   "outputs": [],
   "source": [
    "import operator\n",
    "from typing import List\n",
    "from langgraph.graph.message import add_messages\n",
    "from langchain_core.tools import tool\n",
    "from pydantic import BaseModel , Field\n",
    "from langchain.prompts import PromptTemplate\n",
    "from typing import TypedDict, Annotated, Sequence\n",
    "from langchain_core.messages import BaseMessage\n",
    "from langchain_core.output_parsers import StrOutputParser\n",
    "from langchain_core.prompts import ChatPromptTemplate, PromptTemplate\n",
    "from langchain_core.runnables import RunnablePassthrough\n",
    "from langchain_core.messages import HumanMessage, AIMessage\n",
    "from langgraph.graph import StateGraph,MessagesState,START,END\n",
    "from langgraph.prebuilt import ToolNode"
   ]
  },
  {
   "cell_type": "code",
   "execution_count": 197,
   "id": "2d328ce7",
   "metadata": {},
   "outputs": [],
   "source": [
    "def call_model(state:MessagesState):\n",
    "    question=state[\"messages\"]\n",
    "    # question=[HumanMessage(question).content]\n",
    "    response=llm.invoke(question)\n",
    "    return {\"messages\":[response]}"
   ]
  },
  {
   "cell_type": "markdown",
   "id": "fbeabb7a",
   "metadata": {},
   "source": [
    "### this code is only for the testing"
   ]
  },
  {
   "cell_type": "code",
   "execution_count": 198,
   "id": "16604b4e",
   "metadata": {},
   "outputs": [
    {
     "data": {
      "text/plain": [
       "{'messages': [AIMessage(content=\"<think>\\n\\n</think>\\n\\nHello! I'm just a virtual assistant, so I don't have feelings, but I'm here and ready to help you with whatever you need. How are *you* doing? 😊\", additional_kwargs={}, response_metadata={'token_usage': {'completion_tokens': 44, 'prompt_tokens': 9, 'total_tokens': 53, 'completion_time': 0.188395288, 'prompt_time': 0.000184326, 'queue_time': 0.055317794, 'total_time': 0.188579614}, 'model_name': 'deepseek-r1-distill-llama-70b', 'system_fingerprint': 'fp_1bbe7845ec', 'finish_reason': 'stop', 'logprobs': None}, id='run--f844cde5-363c-4603-9385-9c21b165e9a3-0', usage_metadata={'input_tokens': 9, 'output_tokens': 44, 'total_tokens': 53})]}"
      ]
     },
     "execution_count": 198,
     "metadata": {},
     "output_type": "execute_result"
    }
   ],
   "source": [
    "state={\"messages\":[\"hi hello how are you?\"]}\n",
    "call_model(state)"
   ]
  },
  {
   "cell_type": "markdown",
   "id": "482d39ba",
   "metadata": {},
   "source": [
    "### Design a simple workflow without tool calling/"
   ]
  },
  {
   "cell_type": "code",
   "execution_count": 199,
   "id": "834e0eff",
   "metadata": {},
   "outputs": [
    {
     "data": {
      "image/png": "[encoded data removed]",
      "text/plain": [
       "<IPython.core.display.Image object>"
      ]
     },
     "metadata": {},
     "output_type": "display_data"
    }
   ],
   "source": [
    "workflow=StateGraph(MessagesState)\n",
    "\n",
    "workflow.add_node(\"mybot\",call_model)\n",
    "\n",
    "workflow.add_edge(START, \"mybot\")\n",
    "workflow.add_edge(\"mybot\", END)\n",
    "\n",
    "app=workflow.compile()\n",
    "\n",
    "from IPython.display import Image, display\n",
    "display(Image(app.get_graph().draw_mermaid_png()))"
   ]
  },
  {
   "cell_type": "code",
   "execution_count": 200,
   "id": "f43ca94c",
   "metadata": {},
   "outputs": [
    {
     "data": {
      "text/plain": [
       "{'messages': [HumanMessage(content='hi hellow how are you?', additional_kwargs={}, response_metadata={}, id='a448286d-5e34-416a-bd23-1501033211eb'),\n",
       "  AIMessage(content=\"<think>\\n\\n</think>\\n\\nHello! I'm just a virtual assistant, so I don't have feelings, but I'm here and ready to help you with whatever you need. How are *you* doing? 😊\", additional_kwargs={}, response_metadata={'token_usage': {'completion_tokens': 44, 'prompt_tokens': 10, 'total_tokens': 54, 'completion_time': 0.200763966, 'prompt_time': 0.000220586, 'queue_time': 0.054847384, 'total_time': 0.200984552}, 'model_name': 'deepseek-r1-distill-llama-70b', 'system_fingerprint': 'fp_1bbe7845ec', 'finish_reason': 'stop', 'logprobs': None}, id='run--2666aed2-25af-4ca3-993d-5a99d5e484fd-0', usage_metadata={'input_tokens': 10, 'output_tokens': 44, 'total_tokens': 54})]}"
      ]
     },
     "execution_count": 200,
     "metadata": {},
     "output_type": "execute_result"
    }
   ],
   "source": [
    "input={\"messages\":[\"hi hellow how are you?\"]}\n",
    "app.invoke(input)"
   ]
  },
  {
   "cell_type": "markdown",
   "id": "1d4807b9",
   "metadata": {},
   "source": [
    "### this is a workflow with tool calling\n",
    "Create a tool"
   ]
  },
  {
   "cell_type": "code",
   "execution_count": 201,
   "id": "11673d5e",
   "metadata": {},
   "outputs": [],
   "source": [
    "@tool\n",
    "def search_weather(query:str):\n",
    "    \"\"\"this is my custom tool for searching weather\"\"\"\n",
    "    if \"delhi\" in query.lower():\n",
    "        return \"temp is 45 degree and sunny\"\n",
    "    return \"temp is 25 degree and cloudy\""
   ]
  },
  {
   "cell_type": "code",
   "execution_count": 202,
   "id": "f96e92f0",
   "metadata": {},
   "outputs": [
    {
     "data": {
      "text/plain": [
       "'temp is 25 degree and cloudy'"
      ]
     },
     "execution_count": 202,
     "metadata": {},
     "output_type": "execute_result"
    }
   ],
   "source": [
    "search_weather.invoke(\"what is a tempurature in kashmir\")"
   ]
  },
  {
   "cell_type": "code",
   "execution_count": 203,
   "id": "d6c476ef",
   "metadata": {},
   "outputs": [
    {
     "data": {
      "text/plain": [
       "'temp is 45 degree and sunny'"
      ]
     },
     "execution_count": 203,
     "metadata": {},
     "output_type": "execute_result"
    }
   ],
   "source": [
    "search_weather.invoke(\"what is a tempurature in delhi\")"
   ]
  },
  {
   "cell_type": "code",
   "execution_count": 204,
   "id": "fba96922",
   "metadata": {},
   "outputs": [],
   "source": [
    "tools=[search_weather]"
   ]
  },
  {
   "cell_type": "code",
   "execution_count": 205,
   "id": "ac78e341",
   "metadata": {},
   "outputs": [],
   "source": [
    "llm_with_tool=llm.bind_tools(tools)"
   ]
  },
  {
   "cell_type": "code",
   "execution_count": 206,
   "id": "1c70ebf2",
   "metadata": {},
   "outputs": [
    {
     "data": {
      "text/plain": [
       "AIMessage(content='', additional_kwargs={'tool_calls': [{'id': '82w11z2nv', 'function': {'arguments': '{\"query\":\"weather in Delhi\"}', 'name': 'search_weather'}, 'type': 'function'}]}, response_metadata={'token_usage': {'completion_tokens': 137, 'prompt_tokens': 133, 'total_tokens': 270, 'completion_time': 0.659397818, 'prompt_time': 0.008586196, 'queue_time': 0.05521496399999999, 'total_time': 0.667984014}, 'model_name': 'deepseek-r1-distill-llama-70b', 'system_fingerprint': 'fp_1bbe7845ec', 'finish_reason': 'tool_calls', 'logprobs': None}, id='run--1c46290a-f223-4644-90ea-7ce65f5ca087-0', tool_calls=[{'name': 'search_weather', 'args': {'query': 'weather in Delhi'}, 'id': '82w11z2nv', 'type': 'tool_call'}], usage_metadata={'input_tokens': 133, 'output_tokens': 137, 'total_tokens': 270})"
      ]
     },
     "execution_count": 206,
     "metadata": {},
     "output_type": "execute_result"
    }
   ],
   "source": [
    "response=llm_with_tool.invoke(\"what is a weather in delhi?\")\n",
    "response"
   ]
  },
  {
   "cell_type": "code",
   "execution_count": 207,
   "id": "465269db",
   "metadata": {},
   "outputs": [
    {
     "data": {
      "text/plain": [
       "[{'name': 'search_weather',\n",
       "  'args': {'query': 'weather in Delhi'},\n",
       "  'id': '82w11z2nv',\n",
       "  'type': 'tool_call'}]"
      ]
     },
     "execution_count": 207,
     "metadata": {},
     "output_type": "execute_result"
    }
   ],
   "source": [
    "response.tool_calls"
   ]
  },
  {
   "cell_type": "code",
   "execution_count": 208,
   "id": "4c64d27d",
   "metadata": {},
   "outputs": [],
   "source": [
    "def call_model(state=MessagesState):\n",
    "    question=state[\"messages\"]\n",
    "    response=llm_with_tool.invoke(question)\n",
    "    print(\"llm response: \", response)\n",
    "    return {\"messages\":[response]}"
   ]
  },
  {
   "cell_type": "code",
   "execution_count": 209,
   "id": "ce369f76",
   "metadata": {},
   "outputs": [
    {
     "name": "stdout",
     "output_type": "stream",
     "text": [
      "llm response:  content='' additional_kwargs={'tool_calls': [{'id': 'wgqy345p9', 'function': {'arguments': '{\"query\":\"Delhi\"}', 'name': 'search_weather'}, 'type': 'function'}]} response_metadata={'token_usage': {'completion_tokens': 165, 'prompt_tokens': 133, 'total_tokens': 298, 'completion_time': 0.733036997, 'prompt_time': 0.008570087, 'queue_time': 0.055139472999999994, 'total_time': 0.741607084}, 'model_name': 'deepseek-r1-distill-llama-70b', 'system_fingerprint': 'fp_1bbe7845ec', 'finish_reason': 'tool_calls', 'logprobs': None} id='run--6ce4ac15-b756-4f0e-9c7a-de072e86fa08-0' tool_calls=[{'name': 'search_weather', 'args': {'query': 'Delhi'}, 'id': 'wgqy345p9', 'type': 'tool_call'}] usage_metadata={'input_tokens': 133, 'output_tokens': 165, 'total_tokens': 298}\n"
     ]
    }
   ],
   "source": [
    "## Testing code\n",
    "\n",
    "input={\"messages\":[\"what is a weather in delhi?\"]}\n",
    "response=call_model(input)"
   ]
  },
  {
   "cell_type": "code",
   "execution_count": 210,
   "id": "82d2e5fc",
   "metadata": {},
   "outputs": [
    {
     "data": {
      "text/plain": [
       "''"
      ]
     },
     "execution_count": 210,
     "metadata": {},
     "output_type": "execute_result"
    }
   ],
   "source": [
    "response[\"messages\"][-1].content"
   ]
  },
  {
   "cell_type": "code",
   "execution_count": 211,
   "id": "4c8f6d2c",
   "metadata": {},
   "outputs": [
    {
     "data": {
      "text/plain": [
       "[{'name': 'search_weather',\n",
       "  'args': {'query': 'Delhi'},\n",
       "  'id': 'wgqy345p9',\n",
       "  'type': 'tool_call'}]"
      ]
     },
     "execution_count": 211,
     "metadata": {},
     "output_type": "execute_result"
    }
   ],
   "source": [
    "response[\"messages\"][-1].tool_calls"
   ]
  },
  {
   "cell_type": "markdown",
   "id": "452bda48",
   "metadata": {},
   "source": [
    "### here my router function\n",
    "now whatever will come from call_model router funtion will redirect this to the appropriate tool"
   ]
  },
  {
   "cell_type": "code",
   "execution_count": 212,
   "id": "6c7b49e7",
   "metadata": {},
   "outputs": [],
   "source": [
    "def router_fun(state:MessagesState):\n",
    "    message=state[\"messages\"]\n",
    "    last_message=message[-1]  ## LLM model automatically give us tool_calls artribute based on question\n",
    "    if last_message.tool_calls:\n",
    "        return \"tools\"\n",
    "    return END"
   ]
  },
  {
   "cell_type": "code",
   "execution_count": 213,
   "id": "f2769971",
   "metadata": {},
   "outputs": [],
   "source": [
    "tool_node=ToolNode(tools)"
   ]
  },
  {
   "cell_type": "code",
   "execution_count": 214,
   "id": "997d133b",
   "metadata": {},
   "outputs": [
    {
     "data": {
      "text/plain": [
       "tools(tags=None, recurse=True, explode_args=False, func_accepts_config=True, func_accepts={'store': ('__pregel_store', None)}, tools_by_name={'search_weather': StructuredTool(name='search_weather', description='this is my custom tool for searching weather', args_schema=<class 'langchain_core.utils.pydantic.search_weather'>, func=<function search_weather at 0x0000023B247B6B60>)}, tool_to_state_args={'search_weather': {}}, tool_to_store_arg={'search_weather': None}, handle_tool_errors=True, messages_key='messages')"
      ]
     },
     "execution_count": 214,
     "metadata": {},
     "output_type": "execute_result"
    }
   ],
   "source": [
    "tool_node"
   ]
  },
  {
   "cell_type": "code",
   "execution_count": 215,
   "id": "222103fc",
   "metadata": {},
   "outputs": [
    {
     "data": {
      "image/png": "[encoded data removed]",
      "text/plain": [
       "<IPython.core.display.Image object>"
      ]
     },
     "metadata": {},
     "output_type": "display_data"
    }
   ],
   "source": [
    "workflow2=StateGraph(MessagesState)\n",
    "\n",
    "workflow2.add_node(\"llmwithtool\",call_model)\n",
    "workflow2.add_node(\"mytools\",tool_node)\n",
    "\n",
    "workflow2.add_edge(START, \"llmwithtool\")\n",
    "\n",
    "workflow2.add_conditional_edges(\"llmwithtool\",\n",
    "                               router_fun,\n",
    "                               {\"tools\":\"mytools\",\n",
    "                                END:END})\n",
    "\n",
    "app2=workflow2.compile()\n",
    "\n",
    "from IPython.display import Image, display\n",
    "display(Image(app.get_graph().draw_mermaid_png()))"
   ]
  },
  {
   "cell_type": "code",
   "execution_count": 216,
   "id": "37628b03",
   "metadata": {},
   "outputs": [
    {
     "name": "stdout",
     "output_type": "stream",
     "text": [
      "llm response:  content='' additional_kwargs={'tool_calls': [{'id': 'trftbxhsc', 'function': {'arguments': '{\"query\":\"Bengaluru weather\"}', 'name': 'search_weather'}, 'type': 'function'}]} response_metadata={'token_usage': {'completion_tokens': 155, 'prompt_tokens': 135, 'total_tokens': 290, 'completion_time': 0.683328028, 'prompt_time': 0.008678244, 'queue_time': 0.053504206, 'total_time': 0.692006272}, 'model_name': 'deepseek-r1-distill-llama-70b', 'system_fingerprint': 'fp_1bbe7845ec', 'finish_reason': 'tool_calls', 'logprobs': None} id='run--3525d50c-a5c6-4e51-92c1-f487b3df34b0-0' tool_calls=[{'name': 'search_weather', 'args': {'query': 'Bengaluru weather'}, 'id': 'trftbxhsc', 'type': 'tool_call'}] usage_metadata={'input_tokens': 135, 'output_tokens': 155, 'total_tokens': 290}\n"
     ]
    },
    {
     "data": {
      "text/plain": [
       "{'messages': [HumanMessage(content='what is a weather in bengraluru?', additional_kwargs={}, response_metadata={}, id='38b5fe36-8bfb-46d8-9989-53c9c41d5cde'),\n",
       "  AIMessage(content='', additional_kwargs={'tool_calls': [{'id': 'trftbxhsc', 'function': {'arguments': '{\"query\":\"Bengaluru weather\"}', 'name': 'search_weather'}, 'type': 'function'}]}, response_metadata={'token_usage': {'completion_tokens': 155, 'prompt_tokens': 135, 'total_tokens': 290, 'completion_time': 0.683328028, 'prompt_time': 0.008678244, 'queue_time': 0.053504206, 'total_time': 0.692006272}, 'model_name': 'deepseek-r1-distill-llama-70b', 'system_fingerprint': 'fp_1bbe7845ec', 'finish_reason': 'tool_calls', 'logprobs': None}, id='run--3525d50c-a5c6-4e51-92c1-f487b3df34b0-0', tool_calls=[{'name': 'search_weather', 'args': {'query': 'Bengaluru weather'}, 'id': 'trftbxhsc', 'type': 'tool_call'}], usage_metadata={'input_tokens': 135, 'output_tokens': 155, 'total_tokens': 290}),\n",
       "  ToolMessage(content='temp is 25 degree and cloudy', name='search_weather', id='f9646366-6c9c-4d68-a8cb-f3d188cfbe0e', tool_call_id='trftbxhsc')]}"
      ]
     },
     "execution_count": 216,
     "metadata": {},
     "output_type": "execute_result"
    }
   ],
   "source": [
    "\n",
    "app2.invoke({\"messages\":[\"what is a weather in bengraluru?\"]})"
   ]
  },
  {
   "cell_type": "code",
   "execution_count": 217,
   "id": "375a1745",
   "metadata": {},
   "outputs": [
    {
     "name": "stdout",
     "output_type": "stream",
     "text": [
      "llm response:  content='' additional_kwargs={'tool_calls': [{'id': '23gbztj6e', 'function': {'arguments': '{\"query\":\"Delhi\"}', 'name': 'search_weather'}, 'type': 'function'}]} response_metadata={'token_usage': {'completion_tokens': 82, 'prompt_tokens': 133, 'total_tokens': 215, 'completion_time': 0.389075584, 'prompt_time': 0.008599157, 'queue_time': 0.05650933700000001, 'total_time': 0.397674741}, 'model_name': 'deepseek-r1-distill-llama-70b', 'system_fingerprint': 'fp_1bbe7845ec', 'finish_reason': 'tool_calls', 'logprobs': None} id='run--5c713e42-6e7b-434e-a015-324ef89006d2-0' tool_calls=[{'name': 'search_weather', 'args': {'query': 'Delhi'}, 'id': '23gbztj6e', 'type': 'tool_call'}] usage_metadata={'input_tokens': 133, 'output_tokens': 82, 'total_tokens': 215}\n"
     ]
    },
    {
     "data": {
      "text/plain": [
       "{'messages': [HumanMessage(content='what is a weather in delhi?', additional_kwargs={}, response_metadata={}, id='d5f5ab17-3253-4eca-893e-7a15a8ab2af1'),\n",
       "  AIMessage(content='', additional_kwargs={'tool_calls': [{'id': '23gbztj6e', 'function': {'arguments': '{\"query\":\"Delhi\"}', 'name': 'search_weather'}, 'type': 'function'}]}, response_metadata={'token_usage': {'completion_tokens': 82, 'prompt_tokens': 133, 'total_tokens': 215, 'completion_time': 0.389075584, 'prompt_time': 0.008599157, 'queue_time': 0.05650933700000001, 'total_time': 0.397674741}, 'model_name': 'deepseek-r1-distill-llama-70b', 'system_fingerprint': 'fp_1bbe7845ec', 'finish_reason': 'tool_calls', 'logprobs': None}, id='run--5c713e42-6e7b-434e-a015-324ef89006d2-0', tool_calls=[{'name': 'search_weather', 'args': {'query': 'Delhi'}, 'id': '23gbztj6e', 'type': 'tool_call'}], usage_metadata={'input_tokens': 133, 'output_tokens': 82, 'total_tokens': 215}),\n",
       "  ToolMessage(content='temp is 45 degree and sunny', name='search_weather', id='5ca8dccb-d5a7-46eb-9f19-6b0763e0f5f0', tool_call_id='23gbztj6e')]}"
      ]
     },
     "execution_count": 217,
     "metadata": {},
     "output_type": "execute_result"
    }
   ],
   "source": [
    "app2.invoke({\"messages\":[\"what is a weather in delhi?\"]})"
   ]
  },
  {
   "cell_type": "code",
   "execution_count": 218,
   "id": "d2466c14",
   "metadata": {},
   "outputs": [
    {
     "name": "stdout",
     "output_type": "stream",
     "text": [
      "llm response:  content=\"Hello! I'm just a computer program, so I don't have feelings, but I'm here and ready to help you with whatever you need.\" additional_kwargs={} response_metadata={'token_usage': {'completion_tokens': 138, 'prompt_tokens': 130, 'total_tokens': 268, 'completion_time': 0.515066678, 'prompt_time': 0.009090568, 'queue_time': 0.053475613, 'total_time': 0.524157246}, 'model_name': 'deepseek-r1-distill-llama-70b', 'system_fingerprint': 'fp_1bbe7845ec', 'finish_reason': 'stop', 'logprobs': None} id='run--9b7d6399-c5a6-4abb-b4ac-4123340094f4-0' usage_metadata={'input_tokens': 130, 'output_tokens': 138, 'total_tokens': 268}\n"
     ]
    },
    {
     "data": {
      "text/plain": [
       "{'messages': [HumanMessage(content='hi how are you?', additional_kwargs={}, response_metadata={}, id='fa4f1461-8550-438c-b001-aacffb7aaa2c'),\n",
       "  AIMessage(content=\"Hello! I'm just a computer program, so I don't have feelings, but I'm here and ready to help you with whatever you need.\", additional_kwargs={}, response_metadata={'token_usage': {'completion_tokens': 138, 'prompt_tokens': 130, 'total_tokens': 268, 'completion_time': 0.515066678, 'prompt_time': 0.009090568, 'queue_time': 0.053475613, 'total_time': 0.524157246}, 'model_name': 'deepseek-r1-distill-llama-70b', 'system_fingerprint': 'fp_1bbe7845ec', 'finish_reason': 'stop', 'logprobs': None}, id='run--9b7d6399-c5a6-4abb-b4ac-4123340094f4-0', usage_metadata={'input_tokens': 130, 'output_tokens': 138, 'total_tokens': 268})]}"
      ]
     },
     "execution_count": 218,
     "metadata": {},
     "output_type": "execute_result"
    }
   ],
   "source": [
    "app2.invoke({\"messages\":[\"hi how are you?\"]})"
   ]
  },
  {
   "cell_type": "code",
   "execution_count": 219,
   "id": "ab570c6b",
   "metadata": {},
   "outputs": [
    {
     "name": "stderr",
     "output_type": "stream",
     "text": [
      "Adding an edge to a graph that has already been compiled. This will not be reflected in the compiled graph.\n"
     ]
    },
    {
     "data": {
      "image/png": "[encoded data removed]",
      "text/plain": [
       "<IPython.core.display.Image object>"
      ]
     },
     "metadata": {},
     "output_type": "display_data"
    }
   ],
   "source": [
    "## create loop\n",
    "workflow2.add_edge(\"mytools\",\"llmwithtool\")\n",
    "\n",
    "app3=workflow2.compile()\n",
    "from IPython.display import Image, display\n",
    "display(Image(app3.get_graph().draw_mermaid_png()))"
   ]
  },
  {
   "cell_type": "code",
   "execution_count": 220,
   "id": "5d62a88c",
   "metadata": {},
   "outputs": [
    {
     "name": "stdout",
     "output_type": "stream",
     "text": [
      "llm response:  content='' additional_kwargs={'tool_calls': [{'id': 'mspa7grr4', 'function': {'arguments': '{\"query\":\"what is a wheather in new delhi?\"}', 'name': 'search_weather'}, 'type': 'function'}]} response_metadata={'token_usage': {'completion_tokens': 262, 'prompt_tokens': 135, 'total_tokens': 397, 'completion_time': 1.236980273, 'prompt_time': 0.008801252, 'queue_time': 0.054923151999999996, 'total_time': 1.245781525}, 'model_name': 'deepseek-r1-distill-llama-70b', 'system_fingerprint': 'fp_1bbe7845ec', 'finish_reason': 'tool_calls', 'logprobs': None} id='run--5e9218b9-9838-42e7-9957-886f8f8f6299-0' tool_calls=[{'name': 'search_weather', 'args': {'query': 'what is a wheather in new delhi?'}, 'id': 'mspa7grr4', 'type': 'tool_call'}] usage_metadata={'input_tokens': 135, 'output_tokens': 262, 'total_tokens': 397}\n",
      "here is output from llmwithtool\n",
      "_______\n",
      "{'messages': [AIMessage(content='', additional_kwargs={'tool_calls': [{'id': 'mspa7grr4', 'function': {'arguments': '{\"query\":\"what is a wheather in new delhi?\"}', 'name': 'search_weather'}, 'type': 'function'}]}, response_metadata={'token_usage': {'completion_tokens': 262, 'prompt_tokens': 135, 'total_tokens': 397, 'completion_time': 1.236980273, 'prompt_time': 0.008801252, 'queue_time': 0.054923151999999996, 'total_time': 1.245781525}, 'model_name': 'deepseek-r1-distill-llama-70b', 'system_fingerprint': 'fp_1bbe7845ec', 'finish_reason': 'tool_calls', 'logprobs': None}, id='run--5e9218b9-9838-42e7-9957-886f8f8f6299-0', tool_calls=[{'name': 'search_weather', 'args': {'query': 'what is a wheather in new delhi?'}, 'id': 'mspa7grr4', 'type': 'tool_call'}], usage_metadata={'input_tokens': 135, 'output_tokens': 262, 'total_tokens': 397})]}\n",
      "\n",
      "\n",
      "here is output from mytools\n",
      "_______\n",
      "{'messages': [ToolMessage(content='temp is 45 degree and sunny', name='search_weather', id='1a89853a-4e97-4929-94fb-e9a8c7bdc8af', tool_call_id='mspa7grr4')]}\n",
      "\n",
      "\n",
      "llm response:  content='The weather in New Delhi is currently 45 degrees and sunny.' additional_kwargs={} response_metadata={'token_usage': {'completion_tokens': 103, 'prompt_tokens': 200, 'total_tokens': 303, 'completion_time': 0.572335033, 'prompt_time': 0.012397099, 'queue_time': 0.07049527300000001, 'total_time': 0.584732132}, 'model_name': 'deepseek-r1-distill-llama-70b', 'system_fingerprint': 'fp_1bbe7845ec', 'finish_reason': 'stop', 'logprobs': None} id='run--6372bb70-a9e4-41bc-a812-d89d493e7883-0' usage_metadata={'input_tokens': 200, 'output_tokens': 103, 'total_tokens': 303}\n",
      "here is output from llmwithtool\n",
      "_______\n",
      "{'messages': [AIMessage(content='The weather in New Delhi is currently 45 degrees and sunny.', additional_kwargs={}, response_metadata={'token_usage': {'completion_tokens': 103, 'prompt_tokens': 200, 'total_tokens': 303, 'completion_time': 0.572335033, 'prompt_time': 0.012397099, 'queue_time': 0.07049527300000001, 'total_time': 0.584732132}, 'model_name': 'deepseek-r1-distill-llama-70b', 'system_fingerprint': 'fp_1bbe7845ec', 'finish_reason': 'stop', 'logprobs': None}, id='run--6372bb70-a9e4-41bc-a812-d89d493e7883-0', usage_metadata={'input_tokens': 200, 'output_tokens': 103, 'total_tokens': 303})]}\n",
      "\n",
      "\n"
     ]
    }
   ],
   "source": [
    "for output in app3.stream({\"messages\":[\"what is a wheather in new delhi?\"]}):\n",
    "    for key, value in output.items():\n",
    "        print(f\"here is output from {key}\")\n",
    "        print(\"_______\")\n",
    "        print(value)\n",
    "        print(\"\\n\")"
   ]
  },
  {
   "cell_type": "markdown",
   "id": "bee1b889",
   "metadata": {},
   "source": [
    "### Now suppose there are 2 task in same condition e.g. weather and hotel booking\n",
    "\n",
    "\"what is a weather in delhi can you tell me some good hotel for staying in north delhi\""
   ]
  },
  {
   "cell_type": "code",
   "execution_count": 221,
   "id": "b188150e",
   "metadata": {},
   "outputs": [],
   "source": [
    "from langgraph.checkpoint.memory import MemorySaver\n",
    "memory=MemorySaver()"
   ]
  },
  {
   "cell_type": "code",
   "execution_count": 240,
   "id": "c23e3c37",
   "metadata": {},
   "outputs": [
    {
     "data": {
      "image/png": "[encoded data removed]",
      "text/plain": [
       "<IPython.core.display.Image object>"
      ]
     },
     "metadata": {},
     "output_type": "display_data"
    }
   ],
   "source": [
    "workflow3=StateGraph(MessagesState)\n",
    "\n",
    "workflow3.add_node(\"llmwithtool\", call_model)\n",
    "workflow3.add_node(\"mytools\", tool_node)\n",
    "\n",
    "workflow3.add_edge(START, \"llmwithtool\")\n",
    "\n",
    "workflow3.add_conditional_edges(\"llmwithtool\",\n",
    "                                router_fun,\n",
    "                                {\"tools\":\"mytools\",\n",
    "                                 END:END})\n",
    "workflow3.add_edge(\"mytools\",\"llmwithtool\")\n",
    "\n",
    "app4=workflow3.compile(checkpointer=memory)\n",
    "from IPython.display import Image, display\n",
    "display(Image(app4.get_graph().draw_mermaid_png()))"
   ]
  },
  {
   "cell_type": "code",
   "execution_count": 241,
   "id": "84317b47",
   "metadata": {},
   "outputs": [],
   "source": [
    "config={\"configurable\": {\"thread_id\": \"1\"}}"
   ]
  },
  {
   "cell_type": "code",
   "execution_count": 242,
   "id": "e26823b5",
   "metadata": {},
   "outputs": [],
   "source": [
    "events=app.stream({\"messages\":[\"what is a weather in new delhi?\"]},config=config,stream_mode=\"values\")\n",
    "\n",
    "# config : runtime config \n",
    "# \"values\"`: Emit all values in the state after each step, including interrupts."
   ]
  },
  {
   "cell_type": "code",
   "execution_count": 243,
   "id": "1e51f54a",
   "metadata": {},
   "outputs": [
    {
     "name": "stdout",
     "output_type": "stream",
     "text": [
      "================================\u001b[1m Human Message \u001b[0m=================================\n",
      "\n",
      "what is a weather in new delhi?\n",
      "==================================\u001b[1m Ai Message \u001b[0m==================================\n",
      "\n",
      "<think>\n",
      "Okay, so I need to figure out what the weather is like in New Delhi. I remember that New Delhi is the capital of India, but I'm not too sure about its climate. I think India has a monsoon season, but I'm not certain how that affects New Delhi specifically.\n",
      "\n",
      "I should start by recalling if New Delhi has a specific type of climate. I think it might be a humid subtropical climate, but I'm not 100% sure. I remember that climates are categorized based on temperature and precipitation patterns. Humid subtropical usually means hot summers and cool winters, with significant rainfall during the monsoon season.\n",
      "\n",
      "Let me think about the seasons in New Delhi. I believe they have three main seasons: summer, monsoon, and winter. Maybe spring and autumn are not as distinct there. So, during the summer, it must get really hot. I've heard about heatwaves in India, so New Delhi probably experiences very high temperatures, maybe even reaching 40°C or more during the peak.\n",
      "\n",
      "Then, the monsoon season must bring a lot of rain. I think the monsoon starts around July and goes through August and September. This period would see most of the annual rainfall, which could lead to flooding and traffic issues. The humidity during this time must be quite high, making the weather feel oppressive.\n",
      "\n",
      "In the winter, the temperatures would drop, but I don't think it gets extremely cold. Maybe around 10°C on average, with some colder days. I've heard that in January, it can get quite chilly, especially in the mornings and evenings. There might even be some fog during the winter months, which could affect visibility and transportation.\n",
      "\n",
      "I'm not sure about the spring and autumn seasons in New Delhi. Maybe they are shorter and not as pronounced as in other parts of the world. The transition between winter and summer might be quick, with the weather warming up rapidly as summer approaches.\n",
      "\n",
      "I should also consider the pollution levels in New Delhi, as I've heard that the air quality can be poor, especially in winter. This might affect the perceived weather, making the air feel heavier or causing health issues.\n",
      "\n",
      "To summarize, New Delhi probably has hot, dry summers with temperatures over 40°C, a wet monsoon season with heavy rainfall, and mild, cool winters with some fog. The climate is likely humid subtropical, with the monsoon playing a significant role in the annual weather patterns.\n",
      "\n",
      "I'm a bit unsure about the exact temperature ranges and the specific months for each season, so I might need to verify that. Also, I'm not certain how the weather feels during each season beyond the basic temperature and rainfall. For example, how humid it is during the monsoon or how cold it gets in winter.\n",
      "\n",
      "I think I've covered the main points, but I might be missing some details or mixing up some characteristics with other cities in India. To be accurate, I should confirm the typical temperature ranges, the exact months each season covers, and any unique weather phenomena like fog or heatwaves.\n",
      "</think>\n",
      "\n",
      "New Delhi experiences a humid subtropical climate with three main seasons: summer, monsoon, and winter. Here's a detailed overview of each season:\n",
      "\n",
      "1. **Summer (April to June):**\n",
      "   - Characterized by very high temperatures, often reaching 40°C or more.\n",
      "   - Hot and dry, with heatwaves common during the peak season.\n",
      "\n",
      "2. **Monsoon (July to September):**\n",
      "   - Brings significant rainfall, contributing most of the annual precipitation.\n",
      "   - High humidity levels, leading to a oppressive weather feel.\n",
      "   - Potential for flooding and traffic disruptions due to heavy rain.\n",
      "\n",
      "3. **Winter (December to February):**\n",
      "   - Mild to cool temperatures, averaging around 10°C.\n",
      "   - Colder days, especially in January, with mornings and evenings being chilly.\n",
      "   - Occasional fog, which can affect visibility and transportation.\n",
      "\n",
      "Additional considerations:\n",
      "- **Spring and Autumn:** These seasons are less pronounced, with a quick transition between winter and summer.\n",
      "- **Air Quality:** Notable pollution, particularly in winter, affecting air quality and health.\n",
      "\n",
      "This climate pattern is influenced by the monsoon season, which is a defining feature of New Delhi's weather.\n"
     ]
    }
   ],
   "source": [
    "for event in events:\n",
    "    event[\"messages\"][-1].pretty_print()"
   ]
  },
  {
   "cell_type": "code",
   "execution_count": 245,
   "id": "762d5c77",
   "metadata": {},
   "outputs": [
    {
     "name": "stdout",
     "output_type": "stream",
     "text": [
      "================================\u001b[1m Human Message \u001b[0m=================================\n",
      "\n",
      "what is a weather in indore?\n",
      "llm response:  content='' additional_kwargs={'tool_calls': [{'id': 'wjh8z67ph', 'function': {'arguments': '{\"query\":\"Indore weather\"}', 'name': 'search_weather'}, 'type': 'function'}]} response_metadata={'token_usage': {'completion_tokens': 165, 'prompt_tokens': 866, 'total_tokens': 1031, 'completion_time': 1.238534035, 'prompt_time': 0.068477164, 'queue_time': 0.054368365, 'total_time': 1.307011199}, 'model_name': 'deepseek-r1-distill-llama-70b', 'system_fingerprint': 'fp_1bbe7845ec', 'finish_reason': 'tool_calls', 'logprobs': None} id='run--425b8c1c-65d3-44a0-b4c2-b1c1fae00b61-0' tool_calls=[{'name': 'search_weather', 'args': {'query': 'Indore weather'}, 'id': 'wjh8z67ph', 'type': 'tool_call'}] usage_metadata={'input_tokens': 866, 'output_tokens': 165, 'total_tokens': 1031}\n",
      "==================================\u001b[1m Ai Message \u001b[0m==================================\n",
      "Tool Calls:\n",
      "  search_weather (wjh8z67ph)\n",
      " Call ID: wjh8z67ph\n",
      "  Args:\n",
      "    query: Indore weather\n",
      "=================================\u001b[1m Tool Message \u001b[0m=================================\n",
      "Name: search_weather\n",
      "\n",
      "temp is 25 degree and cloudy\n",
      "llm response:  content=\"The weather in Indore is currently 25 degrees Celsius with cloudy skies. It's advisable to check for any updates or changes in the weather forecast for the day.\" additional_kwargs={} response_metadata={'token_usage': {'completion_tokens': 423, 'prompt_tokens': 924, 'total_tokens': 1347, 'completion_time': 2.069812794, 'prompt_time': 0.12067059, 'queue_time': 1.394590679, 'total_time': 2.190483384}, 'model_name': 'deepseek-r1-distill-llama-70b', 'system_fingerprint': 'fp_1bbe7845ec', 'finish_reason': 'stop', 'logprobs': None} id='run--94d98ffa-f093-4ab9-9fb6-35bc625f03c1-0' usage_metadata={'input_tokens': 924, 'output_tokens': 423, 'total_tokens': 1347}\n",
      "==================================\u001b[1m Ai Message \u001b[0m==================================\n",
      "\n",
      "The weather in Indore is currently 25 degrees Celsius with cloudy skies. It's advisable to check for any updates or changes in the weather forecast for the day.\n"
     ]
    }
   ],
   "source": [
    "events=app4.stream(\n",
    "    {\"messages\":[\"what is a weather in indore?\"]},config=config,stream_mode=\"values\"\n",
    "    )\n",
    "\n",
    "for event in events:\n",
    "    event[\"messages\"][-1].pretty_print()"
   ]
  },
  {
   "cell_type": "code",
   "execution_count": 246,
   "id": "8dd37fa8",
   "metadata": {},
   "outputs": [
    {
     "data": {
      "text/plain": [
       "{'configurable': {'thread_id': '1'}}"
      ]
     },
     "execution_count": 246,
     "metadata": {},
     "output_type": "execute_result"
    }
   ],
   "source": [
    "config"
   ]
  },
  {
   "cell_type": "code",
   "execution_count": 247,
   "id": "b28eb44d",
   "metadata": {},
   "outputs": [
    {
     "data": {
      "text/plain": [
       "{'v': 3,\n",
       " 'ts': '2025-06-14T12:36:02.165973+00:00',\n",
       " 'id': '1f0491c2-1b13-697b-801e-239a24351777',\n",
       " 'channel_versions': {'__start__': '00000000000000000000000000000029.0.002982788411043935',\n",
       "  'messages': '00000000000000000000000000000032.0.7417206690130812',\n",
       "  'branch:to:llmwithtool': '00000000000000000000000000000032.0.65797184715696',\n",
       "  'branch:to:mytools': '00000000000000000000000000000031.0.7314267568338941'},\n",
       " 'versions_seen': {'__input__': {},\n",
       "  '__start__': {'__start__': '00000000000000000000000000000028.0.5863856964007071'},\n",
       "  'llmwithtool': {'branch:to:llmwithtool': '00000000000000000000000000000031.0.8045094195712488'},\n",
       "  'mytools': {'branch:to:mytools': '00000000000000000000000000000030.0.9318853845114556'}},\n",
       " 'channel_values': {'messages': [HumanMessage(content='what is a weather in indore?', additional_kwargs={}, response_metadata={}, id='65464282-06c7-4620-bc99-7a7b23e800fe'),\n",
       "   AIMessage(content='', additional_kwargs={'tool_calls': [{'id': 'nvn54mhbs', 'function': {'arguments': '{\"query\":\"Indore weather\"}', 'name': 'search_weather'}, 'type': 'function'}]}, response_metadata={'token_usage': {'completion_tokens': 150, 'prompt_tokens': 133, 'total_tokens': 283, 'completion_time': 0.768753106, 'prompt_time': 0.008963767, 'queue_time': 0.064663016, 'total_time': 0.777716873}, 'model_name': 'deepseek-r1-distill-llama-70b', 'system_fingerprint': 'fp_1bbe7845ec', 'finish_reason': 'tool_calls', 'logprobs': None}, id='run--cc3bd273-c48c-4f50-8174-1eb902c383dd-0', tool_calls=[{'name': 'search_weather', 'args': {'query': 'Indore weather'}, 'id': 'nvn54mhbs', 'type': 'tool_call'}], usage_metadata={'input_tokens': 133, 'output_tokens': 150, 'total_tokens': 283}),\n",
       "   ToolMessage(content='temp is 25 degree and cloudy', name='search_weather', id='bad72105-d6ab-4bb6-a6df-0e5b1f963b5d', tool_call_id='nvn54mhbs'),\n",
       "   AIMessage(content='', additional_kwargs={'tool_calls': [{'id': 'bz0hjwh69', 'function': {'arguments': '{\"query\":\"Indore weather\"}', 'name': 'search_weather'}, 'type': 'function'}]}, response_metadata={'token_usage': {'completion_tokens': 190, 'prompt_tokens': 190, 'total_tokens': 380, 'completion_time': 0.764426403, 'prompt_time': 0.011806967, 'queue_time': 0.054130876999999994, 'total_time': 0.77623337}, 'model_name': 'deepseek-r1-distill-llama-70b', 'system_fingerprint': 'fp_1bbe7845ec', 'finish_reason': 'tool_calls', 'logprobs': None}, id='run--1a752c5e-9d28-48c3-8c0c-1cf95b0a854a-0', tool_calls=[{'name': 'search_weather', 'args': {'query': 'Indore weather'}, 'id': 'bz0hjwh69', 'type': 'tool_call'}], usage_metadata={'input_tokens': 190, 'output_tokens': 190, 'total_tokens': 380}),\n",
       "   ToolMessage(content='temp is 25 degree and cloudy', name='search_weather', id='73de9b1f-38b6-48a0-a1a8-176680ae7b93', tool_call_id='bz0hjwh69'),\n",
       "   AIMessage(content='', additional_kwargs={'tool_calls': [{'id': 'm9bhyh2g5', 'function': {'arguments': '{\"query\":\"Indore weather\"}', 'name': 'search_weather'}, 'type': 'function'}]}, response_metadata={'token_usage': {'completion_tokens': 239, 'prompt_tokens': 248, 'total_tokens': 487, 'completion_time': 1.086375862, 'prompt_time': 0.01607523, 'queue_time': 0.057858273, 'total_time': 1.102451092}, 'model_name': 'deepseek-r1-distill-llama-70b', 'system_fingerprint': 'fp_1bbe7845ec', 'finish_reason': 'tool_calls', 'logprobs': None}, id='run--656cdc8b-a214-469e-8ae1-cb6b652d5209-0', tool_calls=[{'name': 'search_weather', 'args': {'query': 'Indore weather'}, 'id': 'm9bhyh2g5', 'type': 'tool_call'}], usage_metadata={'input_tokens': 248, 'output_tokens': 239, 'total_tokens': 487}),\n",
       "   ToolMessage(content='temp is 25 degree and cloudy', name='search_weather', id='ea6e83b0-71af-469c-85be-8dbfb7a9bfef', tool_call_id='m9bhyh2g5'),\n",
       "   AIMessage(content='', additional_kwargs={'tool_calls': [{'id': '7ftx8jfea', 'function': {'arguments': '{\"query\":\"Indore weather\"}', 'name': 'search_weather'}, 'type': 'function'}]}, response_metadata={'token_usage': {'completion_tokens': 124, 'prompt_tokens': 308, 'total_tokens': 432, 'completion_time': 0.550808789, 'prompt_time': 0.027333037, 'queue_time': 0.05675852299999999, 'total_time': 0.578141826}, 'model_name': 'deepseek-r1-distill-llama-70b', 'system_fingerprint': 'fp_1bbe7845ec', 'finish_reason': 'tool_calls', 'logprobs': None}, id='run--38be0c38-26bf-4a83-8e6b-f51e49b47a89-0', tool_calls=[{'name': 'search_weather', 'args': {'query': 'Indore weather'}, 'id': '7ftx8jfea', 'type': 'tool_call'}], usage_metadata={'input_tokens': 308, 'output_tokens': 124, 'total_tokens': 432}),\n",
       "   ToolMessage(content='temp is 25 degree and cloudy', name='search_weather', id='fa2abea8-5cf8-4879-960b-ce579c3a2bc3', tool_call_id='7ftx8jfea'),\n",
       "   AIMessage(content='', additional_kwargs={'tool_calls': [{'id': 'mh093b4rp', 'function': {'arguments': '{\"query\":\"Indore weather\"}', 'name': 'search_weather'}, 'type': 'function'}]}, response_metadata={'token_usage': {'completion_tokens': 35, 'prompt_tokens': 366, 'total_tokens': 401, 'completion_time': 0.127272727, 'prompt_time': 0.030673647, 'queue_time': 0.057530813, 'total_time': 0.157946374}, 'model_name': 'deepseek-r1-distill-llama-70b', 'system_fingerprint': 'fp_1bbe7845ec', 'finish_reason': 'tool_calls', 'logprobs': None}, id='run--b3052730-ddac-4b25-8fc3-6207c99452b3-0', tool_calls=[{'name': 'search_weather', 'args': {'query': 'Indore weather'}, 'id': 'mh093b4rp', 'type': 'tool_call'}], usage_metadata={'input_tokens': 366, 'output_tokens': 35, 'total_tokens': 401}),\n",
       "   ToolMessage(content='temp is 25 degree and cloudy', name='search_weather', id='6a033cec-f312-4606-9a65-144d4a57687f', tool_call_id='mh093b4rp'),\n",
       "   AIMessage(content='', additional_kwargs={'tool_calls': [{'id': 'y7t3ety9j', 'function': {'arguments': '{\"query\":\"Indore weather\"}', 'name': 'search_weather'}, 'type': 'function'}]}, response_metadata={'token_usage': {'completion_tokens': 98, 'prompt_tokens': 423, 'total_tokens': 521, 'completion_time': 0.538635549, 'prompt_time': 0.030621497, 'queue_time': 0.061902844, 'total_time': 0.569257046}, 'model_name': 'deepseek-r1-distill-llama-70b', 'system_fingerprint': 'fp_1bbe7845ec', 'finish_reason': 'tool_calls', 'logprobs': None}, id='run--44b1d9e6-54d8-495f-af3f-bc1c38235ad1-0', tool_calls=[{'name': 'search_weather', 'args': {'query': 'Indore weather'}, 'id': 'y7t3ety9j', 'type': 'tool_call'}], usage_metadata={'input_tokens': 423, 'output_tokens': 98, 'total_tokens': 521}),\n",
       "   ToolMessage(content='temp is 25 degree and cloudy', name='search_weather', id='77c3b43a-5800-4dc5-a1d0-aa28264ba0c1', tool_call_id='y7t3ety9j'),\n",
       "   AIMessage(content='', additional_kwargs={'tool_calls': [{'id': 'mw8s0d5nx', 'function': {'arguments': '{\"query\":\"Indore weather\"}', 'name': 'search_weather'}, 'type': 'function'}]}, response_metadata={'token_usage': {'completion_tokens': 59, 'prompt_tokens': 482, 'total_tokens': 541, 'completion_time': 0.214545455, 'prompt_time': 0.041110678, 'queue_time': 0.057854683000000004, 'total_time': 0.255656133}, 'model_name': 'deepseek-r1-distill-llama-70b', 'system_fingerprint': 'fp_1bbe7845ec', 'finish_reason': 'tool_calls', 'logprobs': None}, id='run--fa041055-9758-419c-9ffe-70cd89642841-0', tool_calls=[{'name': 'search_weather', 'args': {'query': 'Indore weather'}, 'id': 'mw8s0d5nx', 'type': 'tool_call'}], usage_metadata={'input_tokens': 482, 'output_tokens': 59, 'total_tokens': 541}),\n",
       "   ToolMessage(content='temp is 25 degree and cloudy', name='search_weather', id='35a2e9ad-2b2f-42cb-b8b8-cb3610ad0fba', tool_call_id='mw8s0d5nx'),\n",
       "   AIMessage(content='', additional_kwargs={'tool_calls': [{'id': 'ap89q06hz', 'function': {'arguments': '{\"query\":\"Indore weather\"}', 'name': 'search_weather'}, 'type': 'function'}]}, response_metadata={'token_usage': {'completion_tokens': 183, 'prompt_tokens': 541, 'total_tokens': 724, 'completion_time': 0.791660431, 'prompt_time': 0.042731338, 'queue_time': 0.054257212000000006, 'total_time': 0.834391769}, 'model_name': 'deepseek-r1-distill-llama-70b', 'system_fingerprint': 'fp_1bbe7845ec', 'finish_reason': 'tool_calls', 'logprobs': None}, id='run--3bb31ecc-2201-42e7-9c00-c7bfb0a87486-0', tool_calls=[{'name': 'search_weather', 'args': {'query': 'Indore weather'}, 'id': 'ap89q06hz', 'type': 'tool_call'}], usage_metadata={'input_tokens': 541, 'output_tokens': 183, 'total_tokens': 724}),\n",
       "   ToolMessage(content='temp is 25 degree and cloudy', name='search_weather', id='5c6d0ede-d7c1-4f02-97a6-b1de99c24e51', tool_call_id='ap89q06hz'),\n",
       "   AIMessage(content='', additional_kwargs={'tool_calls': [{'id': 'beqwzssdd', 'function': {'arguments': '{\"query\":\"Indore weather\"}', 'name': 'search_weather'}, 'type': 'function'}]}, response_metadata={'token_usage': {'completion_tokens': 249, 'prompt_tokens': 598, 'total_tokens': 847, 'completion_time': 1.079670433, 'prompt_time': 0.038941327, 'queue_time': 0.053705893000000005, 'total_time': 1.11861176}, 'model_name': 'deepseek-r1-distill-llama-70b', 'system_fingerprint': 'fp_1bbe7845ec', 'finish_reason': 'tool_calls', 'logprobs': None}, id='run--be8fdeeb-4ac6-426e-a24d-f5899ceeed64-0', tool_calls=[{'name': 'search_weather', 'args': {'query': 'Indore weather'}, 'id': 'beqwzssdd', 'type': 'tool_call'}], usage_metadata={'input_tokens': 598, 'output_tokens': 249, 'total_tokens': 847}),\n",
       "   ToolMessage(content='temp is 25 degree and cloudy', name='search_weather', id='461aa75b-cd06-4ebd-9d17-18dd71469051', tool_call_id='beqwzssdd'),\n",
       "   AIMessage(content='', additional_kwargs={'tool_calls': [{'id': 'ykmavep88', 'function': {'arguments': '{\"query\":\"Indore weather\"}', 'name': 'search_weather'}, 'type': 'function'}]}, response_metadata={'token_usage': {'completion_tokens': 60, 'prompt_tokens': 655, 'total_tokens': 715, 'completion_time': 0.218181818, 'prompt_time': 0.042750819, 'queue_time': 0.057323231999999995, 'total_time': 0.260932637}, 'model_name': 'deepseek-r1-distill-llama-70b', 'system_fingerprint': 'fp_1bbe7845ec', 'finish_reason': 'tool_calls', 'logprobs': None}, id='run--70fa790c-df61-41fd-afbc-42866255cc34-0', tool_calls=[{'name': 'search_weather', 'args': {'query': 'Indore weather'}, 'id': 'ykmavep88', 'type': 'tool_call'}], usage_metadata={'input_tokens': 655, 'output_tokens': 60, 'total_tokens': 715}),\n",
       "   ToolMessage(content='temp is 25 degree and cloudy', name='search_weather', id='9dde8d7e-a4ea-41ef-8491-f28edcffe059', tool_call_id='ykmavep88'),\n",
       "   AIMessage(content='', additional_kwargs={'tool_calls': [{'id': 'nmtqw7n6f', 'function': {'arguments': '{\"query\":\"Indore weather\"}', 'name': 'search_weather'}, 'type': 'function'}]}, response_metadata={'token_usage': {'completion_tokens': 151, 'prompt_tokens': 712, 'total_tokens': 863, 'completion_time': 0.549090909, 'prompt_time': 0.046817625, 'queue_time': 0.054678715, 'total_time': 0.595908534}, 'model_name': 'deepseek-r1-distill-llama-70b', 'system_fingerprint': 'fp_1bbe7845ec', 'finish_reason': 'tool_calls', 'logprobs': None}, id='run--8c2f2c8e-74ea-41e4-857f-5b78281ce872-0', tool_calls=[{'name': 'search_weather', 'args': {'query': 'Indore weather'}, 'id': 'nmtqw7n6f', 'type': 'tool_call'}], usage_metadata={'input_tokens': 712, 'output_tokens': 151, 'total_tokens': 863}),\n",
       "   ToolMessage(content='temp is 25 degree and cloudy', name='search_weather', id='a829b977-62cc-49c4-87b2-10b4d1ae043f', tool_call_id='nmtqw7n6f'),\n",
       "   AIMessage(content='', additional_kwargs={'tool_calls': [{'id': 'm499c46ff', 'function': {'arguments': '{\"query\":\"Indore weather\"}', 'name': 'search_weather'}, 'type': 'function'}]}, response_metadata={'token_usage': {'completion_tokens': 35, 'prompt_tokens': 771, 'total_tokens': 806, 'completion_time': 0.13404583, 'prompt_time': 0.057708549, 'queue_time': 0.057334101, 'total_time': 0.191754379}, 'model_name': 'deepseek-r1-distill-llama-70b', 'system_fingerprint': 'fp_1bbe7845ec', 'finish_reason': 'tool_calls', 'logprobs': None}, id='run--57fb6936-200b-43c0-bfd7-1ac95caf9c57-0', tool_calls=[{'name': 'search_weather', 'args': {'query': 'Indore weather'}, 'id': 'm499c46ff', 'type': 'tool_call'}], usage_metadata={'input_tokens': 771, 'output_tokens': 35, 'total_tokens': 806}),\n",
       "   ToolMessage(content='temp is 25 degree and cloudy', name='search_weather', id='147c07e2-c8d3-434e-bda9-321a5d059c46', tool_call_id='m499c46ff'),\n",
       "   AIMessage(content='', additional_kwargs={'tool_calls': [{'id': '8crrfsqca', 'function': {'arguments': '{\"query\":\"Indore weather\"}', 'name': 'search_weather'}, 'type': 'function'}]}, response_metadata={'token_usage': {'completion_tokens': 35, 'prompt_tokens': 828, 'total_tokens': 863, 'completion_time': 0.141621143, 'prompt_time': 0.05541883, 'queue_time': 0.08207628, 'total_time': 0.197039973}, 'model_name': 'deepseek-r1-distill-llama-70b', 'system_fingerprint': 'fp_1bbe7845ec', 'finish_reason': 'tool_calls', 'logprobs': None}, id='run--de2b6651-1b72-4503-8e06-630f6a5981c7-0', tool_calls=[{'name': 'search_weather', 'args': {'query': 'Indore weather'}, 'id': '8crrfsqca', 'type': 'tool_call'}], usage_metadata={'input_tokens': 828, 'output_tokens': 35, 'total_tokens': 863}),\n",
       "   HumanMessage(content='what is a weather in indore?', additional_kwargs={}, response_metadata={}, id='f893d6e9-df81-4024-ad85-8ca9300c40f9'),\n",
       "   AIMessage(content='', additional_kwargs={'tool_calls': [{'id': 'wjh8z67ph', 'function': {'arguments': '{\"query\":\"Indore weather\"}', 'name': 'search_weather'}, 'type': 'function'}]}, response_metadata={'token_usage': {'completion_tokens': 165, 'prompt_tokens': 866, 'total_tokens': 1031, 'completion_time': 1.238534035, 'prompt_time': 0.068477164, 'queue_time': 0.054368365, 'total_time': 1.307011199}, 'model_name': 'deepseek-r1-distill-llama-70b', 'system_fingerprint': 'fp_1bbe7845ec', 'finish_reason': 'tool_calls', 'logprobs': None}, id='run--425b8c1c-65d3-44a0-b4c2-b1c1fae00b61-0', tool_calls=[{'name': 'search_weather', 'args': {'query': 'Indore weather'}, 'id': 'wjh8z67ph', 'type': 'tool_call'}], usage_metadata={'input_tokens': 866, 'output_tokens': 165, 'total_tokens': 1031}),\n",
       "   ToolMessage(content='temp is 25 degree and cloudy', name='search_weather', id='e63126e6-018b-475e-9028-570a78a043f4', tool_call_id='wjh8z67ph'),\n",
       "   AIMessage(content=\"The weather in Indore is currently 25 degrees Celsius with cloudy skies. It's advisable to check for any updates or changes in the weather forecast for the day.\", additional_kwargs={}, response_metadata={'token_usage': {'completion_tokens': 423, 'prompt_tokens': 924, 'total_tokens': 1347, 'completion_time': 2.069812794, 'prompt_time': 0.12067059, 'queue_time': 1.394590679, 'total_time': 2.190483384}, 'model_name': 'deepseek-r1-distill-llama-70b', 'system_fingerprint': 'fp_1bbe7845ec', 'finish_reason': 'stop', 'logprobs': None}, id='run--94d98ffa-f093-4ab9-9fb6-35bc625f03c1-0', usage_metadata={'input_tokens': 924, 'output_tokens': 423, 'total_tokens': 1347})]},\n",
       " 'pending_sends': []}"
      ]
     },
     "execution_count": 247,
     "metadata": {},
     "output_type": "execute_result"
    }
   ],
   "source": [
    "memory.get(config)"
   ]
  },
  {
   "cell_type": "code",
   "execution_count": 248,
   "id": "dbb24b66",
   "metadata": {},
   "outputs": [
    {
     "name": "stdout",
     "output_type": "stream",
     "text": [
      "================================\u001b[1m Human Message \u001b[0m=================================\n",
      "\n",
      "in which city the temp was 25 degree?\n",
      "llm response:  content='The temperature of 25 degrees was in **Indore**, and it was cloudy.' additional_kwargs={} response_metadata={'token_usage': {'completion_tokens': 195, 'prompt_tokens': 937, 'total_tokens': 1132, 'completion_time': 0.948201134, 'prompt_time': 0.068510863, 'queue_time': 0.053958147, 'total_time': 1.016711997}, 'model_name': 'deepseek-r1-distill-llama-70b', 'system_fingerprint': 'fp_1bbe7845ec', 'finish_reason': 'stop', 'logprobs': None} id='run--943e2415-4156-4c41-a839-50c64aecc793-0' usage_metadata={'input_tokens': 937, 'output_tokens': 195, 'total_tokens': 1132}\n",
      "==================================\u001b[1m Ai Message \u001b[0m==================================\n",
      "\n",
      "The temperature of 25 degrees was in **Indore**, and it was cloudy.\n"
     ]
    }
   ],
   "source": [
    "events=app4.stream(\n",
    "    {\"messages\":[\"in which city the temp was 25 degree?\"]},config=config,stream_mode=\"values\"\n",
    "    )\n",
    "\n",
    "for event in events:\n",
    "    event[\"messages\"][-1].pretty_print()"
   ]
  },
  {
   "cell_type": "code",
   "execution_count": 249,
   "id": "63bef1d4",
   "metadata": {},
   "outputs": [
    {
     "data": {
      "text/plain": [
       "{'v': 3,\n",
       " 'ts': '2025-06-14T12:36:24.378166+00:00',\n",
       " 'id': '1f0491c2-eee8-6948-8021-98d2cddced40',\n",
       " 'channel_versions': {'__start__': '00000000000000000000000000000034.0.47882717454277846',\n",
       "  'messages': '00000000000000000000000000000035.0.4638350013528528',\n",
       "  'branch:to:llmwithtool': '00000000000000000000000000000035.0.9706161290353885',\n",
       "  'branch:to:mytools': '00000000000000000000000000000031.0.7314267568338941'},\n",
       " 'versions_seen': {'__input__': {},\n",
       "  '__start__': {'__start__': '00000000000000000000000000000033.0.38564476499524736'},\n",
       "  'llmwithtool': {'branch:to:llmwithtool': '00000000000000000000000000000034.0.6782688272832293'},\n",
       "  'mytools': {'branch:to:mytools': '00000000000000000000000000000030.0.9318853845114556'}},\n",
       " 'channel_values': {'messages': [HumanMessage(content='what is a weather in indore?', additional_kwargs={}, response_metadata={}, id='65464282-06c7-4620-bc99-7a7b23e800fe'),\n",
       "   AIMessage(content='', additional_kwargs={'tool_calls': [{'id': 'nvn54mhbs', 'function': {'arguments': '{\"query\":\"Indore weather\"}', 'name': 'search_weather'}, 'type': 'function'}]}, response_metadata={'token_usage': {'completion_tokens': 150, 'prompt_tokens': 133, 'total_tokens': 283, 'completion_time': 0.768753106, 'prompt_time': 0.008963767, 'queue_time': 0.064663016, 'total_time': 0.777716873}, 'model_name': 'deepseek-r1-distill-llama-70b', 'system_fingerprint': 'fp_1bbe7845ec', 'finish_reason': 'tool_calls', 'logprobs': None}, id='run--cc3bd273-c48c-4f50-8174-1eb902c383dd-0', tool_calls=[{'name': 'search_weather', 'args': {'query': 'Indore weather'}, 'id': 'nvn54mhbs', 'type': 'tool_call'}], usage_metadata={'input_tokens': 133, 'output_tokens': 150, 'total_tokens': 283}),\n",
       "   ToolMessage(content='temp is 25 degree and cloudy', name='search_weather', id='bad72105-d6ab-4bb6-a6df-0e5b1f963b5d', tool_call_id='nvn54mhbs'),\n",
       "   AIMessage(content='', additional_kwargs={'tool_calls': [{'id': 'bz0hjwh69', 'function': {'arguments': '{\"query\":\"Indore weather\"}', 'name': 'search_weather'}, 'type': 'function'}]}, response_metadata={'token_usage': {'completion_tokens': 190, 'prompt_tokens': 190, 'total_tokens': 380, 'completion_time': 0.764426403, 'prompt_time': 0.011806967, 'queue_time': 0.054130876999999994, 'total_time': 0.77623337}, 'model_name': 'deepseek-r1-distill-llama-70b', 'system_fingerprint': 'fp_1bbe7845ec', 'finish_reason': 'tool_calls', 'logprobs': None}, id='run--1a752c5e-9d28-48c3-8c0c-1cf95b0a854a-0', tool_calls=[{'name': 'search_weather', 'args': {'query': 'Indore weather'}, 'id': 'bz0hjwh69', 'type': 'tool_call'}], usage_metadata={'input_tokens': 190, 'output_tokens': 190, 'total_tokens': 380}),\n",
       "   ToolMessage(content='temp is 25 degree and cloudy', name='search_weather', id='73de9b1f-38b6-48a0-a1a8-176680ae7b93', tool_call_id='bz0hjwh69'),\n",
       "   AIMessage(content='', additional_kwargs={'tool_calls': [{'id': 'm9bhyh2g5', 'function': {'arguments': '{\"query\":\"Indore weather\"}', 'name': 'search_weather'}, 'type': 'function'}]}, response_metadata={'token_usage': {'completion_tokens': 239, 'prompt_tokens': 248, 'total_tokens': 487, 'completion_time': 1.086375862, 'prompt_time': 0.01607523, 'queue_time': 0.057858273, 'total_time': 1.102451092}, 'model_name': 'deepseek-r1-distill-llama-70b', 'system_fingerprint': 'fp_1bbe7845ec', 'finish_reason': 'tool_calls', 'logprobs': None}, id='run--656cdc8b-a214-469e-8ae1-cb6b652d5209-0', tool_calls=[{'name': 'search_weather', 'args': {'query': 'Indore weather'}, 'id': 'm9bhyh2g5', 'type': 'tool_call'}], usage_metadata={'input_tokens': 248, 'output_tokens': 239, 'total_tokens': 487}),\n",
       "   ToolMessage(content='temp is 25 degree and cloudy', name='search_weather', id='ea6e83b0-71af-469c-85be-8dbfb7a9bfef', tool_call_id='m9bhyh2g5'),\n",
       "   AIMessage(content='', additional_kwargs={'tool_calls': [{'id': '7ftx8jfea', 'function': {'arguments': '{\"query\":\"Indore weather\"}', 'name': 'search_weather'}, 'type': 'function'}]}, response_metadata={'token_usage': {'completion_tokens': 124, 'prompt_tokens': 308, 'total_tokens': 432, 'completion_time': 0.550808789, 'prompt_time': 0.027333037, 'queue_time': 0.05675852299999999, 'total_time': 0.578141826}, 'model_name': 'deepseek-r1-distill-llama-70b', 'system_fingerprint': 'fp_1bbe7845ec', 'finish_reason': 'tool_calls', 'logprobs': None}, id='run--38be0c38-26bf-4a83-8e6b-f51e49b47a89-0', tool_calls=[{'name': 'search_weather', 'args': {'query': 'Indore weather'}, 'id': '7ftx8jfea', 'type': 'tool_call'}], usage_metadata={'input_tokens': 308, 'output_tokens': 124, 'total_tokens': 432}),\n",
       "   ToolMessage(content='temp is 25 degree and cloudy', name='search_weather', id='fa2abea8-5cf8-4879-960b-ce579c3a2bc3', tool_call_id='7ftx8jfea'),\n",
       "   AIMessage(content='', additional_kwargs={'tool_calls': [{'id': 'mh093b4rp', 'function': {'arguments': '{\"query\":\"Indore weather\"}', 'name': 'search_weather'}, 'type': 'function'}]}, response_metadata={'token_usage': {'completion_tokens': 35, 'prompt_tokens': 366, 'total_tokens': 401, 'completion_time': 0.127272727, 'prompt_time': 0.030673647, 'queue_time': 0.057530813, 'total_time': 0.157946374}, 'model_name': 'deepseek-r1-distill-llama-70b', 'system_fingerprint': 'fp_1bbe7845ec', 'finish_reason': 'tool_calls', 'logprobs': None}, id='run--b3052730-ddac-4b25-8fc3-6207c99452b3-0', tool_calls=[{'name': 'search_weather', 'args': {'query': 'Indore weather'}, 'id': 'mh093b4rp', 'type': 'tool_call'}], usage_metadata={'input_tokens': 366, 'output_tokens': 35, 'total_tokens': 401}),\n",
       "   ToolMessage(content='temp is 25 degree and cloudy', name='search_weather', id='6a033cec-f312-4606-9a65-144d4a57687f', tool_call_id='mh093b4rp'),\n",
       "   AIMessage(content='', additional_kwargs={'tool_calls': [{'id': 'y7t3ety9j', 'function': {'arguments': '{\"query\":\"Indore weather\"}', 'name': 'search_weather'}, 'type': 'function'}]}, response_metadata={'token_usage': {'completion_tokens': 98, 'prompt_tokens': 423, 'total_tokens': 521, 'completion_time': 0.538635549, 'prompt_time': 0.030621497, 'queue_time': 0.061902844, 'total_time': 0.569257046}, 'model_name': 'deepseek-r1-distill-llama-70b', 'system_fingerprint': 'fp_1bbe7845ec', 'finish_reason': 'tool_calls', 'logprobs': None}, id='run--44b1d9e6-54d8-495f-af3f-bc1c38235ad1-0', tool_calls=[{'name': 'search_weather', 'args': {'query': 'Indore weather'}, 'id': 'y7t3ety9j', 'type': 'tool_call'}], usage_metadata={'input_tokens': 423, 'output_tokens': 98, 'total_tokens': 521}),\n",
       "   ToolMessage(content='temp is 25 degree and cloudy', name='search_weather', id='77c3b43a-5800-4dc5-a1d0-aa28264ba0c1', tool_call_id='y7t3ety9j'),\n",
       "   AIMessage(content='', additional_kwargs={'tool_calls': [{'id': 'mw8s0d5nx', 'function': {'arguments': '{\"query\":\"Indore weather\"}', 'name': 'search_weather'}, 'type': 'function'}]}, response_metadata={'token_usage': {'completion_tokens': 59, 'prompt_tokens': 482, 'total_tokens': 541, 'completion_time': 0.214545455, 'prompt_time': 0.041110678, 'queue_time': 0.057854683000000004, 'total_time': 0.255656133}, 'model_name': 'deepseek-r1-distill-llama-70b', 'system_fingerprint': 'fp_1bbe7845ec', 'finish_reason': 'tool_calls', 'logprobs': None}, id='run--fa041055-9758-419c-9ffe-70cd89642841-0', tool_calls=[{'name': 'search_weather', 'args': {'query': 'Indore weather'}, 'id': 'mw8s0d5nx', 'type': 'tool_call'}], usage_metadata={'input_tokens': 482, 'output_tokens': 59, 'total_tokens': 541}),\n",
       "   ToolMessage(content='temp is 25 degree and cloudy', name='search_weather', id='35a2e9ad-2b2f-42cb-b8b8-cb3610ad0fba', tool_call_id='mw8s0d5nx'),\n",
       "   AIMessage(content='', additional_kwargs={'tool_calls': [{'id': 'ap89q06hz', 'function': {'arguments': '{\"query\":\"Indore weather\"}', 'name': 'search_weather'}, 'type': 'function'}]}, response_metadata={'token_usage': {'completion_tokens': 183, 'prompt_tokens': 541, 'total_tokens': 724, 'completion_time': 0.791660431, 'prompt_time': 0.042731338, 'queue_time': 0.054257212000000006, 'total_time': 0.834391769}, 'model_name': 'deepseek-r1-distill-llama-70b', 'system_fingerprint': 'fp_1bbe7845ec', 'finish_reason': 'tool_calls', 'logprobs': None}, id='run--3bb31ecc-2201-42e7-9c00-c7bfb0a87486-0', tool_calls=[{'name': 'search_weather', 'args': {'query': 'Indore weather'}, 'id': 'ap89q06hz', 'type': 'tool_call'}], usage_metadata={'input_tokens': 541, 'output_tokens': 183, 'total_tokens': 724}),\n",
       "   ToolMessage(content='temp is 25 degree and cloudy', name='search_weather', id='5c6d0ede-d7c1-4f02-97a6-b1de99c24e51', tool_call_id='ap89q06hz'),\n",
       "   AIMessage(content='', additional_kwargs={'tool_calls': [{'id': 'beqwzssdd', 'function': {'arguments': '{\"query\":\"Indore weather\"}', 'name': 'search_weather'}, 'type': 'function'}]}, response_metadata={'token_usage': {'completion_tokens': 249, 'prompt_tokens': 598, 'total_tokens': 847, 'completion_time': 1.079670433, 'prompt_time': 0.038941327, 'queue_time': 0.053705893000000005, 'total_time': 1.11861176}, 'model_name': 'deepseek-r1-distill-llama-70b', 'system_fingerprint': 'fp_1bbe7845ec', 'finish_reason': 'tool_calls', 'logprobs': None}, id='run--be8fdeeb-4ac6-426e-a24d-f5899ceeed64-0', tool_calls=[{'name': 'search_weather', 'args': {'query': 'Indore weather'}, 'id': 'beqwzssdd', 'type': 'tool_call'}], usage_metadata={'input_tokens': 598, 'output_tokens': 249, 'total_tokens': 847}),\n",
       "   ToolMessage(content='temp is 25 degree and cloudy', name='search_weather', id='461aa75b-cd06-4ebd-9d17-18dd71469051', tool_call_id='beqwzssdd'),\n",
       "   AIMessage(content='', additional_kwargs={'tool_calls': [{'id': 'ykmavep88', 'function': {'arguments': '{\"query\":\"Indore weather\"}', 'name': 'search_weather'}, 'type': 'function'}]}, response_metadata={'token_usage': {'completion_tokens': 60, 'prompt_tokens': 655, 'total_tokens': 715, 'completion_time': 0.218181818, 'prompt_time': 0.042750819, 'queue_time': 0.057323231999999995, 'total_time': 0.260932637}, 'model_name': 'deepseek-r1-distill-llama-70b', 'system_fingerprint': 'fp_1bbe7845ec', 'finish_reason': 'tool_calls', 'logprobs': None}, id='run--70fa790c-df61-41fd-afbc-42866255cc34-0', tool_calls=[{'name': 'search_weather', 'args': {'query': 'Indore weather'}, 'id': 'ykmavep88', 'type': 'tool_call'}], usage_metadata={'input_tokens': 655, 'output_tokens': 60, 'total_tokens': 715}),\n",
       "   ToolMessage(content='temp is 25 degree and cloudy', name='search_weather', id='9dde8d7e-a4ea-41ef-8491-f28edcffe059', tool_call_id='ykmavep88'),\n",
       "   AIMessage(content='', additional_kwargs={'tool_calls': [{'id': 'nmtqw7n6f', 'function': {'arguments': '{\"query\":\"Indore weather\"}', 'name': 'search_weather'}, 'type': 'function'}]}, response_metadata={'token_usage': {'completion_tokens': 151, 'prompt_tokens': 712, 'total_tokens': 863, 'completion_time': 0.549090909, 'prompt_time': 0.046817625, 'queue_time': 0.054678715, 'total_time': 0.595908534}, 'model_name': 'deepseek-r1-distill-llama-70b', 'system_fingerprint': 'fp_1bbe7845ec', 'finish_reason': 'tool_calls', 'logprobs': None}, id='run--8c2f2c8e-74ea-41e4-857f-5b78281ce872-0', tool_calls=[{'name': 'search_weather', 'args': {'query': 'Indore weather'}, 'id': 'nmtqw7n6f', 'type': 'tool_call'}], usage_metadata={'input_tokens': 712, 'output_tokens': 151, 'total_tokens': 863}),\n",
       "   ToolMessage(content='temp is 25 degree and cloudy', name='search_weather', id='a829b977-62cc-49c4-87b2-10b4d1ae043f', tool_call_id='nmtqw7n6f'),\n",
       "   AIMessage(content='', additional_kwargs={'tool_calls': [{'id': 'm499c46ff', 'function': {'arguments': '{\"query\":\"Indore weather\"}', 'name': 'search_weather'}, 'type': 'function'}]}, response_metadata={'token_usage': {'completion_tokens': 35, 'prompt_tokens': 771, 'total_tokens': 806, 'completion_time': 0.13404583, 'prompt_time': 0.057708549, 'queue_time': 0.057334101, 'total_time': 0.191754379}, 'model_name': 'deepseek-r1-distill-llama-70b', 'system_fingerprint': 'fp_1bbe7845ec', 'finish_reason': 'tool_calls', 'logprobs': None}, id='run--57fb6936-200b-43c0-bfd7-1ac95caf9c57-0', tool_calls=[{'name': 'search_weather', 'args': {'query': 'Indore weather'}, 'id': 'm499c46ff', 'type': 'tool_call'}], usage_metadata={'input_tokens': 771, 'output_tokens': 35, 'total_tokens': 806}),\n",
       "   ToolMessage(content='temp is 25 degree and cloudy', name='search_weather', id='147c07e2-c8d3-434e-bda9-321a5d059c46', tool_call_id='m499c46ff'),\n",
       "   AIMessage(content='', additional_kwargs={'tool_calls': [{'id': '8crrfsqca', 'function': {'arguments': '{\"query\":\"Indore weather\"}', 'name': 'search_weather'}, 'type': 'function'}]}, response_metadata={'token_usage': {'completion_tokens': 35, 'prompt_tokens': 828, 'total_tokens': 863, 'completion_time': 0.141621143, 'prompt_time': 0.05541883, 'queue_time': 0.08207628, 'total_time': 0.197039973}, 'model_name': 'deepseek-r1-distill-llama-70b', 'system_fingerprint': 'fp_1bbe7845ec', 'finish_reason': 'tool_calls', 'logprobs': None}, id='run--de2b6651-1b72-4503-8e06-630f6a5981c7-0', tool_calls=[{'name': 'search_weather', 'args': {'query': 'Indore weather'}, 'id': '8crrfsqca', 'type': 'tool_call'}], usage_metadata={'input_tokens': 828, 'output_tokens': 35, 'total_tokens': 863}),\n",
       "   HumanMessage(content='what is a weather in indore?', additional_kwargs={}, response_metadata={}, id='f893d6e9-df81-4024-ad85-8ca9300c40f9'),\n",
       "   AIMessage(content='', additional_kwargs={'tool_calls': [{'id': 'wjh8z67ph', 'function': {'arguments': '{\"query\":\"Indore weather\"}', 'name': 'search_weather'}, 'type': 'function'}]}, response_metadata={'token_usage': {'completion_tokens': 165, 'prompt_tokens': 866, 'total_tokens': 1031, 'completion_time': 1.238534035, 'prompt_time': 0.068477164, 'queue_time': 0.054368365, 'total_time': 1.307011199}, 'model_name': 'deepseek-r1-distill-llama-70b', 'system_fingerprint': 'fp_1bbe7845ec', 'finish_reason': 'tool_calls', 'logprobs': None}, id='run--425b8c1c-65d3-44a0-b4c2-b1c1fae00b61-0', tool_calls=[{'name': 'search_weather', 'args': {'query': 'Indore weather'}, 'id': 'wjh8z67ph', 'type': 'tool_call'}], usage_metadata={'input_tokens': 866, 'output_tokens': 165, 'total_tokens': 1031}),\n",
       "   ToolMessage(content='temp is 25 degree and cloudy', name='search_weather', id='e63126e6-018b-475e-9028-570a78a043f4', tool_call_id='wjh8z67ph'),\n",
       "   AIMessage(content=\"The weather in Indore is currently 25 degrees Celsius with cloudy skies. It's advisable to check for any updates or changes in the weather forecast for the day.\", additional_kwargs={}, response_metadata={'token_usage': {'completion_tokens': 423, 'prompt_tokens': 924, 'total_tokens': 1347, 'completion_time': 2.069812794, 'prompt_time': 0.12067059, 'queue_time': 1.394590679, 'total_time': 2.190483384}, 'model_name': 'deepseek-r1-distill-llama-70b', 'system_fingerprint': 'fp_1bbe7845ec', 'finish_reason': 'stop', 'logprobs': None}, id='run--94d98ffa-f093-4ab9-9fb6-35bc625f03c1-0', usage_metadata={'input_tokens': 924, 'output_tokens': 423, 'total_tokens': 1347}),\n",
       "   HumanMessage(content='in which city the temp was 25 degree?', additional_kwargs={}, response_metadata={}, id='de9619a1-1b67-40ba-8b56-4153c4963f89'),\n",
       "   AIMessage(content='The temperature of 25 degrees was in **Indore**, and it was cloudy.', additional_kwargs={}, response_metadata={'token_usage': {'completion_tokens': 195, 'prompt_tokens': 937, 'total_tokens': 1132, 'completion_time': 0.948201134, 'prompt_time': 0.068510863, 'queue_time': 0.053958147, 'total_time': 1.016711997}, 'model_name': 'deepseek-r1-distill-llama-70b', 'system_fingerprint': 'fp_1bbe7845ec', 'finish_reason': 'stop', 'logprobs': None}, id='run--943e2415-4156-4c41-a839-50c64aecc793-0', usage_metadata={'input_tokens': 937, 'output_tokens': 195, 'total_tokens': 1132})]},\n",
       " 'pending_sends': []}"
      ]
     },
     "execution_count": 249,
     "metadata": {},
     "output_type": "execute_result"
    }
   ],
   "source": [
    "memory.get(config)"
   ]
  },
  {
   "cell_type": "code",
   "execution_count": null,
   "id": "a074c11c",
   "metadata": {},
   "outputs": [],
   "source": []
  },
  {
   "cell_type": "code",
   "execution_count": null,
   "id": "b1d735cf",
   "metadata": {},
   "outputs": [],
   "source": []
  }
 ],
 "metadata": {
  "kernelspec": {
   "display_name": "Python 3",
   "language": "python",
   "name": "python3"
  },
  "language_info": {
   "codemirror_mode": {
    "name": "ipython",
    "version": 3
   },
   "file_extension": ".py",
   "mimetype": "text/x-python",
   "name": "python",
   "nbconvert_exporter": "python",
   "pygments_lexer": "ipython3",
   "version": "3.13.2"
  }
 },
 "nbformat": 4,
 "nbformat_minor": 5
}
