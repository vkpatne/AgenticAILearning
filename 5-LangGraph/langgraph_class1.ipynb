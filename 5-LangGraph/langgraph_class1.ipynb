{
 "cells": [
  {
   "cell_type": "markdown",
   "id": "21dcd1ec",
   "metadata": {},
   "source": [
    "## LangGraph"
   ]
  },
  {
   "cell_type": "code",
   "execution_count": 17,
   "id": "3a5f5da2",
   "metadata": {},
   "outputs": [
    {
     "data": {
      "text/plain": [
       "True"
      ]
     },
     "execution_count": 17,
     "metadata": {},
     "output_type": "execute_result"
    }
   ],
   "source": [
    "import os\n",
    "from dotenv import load_dotenv\n",
    "load_dotenv()"
   ]
  },
  {
   "cell_type": "code",
   "execution_count": 1,
   "id": "2291b921",
   "metadata": {},
   "outputs": [],
   "source": [
    "def function1(input1):\n",
    "    return input1 + \" from 1st funtion\"\n",
    "    \n",
    "def function2(input2):\n",
    "    return input2 + \" and now it is merged to 2nd funtion\"\n",
    "\n",
    "def function3(input3):\n",
    "    pass"
   ]
  },
  {
   "cell_type": "code",
   "execution_count": 2,
   "id": "65f9c114",
   "metadata": {},
   "outputs": [
    {
     "data": {
      "text/plain": [
       "'vijay from 1st funtion'"
      ]
     },
     "execution_count": 2,
     "metadata": {},
     "output_type": "execute_result"
    }
   ],
   "source": [
    "function1(\"vijay\")"
   ]
  },
  {
   "cell_type": "code",
   "execution_count": 3,
   "id": "db2a9ec3",
   "metadata": {},
   "outputs": [],
   "source": [
    "from langgraph.graph import Graph"
   ]
  },
  {
   "cell_type": "code",
   "execution_count": 4,
   "id": "597c67ba",
   "metadata": {},
   "outputs": [],
   "source": [
    "workflow1=Graph()"
   ]
  },
  {
   "cell_type": "code",
   "execution_count": 5,
   "id": "8eca51e2",
   "metadata": {},
   "outputs": [
    {
     "data": {
      "text/plain": [
       "<langgraph.graph.graph.Graph at 0x265394c17f0>"
      ]
     },
     "execution_count": 5,
     "metadata": {},
     "output_type": "execute_result"
    }
   ],
   "source": [
    "workflow1.add_node(\"fun1\",function1)\n",
    "workflow1.add_node(\"fun2\",function2)"
   ]
  },
  {
   "cell_type": "code",
   "execution_count": 6,
   "id": "b95c1a5e",
   "metadata": {},
   "outputs": [
    {
     "data": {
      "text/plain": [
       "<langgraph.graph.graph.Graph at 0x265394c17f0>"
      ]
     },
     "execution_count": 6,
     "metadata": {},
     "output_type": "execute_result"
    }
   ],
   "source": [
    "workflow1.add_edge(\"fun1\",\"fun2\")"
   ]
  },
  {
   "cell_type": "code",
   "execution_count": 7,
   "id": "06583a53",
   "metadata": {},
   "outputs": [
    {
     "data": {
      "text/plain": [
       "<langgraph.graph.graph.Graph at 0x265394c17f0>"
      ]
     },
     "execution_count": 7,
     "metadata": {},
     "output_type": "execute_result"
    }
   ],
   "source": [
    "## entry and exist points\n",
    "workflow1.set_entry_point(\"fun1\")\n",
    "workflow1.set_finish_point(\"fun2\")"
   ]
  },
  {
   "cell_type": "code",
   "execution_count": 8,
   "id": "f22b6766",
   "metadata": {},
   "outputs": [],
   "source": [
    "app=workflow1.compile()\n"
   ]
  },
  {
   "cell_type": "code",
   "execution_count": 9,
   "id": "6a5f90f1",
   "metadata": {},
   "outputs": [],
   "source": [
    "from IPython.display import Image, display"
   ]
  },
  {
   "cell_type": "code",
   "execution_count": 10,
   "id": "f9dd847e",
   "metadata": {},
   "outputs": [
    {
     "data": {
      "image/png": "[encoded data removed]",
      "text/plain": [
       "<IPython.core.display.Image object>"
      ]
     },
     "metadata": {},
     "output_type": "display_data"
    }
   ],
   "source": [
    "display(Image(app.get_graph().draw_mermaid_png()))"
   ]
  },
  {
   "cell_type": "code",
   "execution_count": 11,
   "id": "81caa4c1",
   "metadata": {},
   "outputs": [
    {
     "data": {
      "text/plain": [
       "'vijay from 1st funtion and now it is merged to 2nd funtion'"
      ]
     },
     "execution_count": 11,
     "metadata": {},
     "output_type": "execute_result"
    }
   ],
   "source": [
    "## Now lets execute the app\n",
    "\n",
    "app.invoke(\"vijay\")"
   ]
  },
  {
   "cell_type": "code",
   "execution_count": 12,
   "id": "8d88bfb6",
   "metadata": {},
   "outputs": [],
   "source": [
    "## lets visulize output from each function\n"
   ]
  },
  {
   "cell_type": "code",
   "execution_count": 20,
   "id": "7d0ccd67",
   "metadata": {},
   "outputs": [],
   "source": [
    "def llm(input):\n",
    "    os.environ[\"GOOGLE_API_KEY\"]=os.getenv(\"GOOGLE_API_KEY\")\n",
    "    from langchain_google_genai import ChatGoogleGenerativeAI\n",
    "    model=ChatGoogleGenerativeAI(model=\"gemini-1.5-flash\")\n",
    "    output=model.invoke(input)\n",
    "    return output.content"
   ]
  },
  {
   "cell_type": "code",
   "execution_count": 21,
   "id": "a159f6f3",
   "metadata": {},
   "outputs": [],
   "source": [
    "def token_counter(input):\n",
    "    tokens=input.split()\n",
    "    token_number=len(tokens)\n",
    "    return f\"total no of tokens in the answer is : {token_number}\"\n",
    "    "
   ]
  },
  {
   "cell_type": "code",
   "execution_count": 22,
   "id": "9a49d922",
   "metadata": {},
   "outputs": [
    {
     "data": {
      "image/png": "[encoded data removed]",
      "text/plain": [
       "<IPython.core.display.Image object>"
      ]
     },
     "metadata": {},
     "output_type": "display_data"
    }
   ],
   "source": [
    "workflow2=Graph()\n",
    "workflow2.add_node(\"My_LLM\",llm)\n",
    "workflow2.add_node(\"Token_conter\", token_counter)\n",
    "workflow2.add_edge(\"My_LLM\",\"Token_conter\")\n",
    "\n",
    "workflow2.set_entry_point(\"My_LLM\")\n",
    "workflow2.set_finish_point(\"Token_conter\")\n",
    "\n",
    "app2=workflow2.compile()\n",
    "\n",
    "display(Image(app2.get_graph().draw_mermaid_png()))\n"
   ]
  },
  {
   "cell_type": "code",
   "execution_count": 23,
   "id": "31dafca3",
   "metadata": {},
   "outputs": [
    {
     "data": {
      "text/plain": [
       "'total no of tokens in the answer is : 49'"
      ]
     },
     "execution_count": 23,
     "metadata": {},
     "output_type": "execute_result"
    }
   ],
   "source": [
    "app2.invoke(\"can you tell about india capital\")"
   ]
  },
  {
   "cell_type": "code",
   "execution_count": 28,
   "id": "49848e42",
   "metadata": {},
   "outputs": [
    {
     "name": "stdout",
     "output_type": "stream",
     "text": [
      "here is output from My_LLM\n",
      "_______\n",
      "India's capital is **New Delhi**.  While the city is often referred to simply as Delhi,  New Delhi is the official capital territory,  a planned city built within the larger historical city of Delhi.  New Delhi serves as the seat of the Indian government, housing important buildings like the Parliament House, Rashtrapati Bhavan (President's House), and various ministries.\n",
      "\n",
      "\n",
      "here is output from Token_conter\n",
      "_______\n",
      "total no of tokens in the answer is : 57\n",
      "\n",
      "\n"
     ]
    }
   ],
   "source": [
    "for output in app2.stream(\"can you tell about india capital\"):\n",
    "    for key,value in output.items():\n",
    "        print(f\"here is output from {key}\")\n",
    "        print(\"_______\")\n",
    "        print(value)\n",
    "        print(\"\\n\")"
   ]
  },
  {
   "cell_type": "code",
   "execution_count": null,
   "id": "58e1abdc",
   "metadata": {},
   "outputs": [],
   "source": []
  }
 ],
 "metadata": {
  "kernelspec": {
   "display_name": "Python 3",
   "language": "python",
   "name": "python3"
  },
  "language_info": {
   "codemirror_mode": {
    "name": "ipython",
    "version": 3
   },
   "file_extension": ".py",
   "mimetype": "text/x-python",
   "name": "python",
   "nbconvert_exporter": "python",
   "pygments_lexer": "ipython3",
   "version": "3.13.2"
  }
 },
 "nbformat": 4,
 "nbformat_minor": 5
}
