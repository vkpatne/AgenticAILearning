{
 "cells": [
  {
   "cell_type": "code",
   "execution_count": 71,
   "id": "6ea58ce4",
   "metadata": {},
   "outputs": [
    {
     "data": {
      "text/plain": [
       "'<think>\\n\\n</think>\\n\\nHello! How can I assist you today?'"
      ]
     },
     "execution_count": 71,
     "metadata": {},
     "output_type": "execute_result"
    }
   ],
   "source": [
    "from langchain_groq import ChatGroq\n",
    "llm=ChatGroq(model=\"deepseek-r1-distill-llama-70b\")\n",
    "llm.invoke(\"hi\").content"
   ]
  },
  {
   "cell_type": "code",
   "execution_count": 72,
   "id": "ece9790d",
   "metadata": {},
   "outputs": [],
   "source": [
    "from langchain.tools import tool"
   ]
  },
  {
   "cell_type": "markdown",
   "id": "18b7440f",
   "metadata": {},
   "source": [
    "#### These are my custome tools"
   ]
  },
  {
   "cell_type": "code",
   "execution_count": 73,
   "id": "f45a8c5b",
   "metadata": {},
   "outputs": [],
   "source": [
    "@tool\n",
    "def multiply(a: int, b: int) -> int:\n",
    "    \"\"\"\n",
    "    Multiply two integers.\n",
    "\n",
    "    Args:\n",
    "        a (int): The first integer.\n",
    "        b (int): The second integer.\n",
    "\n",
    "    Returns:\n",
    "        int: The product of a and b.\n",
    "    \"\"\"\n",
    "    return a * b\n",
    "\n",
    "@tool\n",
    "def add(a: int, b: int) -> int:\n",
    "    \"\"\"\n",
    "    Add two integers.\n",
    "\n",
    "    Args:\n",
    "        a (int): The first integer.\n",
    "        b (int): The second integer.\n",
    "\n",
    "    Returns:\n",
    "        int: The sum of a and b.\n",
    "    \"\"\"\n",
    "    return a + b\n",
    "\n",
    "@tool\n",
    "def divide(a: int, b: int) -> float:\n",
    "    \"\"\"\n",
    "    Divide two integers.\n",
    "\n",
    "    Args:\n",
    "        a (int): The numerator.\n",
    "        b (int): The denominator (must not be 0).\n",
    "\n",
    "    Returns:\n",
    "        float: The result of division.\n",
    "    \"\"\"\n",
    "    if b == 0:\n",
    "        raise ValueError(\"Denominator cannot be zero.\")\n",
    "    return a / b"
   ]
  },
  {
   "cell_type": "markdown",
   "id": "1bf21a7e",
   "metadata": {},
   "source": [
    "#### importing inbuilt tool"
   ]
  },
  {
   "cell_type": "code",
   "execution_count": 74,
   "id": "a83b6dfb",
   "metadata": {},
   "outputs": [],
   "source": [
    "from langchain_community.tools import DuckDuckGoSearchRun\n",
    "search=DuckDuckGoSearchRun()"
   ]
  },
  {
   "cell_type": "code",
   "execution_count": 75,
   "id": "219ea725",
   "metadata": {},
   "outputs": [
    {
     "data": {
      "text/plain": [
       "\"Scheduled for docking on January 7, the mission faced delays as Isro said it needed more time to conduct simulations before the docking. This prompted a rescheduling to January 9, but further adjustments were necessary to ensure the safety and precision of the experimental satellites.The two spacecraft, named SDX01 (Chaser) and SDX02 (Target), were launched on December 30, 2024, aboard the ... Isro's ambitious Space Docking Experiment (SpaDeX) mission has reached a critical stage with the two satellites now positioned at a crucial proximity point. Listen to Story Isro has successfully arrested the satellites' drift at an Inter Satellite Distance (ISD) of 230 metres, with both spacecraft ... The Indian Space Research Organisation (Isro) is set to launch its 'Space Docking Experiment' (SpaDex) mission at 10 pm tonight. Using the Isro's PSLV-C60, the mission will deploy two 220-kg satellites into a 740 km orbit to demonstrate satellite docking. This milestone is crucial for future space missions, including lunar exploration and the development of India's space station ... In a historic achievement, the Space Docking Experiment (SpaDeX) mission's docking operation was successfully completed on 16 th January, 2025 marking India's entry into the elite group of nations capable of executing space docking operations.With this success, India becomes the fourth country in the world to achieve this technological feat.ISRO started the mission on 30 th December 2024 ... NEW DELHI: The Indian Space Research Organisation (ISRO) is set to reach a historic milestone with its 100th rocket launch from the Satish Dhawan Space Centre in January, ISRO Chairman S Somanath ...\""
      ]
     },
     "execution_count": 75,
     "metadata": {},
     "output_type": "execute_result"
    }
   ],
   "source": [
    "search.invoke(\"what is the latest on ISRO?\")"
   ]
  },
  {
   "cell_type": "code",
   "execution_count": 76,
   "id": "b0272199",
   "metadata": {},
   "outputs": [],
   "source": [
    "tools=[multiply,add,divide,search]"
   ]
  },
  {
   "cell_type": "code",
   "execution_count": 77,
   "id": "cc200c64",
   "metadata": {},
   "outputs": [],
   "source": [
    "## llm now has capability which tool needs to be called \n",
    "llm_with_tools=llm.bind_tools(tools)"
   ]
  },
  {
   "cell_type": "code",
   "execution_count": 78,
   "id": "a4500a5e",
   "metadata": {},
   "outputs": [
    {
     "data": {
      "text/plain": [
       "\"It seems like you're trying to demonstrate how to call one of the functions, but I need more details to assist you properly. Could you please clarify which function you'd like to use and provide the necessary arguments?\""
      ]
     },
     "execution_count": 78,
     "metadata": {},
     "output_type": "execute_result"
    }
   ],
   "source": [
    "response1=llm_with_tools.invoke(\"hi\")\n",
    "response1.content"
   ]
  },
  {
   "cell_type": "code",
   "execution_count": 79,
   "id": "4a6949ec",
   "metadata": {},
   "outputs": [
    {
     "data": {
      "text/plain": [
       "[]"
      ]
     },
     "execution_count": 79,
     "metadata": {},
     "output_type": "execute_result"
    }
   ],
   "source": [
    "## there is not tool call for hi\n",
    "response1.tool_calls"
   ]
  },
  {
   "cell_type": "code",
   "execution_count": 80,
   "id": "3449c1ea",
   "metadata": {},
   "outputs": [
    {
     "data": {
      "text/plain": [
       "''"
      ]
     },
     "execution_count": 80,
     "metadata": {},
     "output_type": "execute_result"
    }
   ],
   "source": [
    "response2=llm_with_tools.invoke(\"what is 2 +2\")\n",
    "response2.content"
   ]
  },
  {
   "cell_type": "code",
   "execution_count": 81,
   "id": "582a6e9d",
   "metadata": {},
   "outputs": [
    {
     "data": {
      "text/plain": [
       "[{'name': 'add',\n",
       "  'args': {'a': 2, 'b': 2},\n",
       "  'id': 's2dtmargq',\n",
       "  'type': 'tool_call'}]"
      ]
     },
     "execution_count": 81,
     "metadata": {},
     "output_type": "execute_result"
    }
   ],
   "source": [
    "## here LLM called the tool automatically\n",
    "response2.tool_calls"
   ]
  },
  {
   "cell_type": "code",
   "execution_count": 82,
   "id": "8d54c780",
   "metadata": {},
   "outputs": [
    {
     "data": {
      "text/plain": [
       "''"
      ]
     },
     "execution_count": 82,
     "metadata": {},
     "output_type": "execute_result"
    }
   ],
   "source": [
    "response3=llm_with_tools.invoke(\"what is current age of Naredra Modi\")\n",
    "response3.content\n",
    "\n",
    "## whenever LLM decide to call a tool content is empty\n",
    "## tool is not called yet"
   ]
  },
  {
   "cell_type": "code",
   "execution_count": 83,
   "id": "c28a5809",
   "metadata": {},
   "outputs": [
    {
     "data": {
      "text/plain": [
       "[{'name': 'duckduckgo_search',\n",
       "  'args': {'query': 'current age of Narendra Modi'},\n",
       "  'id': 'zxseb0bkb',\n",
       "  'type': 'tool_call'}]"
      ]
     },
     "execution_count": 83,
     "metadata": {},
     "output_type": "execute_result"
    }
   ],
   "source": [
    "response3.tool_calls"
   ]
  },
  {
   "cell_type": "code",
   "execution_count": 84,
   "id": "1b5a9cbc",
   "metadata": {},
   "outputs": [],
   "source": [
    "from langchain_core.messages import HumanMessage,SystemMessage\n",
    "from langgraph.graph import MessagesState,StateGraph,END,START\n",
    "from langgraph.prebuilt import ToolNode, tools_condition"
   ]
  },
  {
   "cell_type": "code",
   "execution_count": 85,
   "id": "d6371cd1",
   "metadata": {},
   "outputs": [],
   "source": [
    "SYSTEM_PROMT=\"You are a healpful assistant tasked with using search and performing arithmatic on a set of inputs.\""
   ]
  },
  {
   "cell_type": "code",
   "execution_count": 106,
   "id": "8d523131",
   "metadata": {},
   "outputs": [],
   "source": [
    "def fun_decision(state:MessagesState):\n",
    "    user_question=state[\"messages\"]\n",
    "    input_question=[SYSTEM_PROMT]+user_question\n",
    "    response=llm_with_tools.invoke(input_question)\n",
    "\n",
    "    return{\n",
    "        \"messages\":[response]\n",
    "    }"
   ]
  },
  {
   "cell_type": "code",
   "execution_count": 107,
   "id": "40618324",
   "metadata": {},
   "outputs": [
    {
     "data": {
      "image/png": "[encoded data removed]",
      "text/plain": [
       "<IPython.core.display.Image object>"
      ]
     },
     "metadata": {},
     "output_type": "display_data"
    }
   ],
   "source": [
    "builder=StateGraph(MessagesState)\n",
    "\n",
    "builder.add_node(\"llm_decision_step\",fun_decision)\n",
    "builder.add_node(\"tools\",ToolNode(tools))\n",
    "\n",
    "builder.add_edge(START,\"llm_decision_step\")\n",
    "\n",
    "# tools_condition is inbuilt router\n",
    "builder.add_conditional_edges(\n",
    "    \"llm_decision_step\",\n",
    "    tools_condition\n",
    "    )\n",
    "\n",
    "builder.add_edge(\"tools\",\"llm_decision_step\")\n",
    "\n",
    "react_graph=builder.compile()\n",
    "\n",
    "from IPython.display import Image, display\n",
    "display(Image(react_graph.get_graph().draw_mermaid_png()))"
   ]
  },
  {
   "cell_type": "code",
   "execution_count": null,
   "id": "12966d2d",
   "metadata": {},
   "outputs": [
    {
     "data": {
      "text/plain": [
       "{'messages': [HumanMessage(content='what is 2 times of naredra modi age?', additional_kwargs={}, response_metadata={}, id='f2a7f39c-ff8d-4e5e-a389-cfd9b9f19207'),\n",
       "  AIMessage(content='', additional_kwargs={'tool_calls': [{'id': 'qy95t6eta', 'function': {'arguments': '{\"a\":73,\"b\":2}', 'name': 'multiply'}, 'type': 'function'}]}, response_metadata={'token_usage': {'completion_tokens': 156, 'prompt_tokens': 427, 'total_tokens': 583, 'completion_time': 0.567272727, 'prompt_time': 0.035249441, 'queue_time': 0.056829750000000005, 'total_time': 0.602522168}, 'model_name': 'deepseek-r1-distill-llama-70b', 'system_fingerprint': 'fp_1bbe7845ec', 'finish_reason': 'tool_calls', 'logprobs': None}, id='run--e9603353-98dd-40aa-ba1a-0f7cdeafced1-0', tool_calls=[{'name': 'multiply', 'args': {'a': 73, 'b': 2}, 'id': 'qy95t6eta', 'type': 'tool_call'}], usage_metadata={'input_tokens': 427, 'output_tokens': 156, 'total_tokens': 583}),\n",
       "  ToolMessage(content='146', name='multiply', id='f7776368-93da-4893-8ac2-14349c22866c', tool_call_id='qy95t6eta'),\n",
       "  AIMessage(content='', additional_kwargs={'tool_calls': [{'id': 'k7da8xyqq', 'function': {'arguments': '{\"a\":73,\"b\":2}', 'name': 'multiply'}, 'type': 'function'}]}, response_metadata={'token_usage': {'completion_tokens': 117, 'prompt_tokens': 480, 'total_tokens': 597, 'completion_time': 0.425454545, 'prompt_time': 0.038068568, 'queue_time': 0.057207562, 'total_time': 0.463523113}, 'model_name': 'deepseek-r1-distill-llama-70b', 'system_fingerprint': 'fp_1bbe7845ec', 'finish_reason': 'tool_calls', 'logprobs': None}, id='run--513bc203-1afe-4849-a442-309f15ed0f8e-0', tool_calls=[{'name': 'multiply', 'args': {'a': 73, 'b': 2}, 'id': 'k7da8xyqq', 'type': 'tool_call'}], usage_metadata={'input_tokens': 480, 'output_tokens': 117, 'total_tokens': 597}),\n",
       "  ToolMessage(content='146', name='multiply', id='bf87b8ff-9b98-4d5f-b4c0-aa96548c029a', tool_call_id='k7da8xyqq'),\n",
       "  AIMessage(content=\"To find 2 times Narendra Modi's age, we first determine his age as of 2023, which is 73 years old. Then, we multiply this age by 2:\\n\\n\\\\[\\n73 \\\\times 2 = 146\\n\\\\]\\n\\nSo, 2 times Narendra Modi's age is \\\\boxed{146}.\", additional_kwargs={}, response_metadata={'token_usage': {'completion_tokens': 464, 'prompt_tokens': 533, 'total_tokens': 997, 'completion_time': 1.746293234, 'prompt_time': 0.042171142, 'queue_time': 0.057027798, 'total_time': 1.7884643759999999}, 'model_name': 'deepseek-r1-distill-llama-70b', 'system_fingerprint': 'fp_1bbe7845ec', 'finish_reason': 'stop', 'logprobs': None}, id='run--b6c301ac-a8ff-4531-83cf-fbe236f5d90d-0', usage_metadata={'input_tokens': 533, 'output_tokens': 464, 'total_tokens': 997})]}"
      ]
     },
     "execution_count": 108,
     "metadata": {},
     "output_type": "execute_result"
    }
   ],
   "source": [
    "message=[HumanMessage(content=\"what is 2 times of naredra modi age?\")]\n",
    "\n",
    "react_graph.invoke({\"messages\":message})\n",
    "\n",
    "## here only multiply tool called ## because LLM know the age"
   ]
  },
  {
   "cell_type": "code",
   "execution_count": 110,
   "id": "ad950461",
   "metadata": {},
   "outputs": [
    {
     "data": {
      "text/plain": [
       "{'messages': [HumanMessage(content='what is half of mukesh ambani wealth?', additional_kwargs={}, response_metadata={}, id='e5ebc20b-388d-417e-a5e7-edc7df81e5a6'),\n",
       "  AIMessage(content='', additional_kwargs={'tool_calls': [{'id': '6jqsvdn7q', 'function': {'arguments': '{\"query\":\"Mukesh Ambani net worth 2023\"}', 'name': 'duckduckgo_search'}, 'type': 'function'}]}, response_metadata={'token_usage': {'completion_tokens': 191, 'prompt_tokens': 425, 'total_tokens': 616, 'completion_time': 0.694545455, 'prompt_time': 0.02721085, 'queue_time': 0.053395370000000004, 'total_time': 0.721756305}, 'model_name': 'deepseek-r1-distill-llama-70b', 'system_fingerprint': 'fp_1bbe7845ec', 'finish_reason': 'tool_calls', 'logprobs': None}, id='run--5319151c-7310-42fd-a320-25103fd17805-0', tool_calls=[{'name': 'duckduckgo_search', 'args': {'query': 'Mukesh Ambani net worth 2023'}, 'id': '6jqsvdn7q', 'type': 'tool_call'}], usage_metadata={'input_tokens': 425, 'output_tokens': 191, 'total_tokens': 616}),\n",
       "  ToolMessage(content='#18 Mukesh Ambani on the 2025 Billionaires ... In July 2023, Reliance listed its finance arm, Jio Financial Services. ... HOVER TO REVEAL NET WORTH BY YEAR. Forbes Lists #18. Billionaires (2025) #1. Richest People in India: According to Forbes\\' India\\'s 100 Richest List, Mukesh Ambani is the richest person in India with a net worth of $119.5 billion.However, the current net worth of Ambani ... Jio Financials Services was spun-out of Reliance Industries on July 20, 2023 on a 1:1 distribution to shareholders. He owns about 43% of the company directly and through a promoter group ... According to Bloomberg data, Mukesh Ambani\\'s net worth is USD 103 billion. So far this year, Ambani\\'s net worth has increased by USD 12.8 billion. ... 2023 on a 1:1 distribution to shareholders. He owns about 43% of the company directly and through a promoter group, according to a January 2025 filing,\" the Bloomberg said. 2023: $94 Billion ₹7.7 Lakh Crore: 2022: $78 Billion ₹6.1 Lakh Crore: 2021: $50 Billion ₹3.92 Lakh Crore: 2020: $36 Billion ₹2.89 Lakh Crore: A Small Drop in Ambani\\'s Wealth. At the end of 2024, Mukesh Ambani\\'s net worth went down to about $96.7 billion in December. This happened because Reliance\\'s share prices fell. The company ...', name='duckduckgo_search', id='2d2e5314-1404-42f0-91d4-40b8fcf4945d', tool_call_id='6jqsvdn7q'),\n",
       "  AIMessage(content='', additional_kwargs={'tool_calls': [{'id': 'd77a95ew2', 'function': {'arguments': '{\"a\":1030000000000,\"b\":2}', 'name': 'divide'}, 'type': 'function'}]}, response_metadata={'token_usage': {'completion_tokens': 255, 'prompt_tokens': 1663, 'total_tokens': 1918, 'completion_time': 0.927272727, 'prompt_time': 0.12288715, 'queue_time': -1.1709070799999999, 'total_time': 1.050159877}, 'model_name': 'deepseek-r1-distill-llama-70b', 'system_fingerprint': 'fp_1bbe7845ec', 'finish_reason': 'tool_calls', 'logprobs': None}, id='run--689c2f37-55e3-458a-9334-b1ff6bd893b7-0', tool_calls=[{'name': 'divide', 'args': {'a': 1030000000000, 'b': 2}, 'id': 'd77a95ew2', 'type': 'tool_call'}], usage_metadata={'input_tokens': 1663, 'output_tokens': 255, 'total_tokens': 1918}),\n",
       "  ToolMessage(content='515000000000.0', name='divide', id='00deaea6-a956-4021-98da-783bf1f435b0', tool_call_id='d77a95ew2'),\n",
       "  AIMessage(content=\"\\n\\nHalf of Mukesh Ambani's wealth is approximately $515 billion.\", additional_kwargs={}, response_metadata={'token_usage': {'completion_tokens': 16, 'prompt_tokens': 894, 'total_tokens': 910, 'completion_time': 0.070912606, 'prompt_time': 0.065656302, 'queue_time': 0.054410325999999995, 'total_time': 0.136568908}, 'model_name': 'deepseek-r1-distill-llama-70b', 'system_fingerprint': 'fp_1bbe7845ec', 'finish_reason': 'stop', 'logprobs': None}, id='run--50c54759-197c-404b-a0f1-8bf553bd78fb-0', usage_metadata={'input_tokens': 894, 'output_tokens': 16, 'total_tokens': 910})]}"
      ]
     },
     "execution_count": 110,
     "metadata": {},
     "output_type": "execute_result"
    }
   ],
   "source": [
    "message=[HumanMessage(content=\"what is half of mukesh ambani wealth?\")]\n",
    "\n",
    "react_graph.invoke({\"messages\":message})\n",
    "\n",
    "## here duckduckgo_search and divide tool called ## because LLM does not the wealth"
   ]
  },
  {
   "cell_type": "markdown",
   "id": "e7b68760",
   "metadata": {},
   "source": []
  },
  {
   "cell_type": "markdown",
   "id": "160fa78c",
   "metadata": {},
   "source": [
    "## Finance Tool Example"
   ]
  },
  {
   "cell_type": "code",
   "execution_count": 112,
   "id": "82da440c",
   "metadata": {},
   "outputs": [],
   "source": [
    "import yfinance as yf"
   ]
  },
  {
   "cell_type": "code",
   "execution_count": 113,
   "id": "a54ee60f",
   "metadata": {},
   "outputs": [],
   "source": [
    "\n",
    "@tool\n",
    "def get_stock_price(ticker:str)->str:\n",
    "    \"\"\"\n",
    "    Fetches the previous closing price of a given stock ticker from Yahoo Finance.\n",
    "\n",
    "    Args:\n",
    "        ticker (str): The stock ticker symbol (e.g., 'AAPL', 'TSLA', 'NIFTY.BO').\n",
    "\n",
    "    Returns:\n",
    "        str: A message with the stock's previous closing price.\n",
    "    \"\"\"\n",
    "    try:\n",
    "        stock = yf.Ticker(ticker)\n",
    "        price = stock.info.get('previousClose')\n",
    "        if price is None:\n",
    "            return f\"Could not fetch price for ticker '{ticker}'.\"\n",
    "        return f\"The last closing price of {ticker.upper()} was ${price:.2f}.\"\n",
    "    except Exception as e:\n",
    "        return f\"An error occurred while fetching stock data: {str(e)}\""
   ]
  },
  {
   "cell_type": "code",
   "execution_count": 114,
   "id": "29f11abd",
   "metadata": {},
   "outputs": [
    {
     "data": {
      "text/plain": [
       "'The last closing price of AAPL was $199.20.'"
      ]
     },
     "execution_count": 114,
     "metadata": {},
     "output_type": "execute_result"
    }
   ],
   "source": [
    "get_stock_price.invoke(\"AAPL\")"
   ]
  },
  {
   "cell_type": "code",
   "execution_count": 115,
   "id": "db8b9ebd",
   "metadata": {},
   "outputs": [],
   "source": [
    "tools.append(get_stock_price)"
   ]
  },
  {
   "cell_type": "code",
   "execution_count": 116,
   "id": "b1d55ce0",
   "metadata": {},
   "outputs": [
    {
     "data": {
      "text/plain": [
       "[StructuredTool(name='multiply', description='Multiply two integers.\\n\\nArgs:\\n    a (int): The first integer.\\n    b (int): The second integer.\\n\\nReturns:\\n    int: The product of a and b.', args_schema=<class 'langchain_core.utils.pydantic.multiply'>, func=<function multiply at 0x000001E268292340>),\n",
       " StructuredTool(name='add', description='Add two integers.\\n\\nArgs:\\n    a (int): The first integer.\\n    b (int): The second integer.\\n\\nReturns:\\n    int: The sum of a and b.', args_schema=<class 'langchain_core.utils.pydantic.add'>, func=<function add at 0x000001E268291620>),\n",
       " StructuredTool(name='divide', description='Divide two integers.\\n\\nArgs:\\n    a (int): The numerator.\\n    b (int): The denominator (must not be 0).\\n\\nReturns:\\n    float: The result of division.', args_schema=<class 'langchain_core.utils.pydantic.divide'>, func=<function divide at 0x000001E2682925C0>),\n",
       " DuckDuckGoSearchRun(api_wrapper=DuckDuckGoSearchAPIWrapper(region='wt-wt', safesearch='moderate', time='y', max_results=5, backend='auto', source='text')),\n",
       " StructuredTool(name='get_stock_price', description=\"Fetches the previous closing price of a given stock ticker from Yahoo Finance.\\n\\nArgs:\\n    ticker (str): The stock ticker symbol (e.g., 'AAPL', 'TSLA', 'NIFTY.BO').\\n\\nReturns:\\n    str: A message with the stock's previous closing price.\", args_schema=<class 'langchain_core.utils.pydantic.get_stock_price'>, func=<function get_stock_price at 0x000001E26A3F79C0>)]"
      ]
     },
     "execution_count": 116,
     "metadata": {},
     "output_type": "execute_result"
    }
   ],
   "source": [
    "tools"
   ]
  },
  {
   "cell_type": "code",
   "execution_count": 117,
   "id": "369c3e81",
   "metadata": {},
   "outputs": [],
   "source": [
    "llm_with_tools=llm.bind_tools(tools)"
   ]
  },
  {
   "cell_type": "code",
   "execution_count": 118,
   "id": "0c9c6f74",
   "metadata": {},
   "outputs": [],
   "source": [
    "response=llm_with_tools.invoke(\"can you give me a latest stock price of adani greens?\")"
   ]
  },
  {
   "cell_type": "code",
   "execution_count": 120,
   "id": "cb8c0e15",
   "metadata": {},
   "outputs": [
    {
     "data": {
      "text/plain": [
       "''"
      ]
     },
     "execution_count": 120,
     "metadata": {},
     "output_type": "execute_result"
    }
   ],
   "source": [
    "response.content"
   ]
  },
  {
   "cell_type": "code",
   "execution_count": 121,
   "id": "f1d64afd",
   "metadata": {},
   "outputs": [
    {
     "data": {
      "text/plain": [
       "[{'name': 'get_stock_price',\n",
       "  'args': {'ticker': 'ADANIGREEN.BO'},\n",
       "  'id': 'nyn3nmh6d',\n",
       "  'type': 'tool_call'}]"
      ]
     },
     "execution_count": 121,
     "metadata": {},
     "output_type": "execute_result"
    }
   ],
   "source": [
    "response.tool_calls"
   ]
  },
  {
   "cell_type": "code",
   "execution_count": 137,
   "id": "d72e92ad",
   "metadata": {},
   "outputs": [],
   "source": [
    "SYSTEM_PROMT= SystemMessage(content=\"You are a healpful assistant tasked with using search, the yahoo finance tool and performing arithmatic on a set of inputs.\")\n",
    "\n",
    "def fun_finance(state:MessagesState):\n",
    "    \n",
    "    user_question=state[\"messages\"]\n",
    "    \n",
    "    input_question = [SYSTEM_PROMT]+user_question\n",
    "    \n",
    "    response = llm_with_tools.invoke(input_question)\n",
    "    \n",
    "    return {\n",
    "        \"messages\":[response]\n",
    "    }"
   ]
  },
  {
   "cell_type": "code",
   "execution_count": 138,
   "id": "5fcbc468",
   "metadata": {},
   "outputs": [],
   "source": [
    "workflow=StateGraph(MessagesState)\n",
    "\n",
    "workflow.add_node(\"llm_decision_step\",fun_finance)\n",
    "workflow.add_node(\"tools\",ToolNode(tools))\n",
    "\n",
    "workflow.add_edge(START,\"llm_decision_step\")\n",
    "workflow.add_conditional_edges(\"llm_decision_step\",tools_condition)\n",
    "\n",
    "workflow.add_edge(\"tools\",\"llm_decision_step\")\n",
    "\n",
    "react_graph2=workflow.compile()"
   ]
  },
  {
   "cell_type": "code",
   "execution_count": 139,
   "id": "9d4e4022",
   "metadata": {},
   "outputs": [
    {
     "data": {
      "image/png": "[encoded data removed]",
      "text/plain": [
       "<IPython.core.display.Image object>"
      ]
     },
     "metadata": {},
     "output_type": "display_data"
    }
   ],
   "source": [
    "display(Image(react_graph2.get_graph(xray=True).draw_mermaid_png()))"
   ]
  },
  {
   "cell_type": "code",
   "execution_count": 145,
   "id": "f0ff5c9d",
   "metadata": {},
   "outputs": [
    {
     "name": "stdout",
     "output_type": "stream",
     "text": [
      "================================\u001b[1m Human Message \u001b[0m=================================\n",
      "\n",
      "add 1000 in the current stock price of Apple.\n",
      "==================================\u001b[1m Ai Message \u001b[0m==================================\n",
      "Tool Calls:\n",
      "  get_stock_price (8x030fa3h)\n",
      " Call ID: 8x030fa3h\n",
      "  Args:\n",
      "    ticker: AAPL\n",
      "=================================\u001b[1m Tool Message \u001b[0m=================================\n",
      "Name: get_stock_price\n",
      "\n",
      "The last closing price of AAPL was $199.20.\n",
      "==================================\u001b[1m Ai Message \u001b[0m==================================\n",
      "Tool Calls:\n",
      "  get_stock_price (58yg4gpq7)\n",
      " Call ID: 58yg4gpq7\n",
      "  Args:\n",
      "    ticker: AAPL\n",
      "=================================\u001b[1m Tool Message \u001b[0m=================================\n",
      "Name: get_stock_price\n",
      "\n",
      "The last closing price of AAPL was $199.20.\n",
      "==================================\u001b[1m Ai Message \u001b[0m==================================\n",
      "\n",
      "To add 1000 to the current stock price of Apple, follow these steps:\n",
      "\n",
      "1. **Find the current stock price of Apple (AAPL):**\n",
      "   - Use the `get_stock_price` tool with the ticker \"AAPL\" to fetch the previous closing price.\n",
      "   - Response: The last closing price of AAPL was $199.20.\n",
      "\n",
      "2. **Add 1000 to the stock price:**\n",
      "   - $1000 + $199.20 = $1199.20\n",
      "\n",
      "**Final Answer:**\n",
      "The sum of 1000 and the current stock price of Apple is **$1199.20**.\n"
     ]
    }
   ],
   "source": [
    "messages = [HumanMessage(content=\"add 1000 in the current stock price of Apple.\")]\n",
    "results=react_graph2.invoke({\"messages\":messages})\n",
    "\n",
    "for r in results[\"messages\"]:\n",
    "    r.pretty_print()"
   ]
  },
  {
   "cell_type": "code",
   "execution_count": 147,
   "id": "50e1b9be",
   "metadata": {},
   "outputs": [
    {
     "name": "stdout",
     "output_type": "stream",
     "text": [
      "================================\u001b[1m Human Message \u001b[0m=================================\n",
      "\n",
      "can you give me 2 times of current stock price of Apple with the latest news of the Apple.\n",
      "==================================\u001b[1m Ai Message \u001b[0m==================================\n",
      "Tool Calls:\n",
      "  get_stock_price (r5xs5hcg3)\n",
      " Call ID: r5xs5hcg3\n",
      "  Args:\n",
      "    ticker: AAPL\n",
      "=================================\u001b[1m Tool Message \u001b[0m=================================\n",
      "Name: get_stock_price\n",
      "\n",
      "The last closing price of AAPL was $199.20.\n",
      "==================================\u001b[1m Ai Message \u001b[0m==================================\n",
      "Tool Calls:\n",
      "  get_stock_price (5t22zjsd9)\n",
      " Call ID: 5t22zjsd9\n",
      "  Args:\n",
      "    ticker: AAPL\n",
      "=================================\u001b[1m Tool Message \u001b[0m=================================\n",
      "Name: get_stock_price\n",
      "\n",
      "The last closing price of AAPL was $199.20.\n",
      "==================================\u001b[1m Ai Message \u001b[0m==================================\n",
      "Tool Calls:\n",
      "  get_stock_price (70cs52er5)\n",
      " Call ID: 70cs52er5\n",
      "  Args:\n",
      "    ticker: AAPL\n",
      "=================================\u001b[1m Tool Message \u001b[0m=================================\n",
      "Name: get_stock_price\n",
      "\n",
      "The last closing price of AAPL was $199.20.\n",
      "==================================\u001b[1m Ai Message \u001b[0m==================================\n",
      "Tool Calls:\n",
      "  multiply (7xypqwe0y)\n",
      " Call ID: 7xypqwe0y\n",
      "  Args:\n",
      "    a: 2\n",
      "    b: 19920\n",
      "=================================\u001b[1m Tool Message \u001b[0m=================================\n",
      "Name: multiply\n",
      "\n",
      "39840\n",
      "==================================\u001b[1m Ai Message \u001b[0m==================================\n",
      "Tool Calls:\n",
      "  duckduckgo_search (1x82znfve)\n",
      " Call ID: 1x82znfve\n",
      "  Args:\n",
      "    query: latest news of Apple\n",
      "=================================\u001b[1m Tool Message \u001b[0m=================================\n",
      "Name: duckduckgo_search\n",
      "\n",
      "At today's WWDC 2025 keynote event, Apple unveiled a new design that will inform the next decade of iOS, iPadOS, and macOS development, so needless to say, it was a busy day. Apple also unveiled a ... CUPERTINO, CALIFORNIA Apple today previewed a beautiful new software design that makes apps and system experiences more expressive and delightful while being instantly familiar. It's crafted with a new material called Liquid Glass. This translucent material reflects and refracts its surroundings, while dynamically transforming to help bring greater focus to content, delivering a new level of ... New Apple Music playlist features. 10:55am: macOS 26 Tahoe! \"Where crystal clear water meet majestic mountain peaks.\" New design, refined widgets, dock, icons; sidebars and toolbars reflect depth. At its annual Worldwide Developers Conference on Monday, June 9, Apple introduced new feature-rich operating systems sporting a sexy Liquid Glass makeover. And, as expected, the new super-smart ... The Apple Watch, which just turned 10 (hbd, buddy), has some new updates powered by Apple Intelligence. There is a new wrist flick gesture, a pimped out Liquid Glass overhaul, and live ...\n",
      "==================================\u001b[1m Ai Message \u001b[0m==================================\n",
      "Tool Calls:\n",
      "  get_stock_price (qxkt4pw9n)\n",
      " Call ID: qxkt4pw9n\n",
      "  Args:\n",
      "    ticker: AAPL\n",
      "=================================\u001b[1m Tool Message \u001b[0m=================================\n",
      "Name: get_stock_price\n",
      "\n",
      "The last closing price of AAPL was $199.20.\n",
      "==================================\u001b[1m Ai Message \u001b[0m==================================\n",
      "\n",
      "Here’s the current stock price of Apple multiplied by 2, along with the latest news:\n",
      "\n",
      "1. **Current Stock Price of Apple (AAPL):** $199.20\n",
      "2. **2 Times the Stock Price:**  \n",
      "   Using the multiply tool:  \n",
      "   \\( 2 \\times 199.20 = 398.40 \\)\n",
      "3. **Latest News of Apple:**  \n",
      "   At today's WWDC 2025 keynote event, Apple unveiled a new design that will inform the next decade of iOS, iPadOS, and macOS development. This includes a new material called Liquid Glass, which makes apps and system experiences more expressive and delightful. Additionally, Apple introduced new feature-rich operating systems with a Liquid Glass makeover and updates to the Apple Watch, including a new wrist flick gesture and a pimped-out Liquid Glass overhaul.\n"
     ]
    }
   ],
   "source": [
    "messages = [HumanMessage(content=\"can you give me 2 times of current stock price of Apple with the latest news of the Apple.\")]\n",
    "results = react_graph2.invoke({\"messages\":messages})\n",
    "\n",
    "for r in results[\"messages\"]:\n",
    "    r.pretty_print()"
   ]
  },
  {
   "cell_type": "code",
   "execution_count": null,
   "id": "e9944355",
   "metadata": {},
   "outputs": [],
   "source": []
  }
 ],
 "metadata": {
  "kernelspec": {
   "display_name": "Python 3",
   "language": "python",
   "name": "python3"
  },
  "language_info": {
   "codemirror_mode": {
    "name": "ipython",
    "version": 3
   },
   "file_extension": ".py",
   "mimetype": "text/x-python",
   "name": "python",
   "nbconvert_exporter": "python",
   "pygments_lexer": "ipython3",
   "version": "3.13.2"
  }
 },
 "nbformat": 4,
 "nbformat_minor": 5
}
