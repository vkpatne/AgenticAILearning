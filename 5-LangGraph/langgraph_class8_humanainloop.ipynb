{
 "cells": [
  {
   "cell_type": "code",
   "execution_count": 1,
   "id": "312ae5e5",
   "metadata": {},
   "outputs": [
    {
     "data": {
      "text/plain": [
       "True"
      ]
     },
     "execution_count": 1,
     "metadata": {},
     "output_type": "execute_result"
    }
   ],
   "source": [
    "from dotenv import load_dotenv\n",
    "load_dotenv()"
   ]
  },
  {
   "cell_type": "code",
   "execution_count": 2,
   "id": "ac57209e",
   "metadata": {},
   "outputs": [],
   "source": [
    "from langchain_groq import ChatGroq\n",
    "llm=ChatGroq(model=\"deepseek-r1-distill-llama-70b\")"
   ]
  },
  {
   "cell_type": "code",
   "execution_count": 3,
   "id": "63fbc7ee",
   "metadata": {},
   "outputs": [],
   "source": [
    "from langchain_core.tools import tool\n",
    "from langchain_community.tools.tavily_search import TavilySearchResults"
   ]
  },
  {
   "cell_type": "code",
   "execution_count": 4,
   "id": "6beb816c",
   "metadata": {},
   "outputs": [],
   "source": [
    "@tool\n",
    "def multiply(x:int, y:int) -> int:\n",
    "    \"\"\"multiply two numbers.\"\"\"\n",
    "    return x*y;"
   ]
  },
  {
   "cell_type": "code",
   "execution_count": 8,
   "id": "3cfe5a1b",
   "metadata": {},
   "outputs": [],
   "source": [
    "@tool\n",
    "def search(query:str):\n",
    "    \"\"\"Search web for query and return the result.\"\"\"\n",
    "    tavily=TavilySearchResults()\n",
    "    result=tavily.invoke(query)\n",
    "    return f\"Result for {query} is: \\n {result}\""
   ]
  },
  {
   "cell_type": "code",
   "execution_count": 9,
   "id": "6319c7e5",
   "metadata": {},
   "outputs": [
    {
     "name": "stdout",
     "output_type": "stream",
     "text": [
      "Result for what is the capital for india? is: \n",
      " [{'title': 'What is the Capital of India? - Mappr', 'url': 'https://www.mappr.co/capital-cities/india/', 'content': 'What is the Capital of India?\\n=============================\\n\\nNew Delhi is the capital of India. A cosmopolitan city in South Asia, New Delhi is home to a diverse population that speaks many different languages and holds a wide variety of religious beliefs. The city of New Delhi is part of the larger Delhi Metro Area whose population is over 32 million, and it is well-known for its chaotic traffic and large crowds. [...] New Delhi was not always the capital of India. Prior to 1911, Calcutta was the capital city of the country. India was under British rule at this time, and it was decided to move the capital away from Calcutta due to the intense anti-colonial sentiments that existed there.\\n\\nImage 4: A bustling street with various vehicles, roadside billboards, and urban development on both sides.\\n\\nTraffic in New Delhi [...] ### What was the first capital of India?\\n\\nBefore New Delhi was the capital of India, the city of Calcutta (Kolkata) became the nation’s capital in 1772. Various important statesmen and yogis have come from Calcutta, and the city was a center of culture and politics within India from the 18th century onward.\\n\\n### Is New Delhi worth visiting?', 'score': 0.9073207}, {'title': 'What is the Capital of India? - IndiaChakra', 'url': 'https://www.indiachakra.com/what-is-the-capital-of-india/', 'content': 'The official capital of India is New Delhi, a city that serves as the seat of all three branches of the Indian government—executive, legislative, and judiciary. It is home to iconic institutions such as the Parliament of India, the Rashtrapati Bhavan (President’s House), the Supreme Court of India, and various government ministries. While many people use the terms Delhi and New Delhi interchangeably, they are not the same. New Delhi is a part of Delhi, a larger metropolitan region that includes [...] India, a land of diversity and rich heritage, has a capital that embodies its history, governance, and culture—New Delhi. As the seat of the Indian government and an important center for politics, commerce, and tourism, New Delhi holds a significant place in India’s identity. But why was it chosen as the capital? What makes it so special? Let’s explore the fascinating history, culture, and importance of New Delhi, the capital of India.\\n\\n1. What is the Capital of India? [...] Conclusion\\n\\nNew Delhi, the capital of India, is more than just an administrative center—it is a city that represents the heart and soul of the nation. From its historical significance to its modern-day importance, it serves as a bridge between India’s glorious past and its promising future. Whether you’re a history enthusiast, a cultural explorer, or a business traveler, New Delhi has something to offer for everyone.', 'score': 0.8849276}, {'title': 'Which City became the capital of India for a day, Check here', 'url': 'https://www.jagranjosh.com/general-knowledge/which-city-became-the-capital-of-india-for-a-day-1731421925-1', 'content': 'If you are asked what the capital of India is, your answer will be New Delhi, which was settled by the British. Do you know that once in Indian history, a district was made the capital of the country? However, this incident lasted only for a day, after which it was recorded in the pages of history forever. This article will introduce you to one such district in India.', 'score': 0.8773195}, {'title': 'What is the Capital of India? New Delhi - Countryaah.com', 'url': 'https://www.countryaah.com/india-faqs/', 'content': 'Country by Country FAQs / Country Guides / India\\n\\nWhat is the Capital of India? New Delhi\\n=======================================\\n\\nby countryaah · Published June 2, 2019 · Updated November 6, 2024\\n\\nImage 3: India New Delhi [...] sk_SKImage 41: sl_SIImage 42: sr_RSImage 43: sv_SEImage 44: swImage 45: thImage 46: tlImage 47: tr_TRImage 48: ukImage 49: viImage 50: zh_CNImage 51: zh_TW [...] [](\\n\\nAll Countries in the World © 2024. All Rights Reserved.\\n\\n✓\\n\\nThanks for sharing!\\n\\nAddToAny\\n\\nMore…', 'score': 0.87681407}, {'title': 'New Delhi - Wikipedia', 'url': 'https://en.wikipedia.org/wiki/New_Delhi', 'content': 'Appearance\\n\\nmove to sidebar hide\\n\\nCoordinates: 28°36′50″N 77°12′32″E / 28.61389°N 77.20889°E / 28.61389; 77.20889\\n\\nImage 4: Page semi-protected\\n\\nFrom Wikipedia, the free encyclopedia\\n\\nCapital city of India\\n\\nThis article is about the capital of India, within the union territory of Delhi. For other uses, see New Delhi (disambiguation) \"New Delhi (disambiguation)\"). [...] New Delhi (/ˈ nj uː ˈ d ɛ.l i/ⓘ;( _\\\\_\\\\\\\\_Naī Dillī\\\\\\\\_\\\\__, pronounced( \"Help:IPA/Hindi and Urdu\")) is the capital of India and a part of the National Capital Territory of Delhi (NCT). New Delhi is the seat of all three branches of the Government of India, hosting the Rashtrapati Bhavan, Sansad Bhavan, and the Supreme Court. New Delhi is a municipality within the NCT, administered by the New Delhi Municipal Council (NDMC), which covers mostly Lutyens\\' Delhi and a few adjacent areas. The municipal', 'score': 0.87218446}]\n"
     ]
    }
   ],
   "source": [
    "print(search.invoke({\"query\":\"what is the capital for india?\"}))"
   ]
  },
  {
   "cell_type": "code",
   "execution_count": 10,
   "id": "7578a7d3",
   "metadata": {},
   "outputs": [],
   "source": [
    "tools=[multiply,search]"
   ]
  },
  {
   "cell_type": "code",
   "execution_count": 11,
   "id": "086cea64",
   "metadata": {},
   "outputs": [],
   "source": [
    "llm_with_tool=llm.bind_tools(tools)"
   ]
  },
  {
   "cell_type": "code",
   "execution_count": null,
   "id": "468c271d",
   "metadata": {},
   "outputs": [],
   "source": []
  }
 ],
 "metadata": {
  "kernelspec": {
   "display_name": "Python 3",
   "language": "python",
   "name": "python3"
  },
  "language_info": {
   "codemirror_mode": {
    "name": "ipython",
    "version": 3
   },
   "file_extension": ".py",
   "mimetype": "text/x-python",
   "name": "python",
   "nbconvert_exporter": "python",
   "pygments_lexer": "ipython3",
   "version": "3.13.2"
  }
 },
 "nbformat": 4,
 "nbformat_minor": 5
}
