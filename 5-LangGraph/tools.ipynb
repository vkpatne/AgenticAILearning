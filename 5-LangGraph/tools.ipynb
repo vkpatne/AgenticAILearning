{
 "cells": [
  {
   "cell_type": "code",
   "execution_count": 5,
   "id": "3ab3434e",
   "metadata": {},
   "outputs": [],
   "source": [
    "from langchain_community.tools import WikipediaQueryRun"
   ]
  },
  {
   "cell_type": "code",
   "execution_count": 6,
   "id": "3592dc80",
   "metadata": {},
   "outputs": [],
   "source": [
    "from langchain_community.utilities import WikipediaAPIWrapper"
   ]
  },
  {
   "cell_type": "code",
   "execution_count": 16,
   "id": "9258f590",
   "metadata": {},
   "outputs": [],
   "source": [
    "api_wrapper=WikipediaAPIWrapper(top_k_results=5, doc_content_chars_max=500)\n",
    "\n",
    "##top_k_results: take top result and give description\n",
    "##doc_content_chars_max: o/p(description) limit chars"
   ]
  },
  {
   "cell_type": "code",
   "execution_count": 8,
   "id": "9a78ca73",
   "metadata": {},
   "outputs": [],
   "source": [
    "wiki_tool=WikipediaQueryRun(api_wrapper=api_wrapper)"
   ]
  },
  {
   "cell_type": "code",
   "execution_count": 11,
   "id": "30f7a31c",
   "metadata": {},
   "outputs": [
    {
     "data": {
      "text/plain": [
       "{'query': {'description': 'query to look up on wikipedia',\n",
       "  'title': 'Query',\n",
       "  'type': 'string'}}"
      ]
     },
     "execution_count": 11,
     "metadata": {},
     "output_type": "execute_result"
    }
   ],
   "source": [
    "wiki_tool.name\n",
    "wiki_tool.description\n",
    "wiki_tool.args"
   ]
  },
  {
   "cell_type": "code",
   "execution_count": 14,
   "id": "614d887f",
   "metadata": {},
   "outputs": [
    {
     "data": {
      "text/plain": [
       "'Page: Vallabhbhai Patel\\nSummary: Vallabhbhai Jhaverbhai Patel (Gujarati: [ʋəlːəbʱ.bʱɑi dʒʱəʋeɾbʱɑi pəʈel]; સરદાર  વલ્લભભાઈ પટેલ Vallabhbhāī Jhāverbhāī Paṭel; 31 October 1875 – 15 December 1950), commonly known as Sardar Vallabhbhai Patel, was an Indian independence activist and statesman who served as the first Deputy Prime Minister and Home Minister of India from 1947 to 1950. He was a senior leader of the Indian National Congress, who played a significant role in the Indian independence moveme'"
      ]
     },
     "execution_count": 14,
     "metadata": {},
     "output_type": "execute_result"
    }
   ],
   "source": [
    "wiki_tool.run({\"query\":\"Sardar Patel\"})  ##doc_content_chars_max will chop the o/p to 500 as defined."
   ]
  },
  {
   "cell_type": "code",
   "execution_count": 18,
   "id": "f7d3ae32",
   "metadata": {},
   "outputs": [],
   "source": [
    "from langchain_community.tools import YouTubeSearchTool\n",
    "tool = YouTubeSearchTool()"
   ]
  },
  {
   "cell_type": "code",
   "execution_count": 21,
   "id": "fcda68f5",
   "metadata": {},
   "outputs": [
    {
     "data": {
      "text/plain": [
       "\"['https://www.youtube.com/watch?v=MlKX-eyZFl8&pp=ygULdmlqYXkgcGF0bmU%3D', 'https://www.youtube.com/watch?v=ASLXZ4UvHx0&pp=ygULdmlqYXkgcGF0bmU%3D']\""
      ]
     },
     "execution_count": 21,
     "metadata": {},
     "output_type": "execute_result"
    }
   ],
   "source": [
    "tool.run(\"vijay patne\")"
   ]
  },
  {
   "cell_type": "code",
   "execution_count": 22,
   "id": "7f5685bd",
   "metadata": {},
   "outputs": [],
   "source": [
    "from langchain_community.tools.tavily_search import TavilySearchResults"
   ]
  },
  {
   "cell_type": "code",
   "execution_count": 29,
   "id": "83ca00f8",
   "metadata": {},
   "outputs": [],
   "source": [
    "import os\n",
    "from dotenv import load_dotenv\n",
    "load_dotenv()\n",
    "TAVILY_API_KEY=os.getenv(\"TAVILY_API_KEY\")\n",
    "\n",
    "tool_tavily=TavilySearchResults(tavily_api_key=TAVILY_API_KEY)"
   ]
  },
  {
   "cell_type": "code",
   "execution_count": 31,
   "id": "cd8264a7",
   "metadata": {},
   "outputs": [
    {
     "name": "stdout",
     "output_type": "stream",
     "text": [
      "[{'title': '2025 India–Pakistan conflict - Wikipedia', 'url': 'https://en.wikipedia.org/wiki/2025_India%E2%80%93Pakistan_conflict', 'content': 'On 7 May 2025, India announced that it had launched missile and air strikes, codenamed _Operation Sindoor_,[[b]](https://en.wikipedia.org/wiki/2025_India%E2%80%93Pakistan_conflict#cite_note-sind-61) targeting nine sites across Pakistani-administered [Azad Kashmir](https://en.wikipedia.org/wiki/Azad_Kashmir \"Azad Kashmir\") and Pakistan\\'s [Punjab province](https://en.wikipedia.org/wiki/Punjab,_Pakistan \"Punjab, [...] The **2025****India–Pakistan conflict** was a brief armed conflict between [India](https://en.wikipedia.org/wiki/India \"India\") and [Pakistan](https://en.wikipedia.org/wiki/Pakistan \"Pakistan\") that began on 7 May 2025, after India launched missile strikes on Pakistan, in a military campaign codenamed **Operation Sindoor**.[[b]](https://en.wikipedia.org/wiki/2025_India%E2%80%93Pakistan_conflict#cite_note-sind-61) India said that the operation was in response to the [Pahalgam terrorist [...] On 7 May, India launched Operation Sindoor with missile strikes on terrorism-related infrastructure facilities of Pakistan-based militant groups [Jaish-e-Mohammed](https://en.wikipedia.org/wiki/Jaish-e-Mohammed \"Jaish-e-Mohammed\") and [Lashkar-e-Taiba](https://en.wikipedia.org/wiki/Lashkar-e-Taiba \"Lashkar-e-Taiba\") in Pakistan and Pakistan-administered [Azad Kashmir](https://en.wikipedia.org/wiki/Azad_Kashmir \"Azad Kashmir\"), and said that no Pakistani military or civilian facilities were', 'score': 0.8914433}]\n"
     ]
    }
   ],
   "source": [
    "op=tool_tavily.invoke({'query': 'operation sindoor'})\n",
    "print(op)"
   ]
  },
  {
   "cell_type": "markdown",
   "id": "04fe67c6",
   "metadata": {},
   "source": [
    "### Now lets create Custom Tools"
   ]
  },
  {
   "cell_type": "code",
   "execution_count": 38,
   "id": "82ee496c",
   "metadata": {},
   "outputs": [],
   "source": [
    "from langchain.agents import tool"
   ]
  },
  {
   "cell_type": "code",
   "execution_count": 42,
   "id": "2f561a90",
   "metadata": {},
   "outputs": [],
   "source": [
    "## with tool decorator we can convert function to toll\n",
    "## docstring is must, which we need define in funciton''''''\n",
    "\n",
    "@tool\n",
    "def multiply(a:int,b:int)->int:\n",
    "    '''this is multiple funtion'''\n",
    "    return a*b"
   ]
  },
  {
   "cell_type": "code",
   "execution_count": 43,
   "id": "f8d15daf",
   "metadata": {},
   "outputs": [
    {
     "data": {
      "text/plain": [
       "200"
      ]
     },
     "execution_count": 43,
     "metadata": {},
     "output_type": "execute_result"
    }
   ],
   "source": [
    "multiply.invoke({\"a\":10, \"b\":20})"
   ]
  },
  {
   "cell_type": "code",
   "execution_count": 44,
   "id": "1ce621ab",
   "metadata": {},
   "outputs": [
    {
     "data": {
      "text/plain": [
       "'this is multiple funtion'"
      ]
     },
     "execution_count": 44,
     "metadata": {},
     "output_type": "execute_result"
    }
   ],
   "source": [
    "multiply.description"
   ]
  },
  {
   "cell_type": "code",
   "execution_count": 49,
   "id": "6382b754",
   "metadata": {},
   "outputs": [],
   "source": [
    "@tool\n",
    "def count_word_size(word:str)->int:\n",
    "    '''it give count of words'''\n",
    "    return len(word)"
   ]
  },
  {
   "cell_type": "code",
   "execution_count": 52,
   "id": "d4529ea6",
   "metadata": {},
   "outputs": [
    {
     "data": {
      "text/plain": [
       "5"
      ]
     },
     "execution_count": 52,
     "metadata": {},
     "output_type": "execute_result"
    }
   ],
   "source": [
    "count_word_size.invoke({\"word\":\"vijay\"})"
   ]
  },
  {
   "cell_type": "code",
   "execution_count": 53,
   "id": "2e9203b0",
   "metadata": {},
   "outputs": [
    {
     "data": {
      "text/plain": [
       "{'word': {'title': 'Word', 'type': 'string'}}"
      ]
     },
     "execution_count": 53,
     "metadata": {},
     "output_type": "execute_result"
    }
   ],
   "source": [
    "count_word_size.args"
   ]
  }
 ],
 "metadata": {
  "kernelspec": {
   "display_name": "Python 3",
   "language": "python",
   "name": "python3"
  },
  "language_info": {
   "codemirror_mode": {
    "name": "ipython",
    "version": 3
   },
   "file_extension": ".py",
   "mimetype": "text/x-python",
   "name": "python",
   "nbconvert_exporter": "python",
   "pygments_lexer": "ipython3",
   "version": "3.13.2"
  }
 },
 "nbformat": 4,
 "nbformat_minor": 5
}
