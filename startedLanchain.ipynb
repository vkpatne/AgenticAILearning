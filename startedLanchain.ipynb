{
 "cells": [
  {
   "cell_type": "code",
   "execution_count": 4,
   "id": "b00fa854",
   "metadata": {},
   "outputs": [
    {
     "data": {
      "text/plain": [
       "True"
      ]
     },
     "execution_count": 4,
     "metadata": {},
     "output_type": "execute_result"
    }
   ],
   "source": [
    "import os\n",
    "from dotenv import load_dotenv\n",
    "load_dotenv()"
   ]
  },
  {
   "cell_type": "code",
   "execution_count": 5,
   "id": "c124f7ef",
   "metadata": {},
   "outputs": [],
   "source": [
    "os.environ[\"OPENAI_API_KEY\"]=os.getenv(\"OPENAI_API_KEY\")\n",
    "os.environ[\"GROQ_API_KEY\"]=os.getenv(\"GROQ_API_KEY\")\n",
    "\n",
    "## For tracing and traking the project over langsmith \n",
    "os.environ[\"LANCHAIN_API_KEY\"]=os.getenv(\"LANCHAIN_API_KEY\")\n",
    "os.environ[\"LANCHAIN_PROJECT\"]=os.getenv(\"LANCHAIN_PROJECT\")\n",
    "os.environ[\"LANGCHAIN_TRACING_V2\"]=\"true\""
   ]
  },
  {
   "cell_type": "code",
   "execution_count": null,
   "id": "53314f81",
   "metadata": {},
   "outputs": [],
   "source": [
    "from langchain_openai import ChatOpenAI\n",
    "\n",
    "llm_openai=ChatOpenAI(model=\"o1-mini\")\n",
    "print(llm_openai)"
   ]
  },
  {
   "cell_type": "code",
   "execution_count": null,
   "id": "9c174536",
   "metadata": {},
   "outputs": [],
   "source": [
    "result=llm_openai.invoke(\"How are you?\")\n",
    "print(result.content)"
   ]
  },
  {
   "cell_type": "code",
   "execution_count": 6,
   "id": "7a3d2c29",
   "metadata": {},
   "outputs": [
    {
     "data": {
      "text/plain": [
       "AIMessage(content='\\n<think>\\nOkay, the user introduced themselves as Vijay. I should respond politely. Let me start with a greeting. Maybe say hello back and ask how I can assist him today. Keep it friendly and open-ended so he feels comfortable to ask anything. Let me check for any typos. Alright, that should work.\\n</think>\\n\\nHello Vijay! Nice to meet you. How can I assist you today? Feel free to ask me any questions or let me know if you need help with anything specific! 😊', additional_kwargs={}, response_metadata={'token_usage': {'completion_tokens': 103, 'prompt_tokens': 16, 'total_tokens': 119, 'completion_time': 0.241607441, 'prompt_time': 0.004640636, 'queue_time': 1.323755411, 'total_time': 0.246248077}, 'model_name': 'qwen-qwq-32b', 'system_fingerprint': 'fp_28178d7ff6', 'finish_reason': 'stop', 'logprobs': None}, id='run--c50ebe11-23f8-4ef9-9049-95807970a3fc-0', usage_metadata={'input_tokens': 16, 'output_tokens': 103, 'total_tokens': 119})"
      ]
     },
     "execution_count": 6,
     "metadata": {},
     "output_type": "execute_result"
    }
   ],
   "source": [
    "from langchain_groq import ChatGroq\n",
    "model=ChatGroq(model=\"qwen-qwq-32b\")\n",
    "model.invoke(\"Hi My name is Vijay\")"
   ]
  },
  {
   "cell_type": "code",
   "execution_count": 7,
   "id": "6fbcf0c8",
   "metadata": {},
   "outputs": [],
   "source": [
    "### Prompt Engineering\n",
    "from langchain_core.prompts import ChatPromptTemplate\n",
    "\n",
    "prompt=ChatPromptTemplate.from_messages(\n",
    "    [\n",
    "        (\"system\",\"Answer me as you are lead technical architect of a software company.\"),\n",
    "        (\"user\",\"{input}\")\n",
    "    ]\n",
    ")"
   ]
  },
  {
   "cell_type": "code",
   "execution_count": 8,
   "id": "bbda0d51",
   "metadata": {},
   "outputs": [
    {
     "data": {
      "text/plain": [
       "ChatGroq(client=<groq.resources.chat.completions.Completions object at 0x0000022821F9D1D0>, async_client=<groq.resources.chat.completions.AsyncCompletions object at 0x0000022821F9DBD0>, model_name='gemma2-9b-it', model_kwargs={}, groq_api_key=SecretStr('**********'))"
      ]
     },
     "execution_count": 8,
     "metadata": {},
     "output_type": "execute_result"
    }
   ],
   "source": [
    "from langchain_groq import ChatGroq\n",
    "model=ChatGroq(model=\"gemma2-9b-it\")\n",
    "model"
   ]
  },
  {
   "cell_type": "code",
   "execution_count": 16,
   "id": "59676ae9",
   "metadata": {},
   "outputs": [
    {
     "data": {
      "text/plain": [
       "ChatPromptTemplate(input_variables=['input'], input_types={}, partial_variables={}, messages=[SystemMessagePromptTemplate(prompt=PromptTemplate(input_variables=[], input_types={}, partial_variables={}, template='Answer me as you are lead technical architect of a software company.'), additional_kwargs={}), HumanMessagePromptTemplate(prompt=PromptTemplate(input_variables=['input'], input_types={}, partial_variables={}, template='{input}'), additional_kwargs={})])\n",
       "| ChatGroq(client=<groq.resources.chat.completions.Completions object at 0x0000022821F9D1D0>, async_client=<groq.resources.chat.completions.AsyncCompletions object at 0x0000022821F9DBD0>, model_name='gemma2-9b-it', model_kwargs={}, groq_api_key=SecretStr('**********'))"
      ]
     },
     "execution_count": 16,
     "metadata": {},
     "output_type": "execute_result"
    }
   ],
   "source": [
    "### chaining\n",
    "chain=prompt|model\n",
    "chain"
   ]
  },
  {
   "cell_type": "code",
   "execution_count": 17,
   "id": "c64cbdbe",
   "metadata": {},
   "outputs": [
    {
     "name": "stdout",
     "output_type": "stream",
     "text": [
      "Java, let me tell you, is a cornerstone of our technology stack and for good reason. It's been a workhorse in the software industry for decades, and its strengths are undeniable. \n",
      "\n",
      "Here's the lowdown from a technical architect's perspective:\n",
      "\n",
      "**The Good:**\n",
      "\n",
      "* **Robust and Reliable:** Java's strong typing, exception handling, and garbage collection make for incredibly stable and reliable applications. We can build mission-critical systems with confidence knowing Java will handle the heavy lifting.\n",
      "* **Platform Independence:** \"Write once, run anywhere\" – that's the magic of the JVM.  Java's bytecode portability allows us to deploy our applications across diverse platforms without rewriting them, saving us time and resources.\n",
      "* **Large and Active Community:**  Java boasts a massive and vibrant community of developers. This translates to an abundance of readily available libraries, frameworks, and support, making development faster and smoother. Spring, Hibernate, and Struts are just a few examples of the powerful tools we leverage.\n",
      "* **Scalability and Performance:** Java's multi-threaded architecture makes it ideal for handling concurrent requests and scaling applications to meet growing demands. \n",
      "* **Enterprise-Grade:**  Java is a staple in enterprise environments, known for its security, reliability, and support for complex business logic.\n",
      "\n",
      "**The Not-So-Good:**\n",
      "\n",
      "* **Verbosity:**  Java can sometimes feel verbose compared to newer, more concise languages.  While this adds to its robustness, it can lead to longer code blocks and potentially slower development cycles, especially for smaller projects.\n",
      "* **Memory Management:**  While Java's garbage collection is a boon, it can occasionally lead to performance bottlenecks, especially in memory-intensive applications. Careful memory management is still crucial.\n",
      "* **Steep Learning Curve:**  Java has a lot of moving parts.  Learning its intricacies can take time and effort, especially for developers new to object-oriented programming.\n",
      "\n",
      "**Overall:**\n",
      "\n",
      "Despite its drawbacks, Java remains a powerful and relevant technology. Its stability, scalability, and vast ecosystem make it a solid choice for building complex, enterprise-grade applications. We continue to invest in Java because it delivers tangible value and empowers our teams to build robust and maintainable software.\n",
      "\n",
      "Do you have any specific aspects of Java you'd like to explore further? Perhaps you're wondering about its use cases, frameworks, or how it compares to other languages?\n",
      "\n",
      "\n",
      "\n",
      "\n"
     ]
    }
   ],
   "source": [
    "res=chain.invoke({\"input\":\"Can you tell me about java?\"})\n",
    "print(res.content)"
   ]
  },
  {
   "cell_type": "code",
   "execution_count": 18,
   "id": "f797331c",
   "metadata": {},
   "outputs": [
    {
     "data": {
      "text/plain": [
       "ChatPromptTemplate(input_variables=['input'], input_types={}, partial_variables={}, messages=[SystemMessagePromptTemplate(prompt=PromptTemplate(input_variables=[], input_types={}, partial_variables={}, template='Answer me as you are lead technical architect of a software company.'), additional_kwargs={}), HumanMessagePromptTemplate(prompt=PromptTemplate(input_variables=['input'], input_types={}, partial_variables={}, template='{input}'), additional_kwargs={})])\n",
       "| ChatGroq(client=<groq.resources.chat.completions.Completions object at 0x0000022821F9D1D0>, async_client=<groq.resources.chat.completions.AsyncCompletions object at 0x0000022821F9DBD0>, model_name='gemma2-9b-it', model_kwargs={}, groq_api_key=SecretStr('**********'))\n",
       "| StrOutputParser()"
      ]
     },
     "execution_count": 18,
     "metadata": {},
     "output_type": "execute_result"
    }
   ],
   "source": [
    "### Output Parser\n",
    "from langchain_core.output_parsers import StrOutputParser\n",
    "op_parser=StrOutputParser()\n",
    "\n",
    "chain=prompt|model|op_parser\n",
    "chain"
   ]
  },
  {
   "cell_type": "code",
   "execution_count": 19,
   "id": "61a356c4",
   "metadata": {},
   "outputs": [
    {
     "name": "stdout",
     "output_type": "stream",
     "text": [
      "Java, as you know, is a cornerstone of our industry.  It's a robust, object-oriented programming language renowned for its \"write once, run anywhere\" capability thanks to the Java Virtual Machine (JVM). \n",
      "\n",
      "Here's a breakdown from a technical architect's perspective:\n",
      "\n",
      "**Strengths:**\n",
      "\n",
      "* **Platform Independence:**  The JVM acts as a bridge, allowing Java code to execute on any platform with a JVM implementation. This portability is invaluable for building scalable, multi-platform applications.\n",
      "* **Object-Oriented Design:** Java embraces OOP principles like encapsulation, inheritance, and polymorphism, leading to modular, reusable code and better maintainability.\n",
      "* **Strong Community & Ecosystem:**  Java boasts a massive and active community, meaning ample resources, libraries, frameworks, and support are readily available.\n",
      "\n",
      "* **Security:** Java implements robust security features like bytecode verification and sandboxing, mitigating security vulnerabilities.\n",
      "* **Enterprise-Grade:** Java is widely used in enterprise applications due to its reliability, scalability, and performance. Frameworks like Spring and Hibernate provide robust tools for building complex enterprise systems.\n",
      "\n",
      "**Considerations:**\n",
      "\n",
      "* **Performance:** While Java is generally performant, it can be slower than some compiled languages like C++ or Go, especially for computationally intensive tasks.\n",
      "* **Verbosity:** Java code can be more verbose than some languages, requiring more lines of code to achieve the same result.\n",
      "* **Learning Curve:** Java's comprehensive nature can present a steeper learning curve compared to simpler languages.\n",
      "\n",
      "**Use Cases:**\n",
      "\n",
      "* **Web Applications:**  Java frameworks like Spring Boot and Jakarta EE power a vast number of web applications, from small to enterprise-scale. \n",
      "* **Mobile Development (Android):**  Java is the primary language for Android app development.\n",
      "* **Big Data & Analytics:**  Java's robustness and ecosystem make it suitable for big data processing and analytics using frameworks like Hadoop and Spark.\n",
      "* **Financial & Enterprise Systems:**  Java's security and reliability are critical in financial institutions and large enterprises.\n",
      "\n",
      "**Future of Java:**\n",
      "\n",
      "Java continues to evolve with regular updates and new features. The focus remains on performance enhancements, modularity, and cloud-native development.\n",
      "\n",
      "**In Conclusion:**\n",
      "\n",
      "Java remains a powerful and relevant language for building a wide range of applications. Its strengths lie in its platform independence, robust ecosystem, security, and suitability for enterprise-grade systems. While performance considerations and verbosity might be factors, Java's longevity and widespread adoption solidify its place as a core technology in the software development world.\n",
      "\n",
      "\n",
      "\n",
      "Let me know if you have any more specific questions about Java or its applications.\n",
      "\n"
     ]
    }
   ],
   "source": [
    "res=chain.invoke({\"input\":\"Can you tell me about java?\"})\n",
    "print(res)"
   ]
  },
  {
   "cell_type": "code",
   "execution_count": 21,
   "id": "933fbd93",
   "metadata": {},
   "outputs": [
    {
     "data": {
      "text/plain": [
       "PromptTemplate(input_variables=['query'], input_types={}, partial_variables={'format_instruction': 'Return a JSON object.'}, template='Answer the question {format_instruction} {query}')"
      ]
     },
     "execution_count": 21,
     "metadata": {},
     "output_type": "execute_result"
    }
   ],
   "source": [
    "### JsonOutputParser \n",
    "### we need to change the proompt template\n",
    "from langchain_core.output_parsers import JsonOutputParser\n",
    "from langchain_core.prompts import PromptTemplate\n",
    "\n",
    "op_parser=JsonOutputParser()\n",
    "\n",
    "prompt=PromptTemplate(\n",
    "    template=\"Answer the question {format_instruction} {query}\",\n",
    "    input_variables=[\"query\"],\n",
    "    partial_variables={\"format_instruction\":op_parser.get_format_instructions()}\n",
    ")\n",
    "prompt"
   ]
  },
  {
   "cell_type": "code",
   "execution_count": 23,
   "id": "78e6d19f",
   "metadata": {},
   "outputs": [
    {
     "name": "stdout",
     "output_type": "stream",
     "text": [
      "{'name': 'Java', 'type': 'programming language', 'creator': 'James Gosling', 'developer': 'Oracle Corporation', 'year': 1995, 'platform': 'cross-platform', 'object_oriented': True, 'features': ['platform independence', 'garbage collection', 'strong typing', 'multithreading', 'robust error handling'], 'uses': ['enterprise applications', 'web development', 'mobile app development (Android)', 'big data', 'scientific computing'], 'popularity': 'high'}\n"
     ]
    }
   ],
   "source": [
    "chain=prompt|model|op_parser\n",
    "res=chain.invoke({\"query\":\"Can you tell me about java?\"})\n",
    "print(res)"
   ]
  },
  {
   "cell_type": "code",
   "execution_count": null,
   "id": "42c7bfad",
   "metadata": {},
   "outputs": [],
   "source": []
  },
  {
   "cell_type": "markdown",
   "id": "4c799fd9",
   "metadata": {},
   "source": [
    "### With pydantic lets use JsonOutputParser "
   ]
  },
  {
   "cell_type": "code",
   "execution_count": 25,
   "id": "8d808b9f",
   "metadata": {},
   "outputs": [],
   "source": [
    "from langchain_core.output_parsers import JsonOutputParser\n",
    "from langchain_core.prompts import PromptTemplate\n",
    "from langchain_groq import ChatGroq\n",
    "from pydantic import BaseModel, Field"
   ]
  },
  {
   "cell_type": "code",
   "execution_count": null,
   "id": "73023a29",
   "metadata": {},
   "outputs": [],
   "source": [
    "class Joke(BaseModel):\n",
    "    que:str=Field(description=\"question\")\n",
    "    punchline:str=Field(description=\"anwser\")"
   ]
  },
  {
   "cell_type": "code",
   "execution_count": 35,
   "id": "9bda6fd6",
   "metadata": {},
   "outputs": [],
   "source": [
    "prompt_py=PromptTemplate(\n",
    "    template=\"Answer the question {format_instruction} {query}\",\n",
    "    input_variables=[\"query\"],\n",
    "    partial_variables={\"format_instruction\":op_parser.get_format_instructions()}\n",
    ")\n",
    "model_py=ChatGroq(model=\"gemma2-9b-it\")\n",
    "model_py\n",
    "\n",
    "op_parser_py=JsonOutputParser(pydantic_object=Joke)\n",
    "\n",
    "chain_py=prompt_py|model_py|op_parser_py\n",
    "\n"
   ]
  },
  {
   "cell_type": "code",
   "execution_count": 36,
   "id": "386269fe",
   "metadata": {},
   "outputs": [
    {
     "data": {
      "text/plain": [
       "{'joke': \"Why don't scientists trust atoms? Because they make up everything!\"}"
      ]
     },
     "execution_count": 36,
     "metadata": {},
     "output_type": "execute_result"
    }
   ],
   "source": [
    "joke_query=\"Tell a joke for good morning\"\n",
    "res_py=chain_py.invoke({\"query\":joke_query})\n",
    "res_py"
   ]
  },
  {
   "cell_type": "code",
   "execution_count": null,
   "id": "96bcdd52",
   "metadata": {},
   "outputs": [],
   "source": []
  }
 ],
 "metadata": {
  "kernelspec": {
   "display_name": "Python 3",
   "language": "python",
   "name": "python3"
  },
  "language_info": {
   "codemirror_mode": {
    "name": "ipython",
    "version": 3
   },
   "file_extension": ".py",
   "mimetype": "text/x-python",
   "name": "python",
   "nbconvert_exporter": "python",
   "pygments_lexer": "ipython3",
   "version": "3.13.2"
  }
 },
 "nbformat": 4,
 "nbformat_minor": 5
}
