{
 "cells": [
  {
   "cell_type": "code",
   "execution_count": 7,
   "id": "35feaff4",
   "metadata": {},
   "outputs": [
    {
     "data": {
      "text/plain": [
       "True"
      ]
     },
     "execution_count": 7,
     "metadata": {},
     "output_type": "execute_result"
    }
   ],
   "source": [
    "from dotenv import load_dotenv\n",
    "load_dotenv()"
   ]
  },
  {
   "cell_type": "code",
   "execution_count": 8,
   "id": "432e033e",
   "metadata": {},
   "outputs": [],
   "source": [
    "import os\n",
    "import time\n",
    "import operator\n",
    "from typing import List\n",
    "from pydantic import BaseModel , Field\n",
    "from langchain.prompts import PromptTemplate\n",
    "from typing import TypedDict, Annotated, Sequence\n",
    "from langchain_community.document_loaders import TextLoader\n",
    "from langchain.text_splitter import RecursiveCharacterTextSplitter\n",
    "from langchain_core.messages import BaseMessage\n",
    "from langchain_core.output_parsers import StrOutputParser\n",
    "from langchain_core.prompts import ChatPromptTemplate, PromptTemplate\n",
    "from langchain_core.runnables import RunnablePassthrough\n",
    "from langchain_core.messages import HumanMessage, AIMessage\n",
    "from langgraph.graph import StateGraph,END\n",
    "from langchain_community.vectorstores import Chroma\n",
    "from langchain.output_parsers import PydanticOutputParser\n",
    "from sentence_transformers import SentenceTransformer, util\n",
    "from duckduckgo_search import DDGS"
   ]
  },
  {
   "cell_type": "code",
   "execution_count": 9,
   "id": "ec59e075",
   "metadata": {},
   "outputs": [
    {
     "data": {
      "text/plain": [
       "[\"Yoga Connect 2025: A Hybrid Global Summit on 'Yoga for One Earth, One Health' to be held tomorrow in New Delhi\",\n",
       " 'Union Health Minister Shri J P Nadda virtually inaugurates the 1st edition of Conclave on Best practices organized by the Ministry at AIIMS Nagpur',\n",
       " 'The Directorate General of Training (DGT) and Shell India jointly launch the Green Skills-focused EV training program to empower youth',\n",
       " 'Union Public Service Commission Announces Recruitment Results For the month of April 2025\\nUnion Public Service Commission (#UPSC) announces Recruitment Results For the month of April 2025',\n",
       " '#PIBFactChec…\\n📢 #IDY2025: 8⃣ Days to Go!\\n\\n🧘 This International Day of Yoga, practice Uttana Mandukasana to expand the chest, improve your diaphragmatic movements &amp; boost lung capacity!',\n",
       " '#YogaforOneEarthOneHealth #InternationDayofYoga2025 @moayush @MIB_India https://t.co/gmF9xjYSE8']"
      ]
     },
     "execution_count": 9,
     "metadata": {},
     "output_type": "execute_result"
    }
   ],
   "source": [
    "loader=TextLoader('../0.1-Data/pib_news_and_tweets.txt')\n",
    "docs=loader.load()\n",
    "text_splitter=RecursiveCharacterTextSplitter(chunk_size=200, chunk_overlap=50)\n",
    "new_docs=text_splitter.split_documents(documents=docs)\n",
    "doc_string=[doc.page_content for doc in new_docs]\n",
    "doc_string"
   ]
  },
  {
   "cell_type": "code",
   "execution_count": 10,
   "id": "c556aabb",
   "metadata": {},
   "outputs": [],
   "source": [
    "from langchain_huggingface import HuggingFaceEmbeddings\n",
    "embeddings= HuggingFaceEmbeddings(model_name=\"BAAI/bge-small-en\")\n",
    "\n",
    "db=Chroma.from_documents(documents=new_docs,embedding=embeddings)\n",
    "retriever=db.as_retriever(search_kwargs={\"k\":2})"
   ]
  },
  {
   "cell_type": "code",
   "execution_count": 11,
   "id": "4499c05c",
   "metadata": {},
   "outputs": [],
   "source": [
    "from langchain_google_genai import ChatGoogleGenerativeAI\n",
    "model=ChatGoogleGenerativeAI(model='gemini-1.5-flash')"
   ]
  },
  {
   "cell_type": "code",
   "execution_count": 12,
   "id": "ff85af70",
   "metadata": {},
   "outputs": [
    {
     "data": {
      "text/plain": [
       "'The output should be formatted as a JSON instance that conforms to the JSON schema below.\\n\\nAs an example, for the schema {\"properties\": {\"foo\": {\"title\": \"Foo\", \"description\": \"a list of strings\", \"type\": \"array\", \"items\": {\"type\": \"string\"}}}, \"required\": [\"foo\"]}\\nthe object {\"foo\": [\"bar\", \"baz\"]} is a well-formatted instance of the schema. The object {\"properties\": {\"foo\": [\"bar\", \"baz\"]}} is not well-formatted.\\n\\nHere is the output schema:\\n```\\n{\"properties\": {\"Topic\": {\"description\": \"selected news\", \"title\": \"Topic\", \"type\": \"string\"}, \"Research\": {\"description\": \"Research behind news\", \"title\": \"Research\", \"type\": \"string\"}}, \"required\": [\"Topic\", \"Research\"]}\\n```'"
      ]
     },
     "execution_count": 12,
     "metadata": {},
     "output_type": "execute_result"
    }
   ],
   "source": [
    "class NewsSelectionParser(BaseModel):\n",
    "    Topic:str=Field(description=\"selected news\")\n",
    "    Research:str=Field(description='Research behind news')\n",
    "\n",
    "parser=PydanticOutputParser(pydantic_object=NewsSelectionParser)\n",
    "parser.get_format_instructions()"
   ]
  },
  {
   "cell_type": "code",
   "execution_count": 13,
   "id": "f5261fb2",
   "metadata": {},
   "outputs": [],
   "source": [
    "class VaribleState(TypedDict):\n",
    "    messages:Annotated[Sequence[BaseMessage], operator.add]\n",
    "    source:str\n",
    "    retrycount:int\n"
   ]
  },
  {
   "cell_type": "code",
   "execution_count": 14,
   "id": "d8928306",
   "metadata": {},
   "outputs": [],
   "source": [
    "## create a supervisor node\n",
    "def fun_supervisor(state:VaribleState):\n",
    "    print(\"=> Supervisor Call=>\")\n",
    "    question=state[\"messages\"][-1]\n",
    "\n",
    "    print(\"Your question is : \", question)\n",
    "\n",
    "    template=\"\"\"\n",
    "    Your task is to classify the given user query into one of the following categories: [News,Not Related]. \n",
    "    Only respond with the category name and nothing else.\n",
    "\n",
    "    User query: {question}\n",
    "    {format_instructions}\n",
    "    \"\"\"\n",
    "\n",
    "    promt=PromptTemplate(\n",
    "        template=template,\n",
    "        input_variables=[\"question\"],\n",
    "        partial_variables={\"format_instructions\":parser.get_format_instructions()}\n",
    "    )\n",
    "\n",
    "    chain=promt|model|parser\n",
    "\n",
    "    response=chain.invoke({\"question\":question})\n",
    "    print(\"Parsed response:\", response)\n",
    "    return {\"messages\":[response.Topic]}"
   ]
  },
  {
   "cell_type": "code",
   "execution_count": 15,
   "id": "8bb1ed22",
   "metadata": {},
   "outputs": [],
   "source": [
    "## create a RAG node\n",
    "def format_docs(docs):\n",
    "    return \"\\n\\n\".join(doc.page_content for doc in docs)\n",
    "\n",
    "def fun_RAG(state:VaribleState):\n",
    "    print(\"=> RAG Call=>\")\n",
    "    question=state[\"messages\"][0]\n",
    "\n",
    "    prompt=PromptTemplate(\n",
    "        template=\"\"\"You are an assistant for question-answering tasks. Use the following pieces of retrieved context to answer the question. If you don't know the answer, just say that you don't know. Use three sentences maximum and keep the answer concise.\\nQuestion: {question} \\nContext: {context} \\nAnswer:\"\"\",\n",
    "        \n",
    "        input_variables=['context', 'question']\n",
    "    )\n",
    "\n",
    "    rag_chain=(\n",
    "        {\"context\": retriever | format_docs, \"question\":RunnablePassthrough()}\n",
    "         |prompt|model|StrOutputParser()\n",
    "    )\n",
    "    result=rag_chain.invoke(question)\n",
    "    return {\"messages\":[result],\"source\":\"db\"}"
   ]
  },
  {
   "cell_type": "code",
   "execution_count": 16,
   "id": "da54bfa6",
   "metadata": {},
   "outputs": [],
   "source": [
    "## create llm  node\n",
    "def fun_llm(state):\n",
    "    print(\"=> LLM Call=>\")\n",
    "\n",
    "    question=state[\"messages\"][0]\n",
    "\n",
    "    query=\"Anwer the follow question considering the latest news. Keeps your answer short and in 1 sentennce. Following is the user question: \" + question\n",
    "    response=model.invoke(query)\n",
    "    return {\"messages\":[response.content],\"source\":\"llm\"}"
   ]
  },
  {
   "cell_type": "code",
   "execution_count": 17,
   "id": "d425700b",
   "metadata": {},
   "outputs": [],
   "source": [
    "## create web craller  node\n",
    "\n",
    "def get_best_duckduckgo_result(query: str) -> str:\n",
    "    with DDGS() as ddgs:\n",
    "        results = ddgs.text(query)\n",
    "        for r in results:\n",
    "            # Return first non-empty result\n",
    "            return r[\"body\"]\n",
    "    return \"No results found\"\n",
    "\n",
    "\n",
    "def fun_web(state):\n",
    "    print(\"=> WEB Call=>\")\n",
    "\n",
    "    question=state[\"messages\"][0]\n",
    "    best_result = get_best_duckduckgo_result(question)\n",
    "    \n",
    "    return {\"messages\":[best_result],\"source\":\"web\"}"
   ]
  },
  {
   "cell_type": "code",
   "execution_count": 18,
   "id": "3c210cd0",
   "metadata": {},
   "outputs": [],
   "source": [
    "## check gov sources like PIB websites and gov twitter accounts \n",
    "import requests\n",
    "from bs4 import BeautifulSoup\n",
    "import tweepy\n",
    "\n",
    "def scrape_pib_releases():\n",
    "    url = \"https://pib.gov.in/allRel.aspx\"\n",
    "    response = requests.get(url)\n",
    "    soup = BeautifulSoup(response.text, 'html.parser')\n",
    "    docs = [li.text.strip() for li in soup.select('ul.num li a')]\n",
    "    return docs\n",
    "\n",
    "# --- Twitter API Setup ---\n",
    "def fetch_pib_tweets():\n",
    "    client = tweepy.Client(bearer_token=os.getenv(\"X_BEARER_TOKEN\"))\n",
    "    username = \"PIB_India\"\n",
    "\n",
    "    try:\n",
    "        # Get user ID\n",
    "        user = client.get_user(username=username)\n",
    "        user_id = user.data.id\n",
    "\n",
    "        # Fetch recent tweets\n",
    "        tweets = client.get_users_tweets(id=user_id, max_results=10)\n",
    "        docs = [tweet.text for tweet in tweets.data] if tweets.data else []\n",
    "        return docs\n",
    "\n",
    "    except tweepy.TooManyRequests as e:\n",
    "        print(\"Rate limit exceeded. Waiting before retrying...\")\n",
    "        time.sleep(int(e.retry_after) if hasattr(e, 'retry_after') else 60)\n",
    "        return fetch_pib_tweets()  # Recursive retry\n",
    "    except Exception as e:\n",
    "        print(f\"Error: {e}\")\n",
    "        return []\n",
    "\n",
    "def find_semantically_similar_string(target, string_list, threshold=0.5):\n",
    "    model = SentenceTransformer('all-MiniLM-L6-v2')\n",
    "\n",
    "    embeddings = model.encode([target] + string_list, convert_to_tensor=True)\n",
    "    similarities = util.cos_sim(embeddings[0], embeddings[1:])[0]\n",
    "\n",
    "    matches = []\n",
    "    for i, score in enumerate(similarities):\n",
    "        if score >= threshold:\n",
    "            matches.append((string_list[i], float(score)))\n",
    "    return matches\n",
    "\n",
    "def fun_gov(txt):\n",
    "    print('text to search in gov sources:', txt)\n",
    "    docs = scrape_pib_releases() + fetch_pib_tweets()\n",
    "\n",
    "    matches = find_semantically_similar_string(txt, docs)\n",
    "    print(\"matches: \" , matches)\n",
    "    return matches\n",
    "    "
   ]
  },
  {
   "cell_type": "code",
   "execution_count": 19,
   "id": "27cafbcc",
   "metadata": {},
   "outputs": [],
   "source": [
    "## create validator node\n",
    "def fun_validator(state:VaribleState):\n",
    "    print(\"=> Validation Call=>\")\n",
    "\n",
    "    last_msg=state['messages'][-1]\n",
    "    print(\"last_msg: \",last_msg)\n",
    "\n",
    "    source = state[\"source\"]\n",
    "    retrycount= state[\"retrycount\"]\n",
    "    result=\"\"\n",
    "    \n",
    "    substrings = [\"not found\", \"cannot be answered\", \"don't know\",\"No results found\"]\n",
    "    if (\"db\" in source and any(sub in last_msg.lower() for sub in substrings)) or \"web\" in source:\n",
    "        matches = fun_gov(state['messages'][0])\n",
    "        if len(matches) > 0:\n",
    "            result= \"News is real and verified.\"\n",
    "        elif retrycount == 1:\n",
    "            retrycount += 1\n",
    "            result= \"Seems to be a news but its not verified.\"\n",
    "        else:\n",
    "            retrycount += 1\n",
    "            result=\"retry\"\n",
    "    \n",
    "    elif \"db\" in source and not any(sub in last_msg.lower() for sub in substrings):\n",
    "        result= \"News is real and verified in db.\"\n",
    "    \n",
    "    if \"llm\" in source:\n",
    "        result=\"Seems not a news.\"\n",
    "\n",
    "    # substrings = [\"not found\", \"cannot be answered\", \"don't know\",\"No results found\"]\n",
    "    # if any(sub in text.lower() for sub in substrings):\n",
    "    #     matches = fun_gov(last_msg)\n",
    "    #     if len(matches) > 0:\n",
    "    #         result= \"News is real and verified.\"\n",
    "    #     else:\n",
    "    #         retrycount += 1\n",
    "    #         result=\"retry\"\n",
    "    # else:\n",
    "    #     return \"Validator Call\"\n",
    "\n",
    "\n",
    "    # source = state[\"source\"]\n",
    "    # result=\"\"\n",
    "    \n",
    "    # if \"db\" in source:\n",
    "    #     result= \"News is real.\"\n",
    "    # if retrycount > 1:\n",
    "    #     result= \"Seems to be a new but its not verified.\"\n",
    "    # else:\n",
    "    #     retrycount += 1\n",
    "    #     result=\"retry\"\n",
    "\n",
    "    return {\"messages\":[result]}"
   ]
  },
  {
   "cell_type": "code",
   "execution_count": 20,
   "id": "4eda60c2",
   "metadata": {},
   "outputs": [],
   "source": [
    "## create web crawler node\n",
    "def fun_FinalOutput(state:VaribleState):\n",
    "    print(\"=> FinalOutput Call=>\")\n",
    "    last_msg=state['messages'][-1]\n",
    "    print(\"Here is langgraph decesion: \", last_msg)"
   ]
  },
  {
   "cell_type": "code",
   "execution_count": 30,
   "id": "6bff883c",
   "metadata": {},
   "outputs": [],
   "source": [
    "def router_supervisor(state:VaribleState):\n",
    "    print(\"=> Router_Supervisor =>\")\n",
    "\n",
    "    last_msg=state['messages'][-1]\n",
    "    print(\"last message: \", last_msg)\n",
    "\n",
    "    if \"news\" in last_msg.lower() and state['retrycount']==0:\n",
    "        return \"Search in DB\"\n",
    "    if \"news\" in last_msg.lower() and state['retrycount']==1:\n",
    "        return \"Search in web as news is not found in DB\"\n",
    "    else:\n",
    "        return \"Call LLM if question does not seems to be news\"\n",
    "\n",
    "# def router_rag(state:VaribleState):\n",
    "#     print(\"=> Router_RAG =>\")\n",
    "\n",
    "#     last_msg=state['messages'][-1]\n",
    "#     print(\"last message: \", last_msg)\n",
    "\n",
    "#     substrings = [\"not found\", \"cannot be answered\", \"don't know\"]\n",
    "#     if any(sub in text.lower() for sub in substrings):\n",
    "#         return \"WebCrawler Call\"\n",
    "#     else:\n",
    "#         return \"Validator Call\"\n",
    "    \n",
    "def router_validation(state:VaribleState):\n",
    "    print(\"=> Router_Validation =>\")\n",
    "\n",
    "    last_msg=state['messages'][-1]\n",
    "    print(\"last message: \", last_msg)\n",
    "\n",
    "    if \"retry\" in last_msg.lower():\n",
    "        return \"Validation Failed\"\n",
    "    else:\n",
    "        return \"Validation Pass\""
   ]
  },
  {
   "cell_type": "code",
   "execution_count": 31,
   "id": "4c51689c",
   "metadata": {},
   "outputs": [
    {
     "data": {
      "image/png": "[encoded data removed]",
      "text/plain": [
       "<IPython.core.display.Image object>"
      ]
     },
     "metadata": {},
     "output_type": "display_data"
    }
   ],
   "source": [
    "workflow=StateGraph(VaribleState)\n",
    "workflow.add_node(\"Supervisor\", fun_supervisor)\n",
    "workflow.add_node(\"RAG\", fun_RAG)\n",
    "workflow.add_node(\"LLM\", fun_llm)\n",
    "workflow.add_node(\"WebCrawler\", fun_web)\n",
    "workflow.add_node(\"Validator\", fun_validator)\n",
    "workflow.add_node(\"FinalOutput\", fun_FinalOutput)\n",
    "\n",
    "workflow.set_entry_point(\"Supervisor\")\n",
    "workflow.add_conditional_edges(\n",
    "    \"Supervisor\",\n",
    "    router_supervisor,\n",
    "    {\n",
    "        \"Search in DB\":\"RAG\",\n",
    "        \"Search in web as news is not found in DB\":\"WebCrawler\",\n",
    "        \"Call LLM if question does not seems to be news\":\"LLM\"\n",
    "    }\n",
    ")\n",
    "# workflow.add_conditional_edges(\n",
    "#     \"RAG\",\n",
    "#     router_rag,\n",
    "#     {\n",
    "#         \"WebCrawler Call\":\"WebCrawler\",\n",
    "#         \"Validator Call\":\"Validator\"\n",
    "#     }\n",
    "# )\n",
    "workflow.add_conditional_edges(\n",
    "    \"Validator\",\n",
    "    router_validation,\n",
    "    {\n",
    "        \"Validation Pass\": \"FinalOutput\",\n",
    "        \"Validation Failed\": \"Supervisor\",  # Loop back\n",
    "    }\n",
    ")\n",
    "workflow.add_edge(\"RAG\", \"Validator\")\n",
    "workflow.add_edge(\"LLM\", \"Validator\")\n",
    "workflow.add_edge(\"WebCrawler\", \"Validator\")\n",
    "workflow.add_edge(\"FinalOutput\", END)\n",
    "\n",
    "app=workflow.compile()\n",
    "\n",
    "from IPython.display import Image, display\n",
    "display(Image(app.get_graph().draw_mermaid_png()))"
   ]
  },
  {
   "cell_type": "code",
   "execution_count": 23,
   "id": "e97c64c9",
   "metadata": {},
   "outputs": [
    {
     "name": "stdout",
     "output_type": "stream",
     "text": [
      "=> Supervisor Call=>\n",
      "Your question is :  Yoga for One Earth, One Health is in Dehli?\n",
      "Parsed response: Topic='News' Research=\"The query asks for information about the location of a specific yoga event or organization ('Yoga for One Earth, One Health') in Delhi.  This suggests a news-related query, seeking factual information about an event or organization's presence in a particular location.\"\n",
      "=> Router_Supervisor =>\n",
      "last message:  News\n",
      "=> RAG Call=>\n",
      "=> Validation Call=>\n",
      "last_msg:  Yes, the Yoga Connect 2025 summit, focusing on \"Yoga for One Earth, One Health,\" is being held in New Delhi.  The event is a hybrid global summit.  More information can be found via the provided link.\n",
      "=> Router_Validation =>\n",
      "last message:  News is real and verified in db.\n",
      "=> FinalOutput Call=>\n",
      "Here is langgraph decesion:  News is real and verified in db.\n"
     ]
    },
    {
     "data": {
      "text/plain": [
       "{'messages': ['Yoga for One Earth, One Health is in Dehli?',\n",
       "  'News',\n",
       "  'Yes, the Yoga Connect 2025 summit, focusing on \"Yoga for One Earth, One Health,\" is being held in New Delhi.  The event is a hybrid global summit.  More information can be found via the provided link.',\n",
       "  'News is real and verified in db.'],\n",
       " 'source': 'db',\n",
       " 'retrycount': 0}"
      ]
     },
     "execution_count": 23,
     "metadata": {},
     "output_type": "execute_result"
    }
   ],
   "source": [
    "state={\"messages\":[\"Yoga for One Earth, One Health is in Dehli?\"], \"retrycount\":0, \"source\":\"\"}\n",
    "\n",
    "app.invoke(state)"
   ]
  },
  {
   "cell_type": "code",
   "execution_count": 24,
   "id": "0fd2e05b",
   "metadata": {},
   "outputs": [
    {
     "name": "stdout",
     "output_type": "stream",
     "text": [
      "=> Supervisor Call=>\n",
      "Your question is :  Plane crash in Gujrat ahmedabad?\n",
      "Parsed response: Topic='News' Research='The query is asking for information about a potential plane crash in Gujarat, Ahmedabad.  This is a newsworthy event.'\n",
      "=> Router_Supervisor =>\n",
      "last message:  News\n",
      "=> RAG Call=>\n",
      "=> Validation Call=>\n",
      "last_msg:  I don't know.  The provided text is about International Day of Yoga and contains no information about a plane crash in Gujarat, Ahmedabad.\n",
      "text to search in gov sources: Plane crash in Gujrat ahmedabad?\n",
      "matches:  [('RT @RamMNK: The Flight Data Recorder (Black Box) has been recovered within 28 hours from the accident site in Ahmedabad by AAIB. This marks…', 0.5936906933784485)]\n",
      "=> Router_Validation =>\n",
      "last message:  News is real and verified.\n",
      "=> FinalOutput Call=>\n",
      "Here is langgraph decesion:  News is real and verified.\n"
     ]
    },
    {
     "data": {
      "text/plain": [
       "{'messages': ['Plane crash in Gujrat ahmedabad?',\n",
       "  'News',\n",
       "  \"I don't know.  The provided text is about International Day of Yoga and contains no information about a plane crash in Gujarat, Ahmedabad.\",\n",
       "  'News is real and verified.'],\n",
       " 'source': 'db',\n",
       " 'retrycount': 0}"
      ]
     },
     "execution_count": 24,
     "metadata": {},
     "output_type": "execute_result"
    }
   ],
   "source": [
    "state={\"messages\":[\"Plane crash in Gujrat ahmedabad?\"], \"retrycount\":0, \"source\":\"\"}\n",
    "\n",
    "app.invoke(state)"
   ]
  },
  {
   "cell_type": "code",
   "execution_count": 25,
   "id": "85840672",
   "metadata": {},
   "outputs": [
    {
     "name": "stdout",
     "output_type": "stream",
     "text": [
      "=> Supervisor Call=>\n",
      "Your question is :  What is capital for india?\n",
      "Parsed response: Topic='Not Related' Research='This is a general knowledge question, not a news query.'\n",
      "=> Router_Supervisor =>\n",
      "last message:  Not Related\n",
      "=> LLM Call=>\n",
      "=> Validation Call=>\n",
      "last_msg:  The capital of India is New Delhi.\n"
     ]
    },
    {
     "ename": "KeyError",
     "evalue": "'retrycount'",
     "output_type": "error",
     "traceback": [
      "\u001b[31m---------------------------------------------------------------------------\u001b[39m",
      "\u001b[31mKeyError\u001b[39m                                  Traceback (most recent call last)",
      "\u001b[36mCell\u001b[39m\u001b[36m \u001b[39m\u001b[32mIn[25]\u001b[39m\u001b[32m, line 3\u001b[39m\n\u001b[32m      1\u001b[39m state={\u001b[33m\"\u001b[39m\u001b[33mmessages\u001b[39m\u001b[33m\"\u001b[39m:[\u001b[33m\"\u001b[39m\u001b[33mWhat is capital for india?\u001b[39m\u001b[33m\"\u001b[39m]}\n\u001b[32m----> \u001b[39m\u001b[32m3\u001b[39m \u001b[43mapp\u001b[49m\u001b[43m.\u001b[49m\u001b[43minvoke\u001b[49m\u001b[43m(\u001b[49m\u001b[43mstate\u001b[49m\u001b[43m)\u001b[49m\n",
      "\u001b[36mFile \u001b[39m\u001b[32mc:\\vijay\\work\\code\\AI\\AgenticAILearning\\venv\\Lib\\site-packages\\langgraph\\pregel\\__init__.py:2719\u001b[39m, in \u001b[36mPregel.invoke\u001b[39m\u001b[34m(self, input, config, stream_mode, output_keys, interrupt_before, interrupt_after, checkpoint_during, debug, **kwargs)\u001b[39m\n\u001b[32m   2716\u001b[39m chunks: \u001b[38;5;28mlist\u001b[39m[Union[\u001b[38;5;28mdict\u001b[39m[\u001b[38;5;28mstr\u001b[39m, Any], Any]] = []\n\u001b[32m   2717\u001b[39m interrupts: \u001b[38;5;28mlist\u001b[39m[Interrupt] = []\n\u001b[32m-> \u001b[39m\u001b[32m2719\u001b[39m \u001b[43m\u001b[49m\u001b[38;5;28;43;01mfor\u001b[39;49;00m\u001b[43m \u001b[49m\u001b[43mchunk\u001b[49m\u001b[43m \u001b[49m\u001b[38;5;129;43;01min\u001b[39;49;00m\u001b[43m \u001b[49m\u001b[38;5;28;43mself\u001b[39;49m\u001b[43m.\u001b[49m\u001b[43mstream\u001b[49m\u001b[43m(\u001b[49m\n\u001b[32m   2720\u001b[39m \u001b[43m    \u001b[49m\u001b[38;5;28;43minput\u001b[39;49m\u001b[43m,\u001b[49m\n\u001b[32m   2721\u001b[39m \u001b[43m    \u001b[49m\u001b[43mconfig\u001b[49m\u001b[43m,\u001b[49m\n\u001b[32m   2722\u001b[39m \u001b[43m    \u001b[49m\u001b[43mstream_mode\u001b[49m\u001b[43m=\u001b[49m\u001b[43mstream_mode\u001b[49m\u001b[43m,\u001b[49m\n\u001b[32m   2723\u001b[39m \u001b[43m    \u001b[49m\u001b[43moutput_keys\u001b[49m\u001b[43m=\u001b[49m\u001b[43moutput_keys\u001b[49m\u001b[43m,\u001b[49m\n\u001b[32m   2724\u001b[39m \u001b[43m    \u001b[49m\u001b[43minterrupt_before\u001b[49m\u001b[43m=\u001b[49m\u001b[43minterrupt_before\u001b[49m\u001b[43m,\u001b[49m\n\u001b[32m   2725\u001b[39m \u001b[43m    \u001b[49m\u001b[43minterrupt_after\u001b[49m\u001b[43m=\u001b[49m\u001b[43minterrupt_after\u001b[49m\u001b[43m,\u001b[49m\n\u001b[32m   2726\u001b[39m \u001b[43m    \u001b[49m\u001b[43mcheckpoint_during\u001b[49m\u001b[43m=\u001b[49m\u001b[43mcheckpoint_during\u001b[49m\u001b[43m,\u001b[49m\n\u001b[32m   2727\u001b[39m \u001b[43m    \u001b[49m\u001b[43mdebug\u001b[49m\u001b[43m=\u001b[49m\u001b[43mdebug\u001b[49m\u001b[43m,\u001b[49m\n\u001b[32m   2728\u001b[39m \u001b[43m    \u001b[49m\u001b[43m*\u001b[49m\u001b[43m*\u001b[49m\u001b[43mkwargs\u001b[49m\u001b[43m,\u001b[49m\n\u001b[32m   2729\u001b[39m \u001b[43m\u001b[49m\u001b[43m)\u001b[49m\u001b[43m:\u001b[49m\n\u001b[32m   2730\u001b[39m \u001b[43m    \u001b[49m\u001b[38;5;28;43;01mif\u001b[39;49;00m\u001b[43m \u001b[49m\u001b[43mstream_mode\u001b[49m\u001b[43m \u001b[49m\u001b[43m==\u001b[49m\u001b[43m \u001b[49m\u001b[33;43m\"\u001b[39;49m\u001b[33;43mvalues\u001b[39;49m\u001b[33;43m\"\u001b[39;49m\u001b[43m:\u001b[49m\n\u001b[32m   2731\u001b[39m \u001b[43m        \u001b[49m\u001b[38;5;28;43;01mif\u001b[39;49;00m\u001b[43m \u001b[49m\u001b[43m(\u001b[49m\n\u001b[32m   2732\u001b[39m \u001b[43m            \u001b[49m\u001b[38;5;28;43misinstance\u001b[39;49m\u001b[43m(\u001b[49m\u001b[43mchunk\u001b[49m\u001b[43m,\u001b[49m\u001b[43m \u001b[49m\u001b[38;5;28;43mdict\u001b[39;49m\u001b[43m)\u001b[49m\n\u001b[32m   2733\u001b[39m \u001b[43m            \u001b[49m\u001b[38;5;129;43;01mand\u001b[39;49;00m\u001b[43m \u001b[49m\u001b[43m(\u001b[49m\u001b[43mints\u001b[49m\u001b[43m \u001b[49m\u001b[43m:=\u001b[49m\u001b[43m \u001b[49m\u001b[43mchunk\u001b[49m\u001b[43m.\u001b[49m\u001b[43mget\u001b[49m\u001b[43m(\u001b[49m\u001b[43mINTERRUPT\u001b[49m\u001b[43m)\u001b[49m\u001b[43m)\u001b[49m\u001b[43m \u001b[49m\u001b[38;5;129;43;01mis\u001b[39;49;00m\u001b[43m \u001b[49m\u001b[38;5;129;43;01mnot\u001b[39;49;00m\u001b[43m \u001b[49m\u001b[38;5;28;43;01mNone\u001b[39;49;00m\n\u001b[32m   2734\u001b[39m \u001b[43m        \u001b[49m\u001b[43m)\u001b[49m\u001b[43m:\u001b[49m\n",
      "\u001b[36mFile \u001b[39m\u001b[32mc:\\vijay\\work\\code\\AI\\AgenticAILearning\\venv\\Lib\\site-packages\\langgraph\\pregel\\__init__.py:2436\u001b[39m, in \u001b[36mPregel.stream\u001b[39m\u001b[34m(self, input, config, stream_mode, output_keys, interrupt_before, interrupt_after, checkpoint_during, debug, subgraphs)\u001b[39m\n\u001b[32m   2434\u001b[39m         \u001b[38;5;28;01mfor\u001b[39;00m task \u001b[38;5;129;01min\u001b[39;00m loop.match_cached_writes():\n\u001b[32m   2435\u001b[39m             loop.output_writes(task.id, task.writes, cached=\u001b[38;5;28;01mTrue\u001b[39;00m)\n\u001b[32m-> \u001b[39m\u001b[32m2436\u001b[39m \u001b[43m        \u001b[49m\u001b[38;5;28;43;01mfor\u001b[39;49;00m\u001b[43m \u001b[49m\u001b[43m_\u001b[49m\u001b[43m \u001b[49m\u001b[38;5;129;43;01min\u001b[39;49;00m\u001b[43m \u001b[49m\u001b[43mrunner\u001b[49m\u001b[43m.\u001b[49m\u001b[43mtick\u001b[49m\u001b[43m(\u001b[49m\n\u001b[32m   2437\u001b[39m \u001b[43m            \u001b[49m\u001b[43m[\u001b[49m\u001b[43mt\u001b[49m\u001b[43m \u001b[49m\u001b[38;5;28;43;01mfor\u001b[39;49;00m\u001b[43m \u001b[49m\u001b[43mt\u001b[49m\u001b[43m \u001b[49m\u001b[38;5;129;43;01min\u001b[39;49;00m\u001b[43m \u001b[49m\u001b[43mloop\u001b[49m\u001b[43m.\u001b[49m\u001b[43mtasks\u001b[49m\u001b[43m.\u001b[49m\u001b[43mvalues\u001b[49m\u001b[43m(\u001b[49m\u001b[43m)\u001b[49m\u001b[43m \u001b[49m\u001b[38;5;28;43;01mif\u001b[39;49;00m\u001b[43m \u001b[49m\u001b[38;5;129;43;01mnot\u001b[39;49;00m\u001b[43m \u001b[49m\u001b[43mt\u001b[49m\u001b[43m.\u001b[49m\u001b[43mwrites\u001b[49m\u001b[43m]\u001b[49m\u001b[43m,\u001b[49m\n\u001b[32m   2438\u001b[39m \u001b[43m            \u001b[49m\u001b[43mtimeout\u001b[49m\u001b[43m=\u001b[49m\u001b[38;5;28;43mself\u001b[39;49m\u001b[43m.\u001b[49m\u001b[43mstep_timeout\u001b[49m\u001b[43m,\u001b[49m\n\u001b[32m   2439\u001b[39m \u001b[43m            \u001b[49m\u001b[43mget_waiter\u001b[49m\u001b[43m=\u001b[49m\u001b[43mget_waiter\u001b[49m\u001b[43m,\u001b[49m\n\u001b[32m   2440\u001b[39m \u001b[43m            \u001b[49m\u001b[43mschedule_task\u001b[49m\u001b[43m=\u001b[49m\u001b[43mloop\u001b[49m\u001b[43m.\u001b[49m\u001b[43maccept_push\u001b[49m\u001b[43m,\u001b[49m\n\u001b[32m   2441\u001b[39m \u001b[43m        \u001b[49m\u001b[43m)\u001b[49m\u001b[43m:\u001b[49m\n\u001b[32m   2442\u001b[39m \u001b[43m            \u001b[49m\u001b[38;5;66;43;03m# emit output\u001b[39;49;00m\n\u001b[32m   2443\u001b[39m \u001b[43m            \u001b[49m\u001b[38;5;28;43;01myield from\u001b[39;49;00m\u001b[43m \u001b[49m\u001b[43moutput\u001b[49m\u001b[43m(\u001b[49m\u001b[43m)\u001b[49m\n\u001b[32m   2444\u001b[39m \u001b[38;5;66;03m# emit output\u001b[39;00m\n",
      "\u001b[36mFile \u001b[39m\u001b[32mc:\\vijay\\work\\code\\AI\\AgenticAILearning\\venv\\Lib\\site-packages\\langgraph\\pregel\\runner.py:161\u001b[39m, in \u001b[36mPregelRunner.tick\u001b[39m\u001b[34m(self, tasks, reraise, timeout, retry_policy, get_waiter, schedule_task)\u001b[39m\n\u001b[32m    159\u001b[39m t = tasks[\u001b[32m0\u001b[39m]\n\u001b[32m    160\u001b[39m \u001b[38;5;28;01mtry\u001b[39;00m:\n\u001b[32m--> \u001b[39m\u001b[32m161\u001b[39m     \u001b[43mrun_with_retry\u001b[49m\u001b[43m(\u001b[49m\n\u001b[32m    162\u001b[39m \u001b[43m        \u001b[49m\u001b[43mt\u001b[49m\u001b[43m,\u001b[49m\n\u001b[32m    163\u001b[39m \u001b[43m        \u001b[49m\u001b[43mretry_policy\u001b[49m\u001b[43m,\u001b[49m\n\u001b[32m    164\u001b[39m \u001b[43m        \u001b[49m\u001b[43mconfigurable\u001b[49m\u001b[43m=\u001b[49m\u001b[43m{\u001b[49m\n\u001b[32m    165\u001b[39m \u001b[43m            \u001b[49m\u001b[43mCONFIG_KEY_CALL\u001b[49m\u001b[43m:\u001b[49m\u001b[43m \u001b[49m\u001b[43mpartial\u001b[49m\u001b[43m(\u001b[49m\n\u001b[32m    166\u001b[39m \u001b[43m                \u001b[49m\u001b[43m_call\u001b[49m\u001b[43m,\u001b[49m\n\u001b[32m    167\u001b[39m \u001b[43m                \u001b[49m\u001b[43mweakref\u001b[49m\u001b[43m.\u001b[49m\u001b[43mref\u001b[49m\u001b[43m(\u001b[49m\u001b[43mt\u001b[49m\u001b[43m)\u001b[49m\u001b[43m,\u001b[49m\n\u001b[32m    168\u001b[39m \u001b[43m                \u001b[49m\u001b[43mretry\u001b[49m\u001b[43m=\u001b[49m\u001b[43mretry_policy\u001b[49m\u001b[43m,\u001b[49m\n\u001b[32m    169\u001b[39m \u001b[43m                \u001b[49m\u001b[43mfutures\u001b[49m\u001b[43m=\u001b[49m\u001b[43mweakref\u001b[49m\u001b[43m.\u001b[49m\u001b[43mref\u001b[49m\u001b[43m(\u001b[49m\u001b[43mfutures\u001b[49m\u001b[43m)\u001b[49m\u001b[43m,\u001b[49m\n\u001b[32m    170\u001b[39m \u001b[43m                \u001b[49m\u001b[43mschedule_task\u001b[49m\u001b[43m=\u001b[49m\u001b[43mschedule_task\u001b[49m\u001b[43m,\u001b[49m\n\u001b[32m    171\u001b[39m \u001b[43m                \u001b[49m\u001b[43msubmit\u001b[49m\u001b[43m=\u001b[49m\u001b[38;5;28;43mself\u001b[39;49m\u001b[43m.\u001b[49m\u001b[43msubmit\u001b[49m\u001b[43m,\u001b[49m\n\u001b[32m    172\u001b[39m \u001b[43m            \u001b[49m\u001b[43m)\u001b[49m\u001b[43m,\u001b[49m\n\u001b[32m    173\u001b[39m \u001b[43m        \u001b[49m\u001b[43m}\u001b[49m\u001b[43m,\u001b[49m\n\u001b[32m    174\u001b[39m \u001b[43m    \u001b[49m\u001b[43m)\u001b[49m\n\u001b[32m    175\u001b[39m     \u001b[38;5;28mself\u001b[39m.commit(t, \u001b[38;5;28;01mNone\u001b[39;00m)\n\u001b[32m    176\u001b[39m \u001b[38;5;28;01mexcept\u001b[39;00m \u001b[38;5;167;01mException\u001b[39;00m \u001b[38;5;28;01mas\u001b[39;00m exc:\n",
      "\u001b[36mFile \u001b[39m\u001b[32mc:\\vijay\\work\\code\\AI\\AgenticAILearning\\venv\\Lib\\site-packages\\langgraph\\pregel\\retry.py:40\u001b[39m, in \u001b[36mrun_with_retry\u001b[39m\u001b[34m(task, retry_policy, configurable)\u001b[39m\n\u001b[32m     38\u001b[39m     task.writes.clear()\n\u001b[32m     39\u001b[39m     \u001b[38;5;66;03m# run the task\u001b[39;00m\n\u001b[32m---> \u001b[39m\u001b[32m40\u001b[39m     \u001b[38;5;28;01mreturn\u001b[39;00m \u001b[43mtask\u001b[49m\u001b[43m.\u001b[49m\u001b[43mproc\u001b[49m\u001b[43m.\u001b[49m\u001b[43minvoke\u001b[49m\u001b[43m(\u001b[49m\u001b[43mtask\u001b[49m\u001b[43m.\u001b[49m\u001b[43minput\u001b[49m\u001b[43m,\u001b[49m\u001b[43m \u001b[49m\u001b[43mconfig\u001b[49m\u001b[43m)\u001b[49m\n\u001b[32m     41\u001b[39m \u001b[38;5;28;01mexcept\u001b[39;00m ParentCommand \u001b[38;5;28;01mas\u001b[39;00m exc:\n\u001b[32m     42\u001b[39m     ns: \u001b[38;5;28mstr\u001b[39m = config[CONF][CONFIG_KEY_CHECKPOINT_NS]\n",
      "\u001b[36mFile \u001b[39m\u001b[32mc:\\vijay\\work\\code\\AI\\AgenticAILearning\\venv\\Lib\\site-packages\\langgraph\\utils\\runnable.py:623\u001b[39m, in \u001b[36mRunnableSeq.invoke\u001b[39m\u001b[34m(self, input, config, **kwargs)\u001b[39m\n\u001b[32m    621\u001b[39m     \u001b[38;5;66;03m# run in context\u001b[39;00m\n\u001b[32m    622\u001b[39m     \u001b[38;5;28;01mwith\u001b[39;00m set_config_context(config, run) \u001b[38;5;28;01mas\u001b[39;00m context:\n\u001b[32m--> \u001b[39m\u001b[32m623\u001b[39m         \u001b[38;5;28minput\u001b[39m = \u001b[43mcontext\u001b[49m\u001b[43m.\u001b[49m\u001b[43mrun\u001b[49m\u001b[43m(\u001b[49m\u001b[43mstep\u001b[49m\u001b[43m.\u001b[49m\u001b[43minvoke\u001b[49m\u001b[43m,\u001b[49m\u001b[43m \u001b[49m\u001b[38;5;28;43minput\u001b[39;49m\u001b[43m,\u001b[49m\u001b[43m \u001b[49m\u001b[43mconfig\u001b[49m\u001b[43m,\u001b[49m\u001b[43m \u001b[49m\u001b[43m*\u001b[49m\u001b[43m*\u001b[49m\u001b[43mkwargs\u001b[49m\u001b[43m)\u001b[49m\n\u001b[32m    624\u001b[39m \u001b[38;5;28;01melse\u001b[39;00m:\n\u001b[32m    625\u001b[39m     \u001b[38;5;28minput\u001b[39m = step.invoke(\u001b[38;5;28minput\u001b[39m, config)\n",
      "\u001b[36mFile \u001b[39m\u001b[32mc:\\vijay\\work\\code\\AI\\AgenticAILearning\\venv\\Lib\\site-packages\\langgraph\\utils\\runnable.py:377\u001b[39m, in \u001b[36mRunnableCallable.invoke\u001b[39m\u001b[34m(self, input, config, **kwargs)\u001b[39m\n\u001b[32m    375\u001b[39m         run_manager.on_chain_end(ret)\n\u001b[32m    376\u001b[39m \u001b[38;5;28;01melse\u001b[39;00m:\n\u001b[32m--> \u001b[39m\u001b[32m377\u001b[39m     ret = \u001b[38;5;28;43mself\u001b[39;49m\u001b[43m.\u001b[49m\u001b[43mfunc\u001b[49m\u001b[43m(\u001b[49m\u001b[43m*\u001b[49m\u001b[43margs\u001b[49m\u001b[43m,\u001b[49m\u001b[43m \u001b[49m\u001b[43m*\u001b[49m\u001b[43m*\u001b[49m\u001b[43mkwargs\u001b[49m\u001b[43m)\u001b[49m\n\u001b[32m    378\u001b[39m \u001b[38;5;28;01mif\u001b[39;00m \u001b[38;5;28mself\u001b[39m.recurse \u001b[38;5;129;01mand\u001b[39;00m \u001b[38;5;28misinstance\u001b[39m(ret, Runnable):\n\u001b[32m    379\u001b[39m     \u001b[38;5;28;01mreturn\u001b[39;00m ret.invoke(\u001b[38;5;28minput\u001b[39m, config)\n",
      "\u001b[36mCell\u001b[39m\u001b[36m \u001b[39m\u001b[32mIn[19]\u001b[39m\u001b[32m, line 9\u001b[39m, in \u001b[36mfun_validator\u001b[39m\u001b[34m(state)\u001b[39m\n\u001b[32m      6\u001b[39m \u001b[38;5;28mprint\u001b[39m(\u001b[33m\"\u001b[39m\u001b[33mlast_msg: \u001b[39m\u001b[33m\"\u001b[39m,last_msg)\n\u001b[32m      8\u001b[39m source = state[\u001b[33m\"\u001b[39m\u001b[33msource\u001b[39m\u001b[33m\"\u001b[39m]\n\u001b[32m----> \u001b[39m\u001b[32m9\u001b[39m retrycount= \u001b[43mstate\u001b[49m\u001b[43m[\u001b[49m\u001b[33;43m\"\u001b[39;49m\u001b[33;43mretrycount\u001b[39;49m\u001b[33;43m\"\u001b[39;49m\u001b[43m]\u001b[49m\n\u001b[32m     10\u001b[39m result=\u001b[33m\"\u001b[39m\u001b[33m\"\u001b[39m\n\u001b[32m     12\u001b[39m substrings = [\u001b[33m\"\u001b[39m\u001b[33mnot found\u001b[39m\u001b[33m\"\u001b[39m, \u001b[33m\"\u001b[39m\u001b[33mcannot be answered\u001b[39m\u001b[33m\"\u001b[39m, \u001b[33m\"\u001b[39m\u001b[33mdon\u001b[39m\u001b[33m'\u001b[39m\u001b[33mt know\u001b[39m\u001b[33m\"\u001b[39m,\u001b[33m\"\u001b[39m\u001b[33mNo results found\u001b[39m\u001b[33m\"\u001b[39m]\n",
      "\u001b[31mKeyError\u001b[39m: 'retrycount'",
      "During task with name 'Validator' and id '20e95a6c-2a98-b9df-f35d-be812e6ae708'"
     ]
    }
   ],
   "source": [
    "state={\"messages\":[\"What is capital for india?\"]}\n",
    "\n",
    "app.invoke(state)"
   ]
  },
  {
   "cell_type": "code",
   "execution_count": null,
   "id": "eef423c8",
   "metadata": {},
   "outputs": [],
   "source": []
  }
 ],
 "metadata": {
  "kernelspec": {
   "display_name": "Python 3",
   "language": "python",
   "name": "python3"
  },
  "language_info": {
   "codemirror_mode": {
    "name": "ipython",
    "version": 3
   },
   "file_extension": ".py",
   "mimetype": "text/x-python",
   "name": "python",
   "nbconvert_exporter": "python",
   "pygments_lexer": "ipython3",
   "version": "3.13.2"
  }
 },
 "nbformat": 4,
 "nbformat_minor": 5
}
