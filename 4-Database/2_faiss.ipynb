{
 "cells": [
  {
   "cell_type": "markdown",
   "id": "f34fedd3",
   "metadata": {},
   "source": [
    "| Feature               | `Flat`                | `IVF` (Inverted File Index)        | `HNSW` (Graph-based Index)          |\n",
    "| --------------------- | --------------------- | ---------------------------------- | ----------------------------------- |\n",
    "| Type of Search     | Exact                 | Approximate (cluster-based)        | Approximate (graph-based traversal) |\n",
    "| Speed               | Slow (linear scan)    | Fast (search only in top clusters) | Very Fast (graph walk)              |\n"
   ]
  },
  {
   "cell_type": "markdown",
   "id": "2e954d34",
   "metadata": {},
   "source": [
    "| Dataset Size              | Recommended Index                 |\n",
    "| ------------------------- | --------------------------------- |\n",
    "| UPTO 1L                     | `IndexFlatL2` or `IndexFlatIP`    |\n",
    "| UPTO 1M                  | `IndexIVFFlat` or `IndexHNSWFlat` |\n",
    "| > 1M                      | `IndexIVFPQ` or `IndexHNSWFlat`   |\n"
   ]
  },
  {
   "cell_type": "code",
   "execution_count": 1,
   "id": "38c5d785",
   "metadata": {},
   "outputs": [],
   "source": [
    "from langchain_core.documents import Document\n",
    "\n",
    "document_1 = Document(\n",
    "    page_content=\"I had chocolate chip pancakes and scrambled eggs for breakfast this morning.\",\n",
    "    metadata={\"source\": \"tweet\"},\n",
    ")\n",
    "\n",
    "document_2 = Document(\n",
    "    page_content=\"The weather forecast for tomorrow is cloudy and overcast, with a high of 62 degrees.\",\n",
    "    metadata={\"source\": \"news\"},\n",
    ")\n",
    "\n",
    "document_3 = Document(\n",
    "    page_content=\"Building an exciting new project with LangChain - come check it out!\",\n",
    "    metadata={\"source\": \"tweet\"},\n",
    ")\n",
    "\n",
    "document_4 = Document(\n",
    "    page_content=\"Robbers broke into the city bank and stole $1 million in cash.\",\n",
    "    metadata={\"source\": \"news\"},\n",
    ")\n",
    "\n",
    "document_5 = Document(\n",
    "    page_content=\"Wow! That was an amazing movie. I can't wait to see it again.\",\n",
    "    metadata={\"source\": \"tweet\"},\n",
    ")\n",
    "\n",
    "document_6 = Document(\n",
    "    page_content=\"Is the new iPhone worth the price? Read this review to find out.\",\n",
    "    metadata={\"source\": \"website\"},\n",
    ")\n",
    "\n",
    "document_7 = Document(\n",
    "    page_content=\"The top 10 soccer players in the world right now.\",\n",
    "    metadata={\"source\": \"website\"},\n",
    ")\n",
    "\n",
    "document_8 = Document(\n",
    "    page_content=\"LangGraph is the best framework for building stateful, agentic applications!\",\n",
    "    metadata={\"source\": \"tweet\"},\n",
    ")\n",
    "\n",
    "document_9 = Document(\n",
    "    page_content=\"The stock market is down 500 points today due to fears of a recession.\",\n",
    "    metadata={\"source\": \"news\"},\n",
    ")\n",
    "\n",
    "document_10 = Document(\n",
    "    page_content=\"I have a bad feeling I am going to get deleted :(\",\n",
    "    metadata={\"source\": \"tweet\"},\n",
    ")\n",
    "\n",
    "documents=[\n",
    "    document_1,\n",
    "    document_2,\n",
    "    document_3,\n",
    "    document_4,\n",
    "    document_5,\n",
    "    document_6,\n",
    "    document_7,\n",
    "    document_8,\n",
    "    document_9,\n",
    "    document_10,\n",
    "]"
   ]
  },
  {
   "cell_type": "code",
   "execution_count": 6,
   "id": "3ed503c8",
   "metadata": {},
   "outputs": [
    {
     "name": "stderr",
     "output_type": "stream",
     "text": [
      "c:\\vijay\\work\\code\\AI\\AgenticAILearning\\venv\\Lib\\site-packages\\tqdm\\auto.py:21: TqdmWarning: IProgress not found. Please update jupyter and ipywidgets. See https://ipywidgets.readthedocs.io/en/stable/user_install.html\n",
      "  from .autonotebook import tqdm as notebook_tqdm\n"
     ]
    }
   ],
   "source": [
    "from langchain_huggingface import HuggingFaceEmbeddings\n",
    "embeddings=HuggingFaceEmbeddings(model_name=\"all-MiniLM-L6-v2\")"
   ]
  },
  {
   "cell_type": "code",
   "execution_count": 2,
   "id": "31e7a10e",
   "metadata": {},
   "outputs": [],
   "source": [
    "import faiss\n",
    "from langchain_community.vectorstores import FAISS\n",
    "from langchain_community.docstore.in_memory import InMemoryDocstore"
   ]
  },
  {
   "cell_type": "code",
   "execution_count": 7,
   "id": "ae58d02d",
   "metadata": {},
   "outputs": [],
   "source": [
    "index=faiss.IndexFlatL2(384)\n",
    "\n",
    "vector_store=FAISS(\n",
    "    embedding_function=embeddings,\n",
    "    index=index,\n",
    "    docstore=InMemoryDocstore(),\n",
    "    index_to_docstore_id={}\n",
    ")"
   ]
  },
  {
   "cell_type": "code",
   "execution_count": 8,
   "id": "57ed1543",
   "metadata": {},
   "outputs": [
    {
     "data": {
      "text/plain": [
       "['632f168a-66e9-4422-9ebd-01f887f49a53',\n",
       " 'f4afa37a-4b90-436a-87b8-ce0a35035ff1',\n",
       " 'd1124f5a-1eb6-4892-8c43-5d1222fe7646',\n",
       " '03721196-e09b-4b5e-8409-c121a618a83b',\n",
       " '260f16ac-4196-4e6a-8002-d6898aad11b4',\n",
       " 'e046a48a-bc66-4fd6-aef0-8b65c41d48ee',\n",
       " '7265c12b-58c9-4d71-b10d-d33d0c4f8dad',\n",
       " '5070cd01-fabb-4c02-9464-abe35905b0ca',\n",
       " 'd6536a11-aa55-41fb-b3ea-3aa55c52be5c',\n",
       " 'c095787d-b4f4-408a-934e-b93c687ce6ee']"
      ]
     },
     "execution_count": 8,
     "metadata": {},
     "output_type": "execute_result"
    }
   ],
   "source": [
    "vector_store.add_documents(documents=documents)"
   ]
  },
  {
   "cell_type": "code",
   "execution_count": 9,
   "id": "70b71eb7",
   "metadata": {},
   "outputs": [
    {
     "data": {
      "text/plain": [
       "[Document(id='d1124f5a-1eb6-4892-8c43-5d1222fe7646', metadata={'source': 'tweet'}, page_content='Building an exciting new project with LangChain - come check it out!'),\n",
       " Document(id='5070cd01-fabb-4c02-9464-abe35905b0ca', metadata={'source': 'tweet'}, page_content='LangGraph is the best framework for building stateful, agentic applications!')]"
      ]
     },
     "execution_count": 9,
     "metadata": {},
     "output_type": "execute_result"
    }
   ],
   "source": [
    "vector_store.similarity_search(\"LangChain provides abstractions to make working with LLMs easy\",k=2)"
   ]
  },
  {
   "cell_type": "code",
   "execution_count": 11,
   "id": "3d5ced46",
   "metadata": {},
   "outputs": [
    {
     "data": {
      "text/plain": [
       "[Document(id='d1124f5a-1eb6-4892-8c43-5d1222fe7646', metadata={'source': 'tweet'}, page_content='Building an exciting new project with LangChain - come check it out!'),\n",
       " Document(id='5070cd01-fabb-4c02-9464-abe35905b0ca', metadata={'source': 'tweet'}, page_content='LangGraph is the best framework for building stateful, agentic applications!'),\n",
       " Document(id='c095787d-b4f4-408a-934e-b93c687ce6ee', metadata={'source': 'tweet'}, page_content='I have a bad feeling I am going to get deleted :('),\n",
       " Document(id='632f168a-66e9-4422-9ebd-01f887f49a53', metadata={'source': 'tweet'}, page_content='I had chocolate chip pancakes and scrambled eggs for breakfast this morning.')]"
      ]
     },
     "execution_count": 11,
     "metadata": {},
     "output_type": "execute_result"
    }
   ],
   "source": [
    "result=vector_store.similarity_search(\"LangChain provides abstractions to make working with LLMs easy\", filter={\"source\": \"tweet\"})\n",
    "result"
   ]
  },
  {
   "cell_type": "code",
   "execution_count": 12,
   "id": "2544dade",
   "metadata": {},
   "outputs": [
    {
     "data": {
      "text/plain": [
       "{'source': 'tweet'}"
      ]
     },
     "execution_count": 12,
     "metadata": {},
     "output_type": "execute_result"
    }
   ],
   "source": [
    "result[0].metadata"
   ]
  },
  {
   "cell_type": "markdown",
   "id": "09945174",
   "metadata": {},
   "source": [
    "### Lest build a retriver now"
   ]
  },
  {
   "cell_type": "code",
   "execution_count": 14,
   "id": "11c510cf",
   "metadata": {},
   "outputs": [],
   "source": [
    "retriever=vector_store.as_retriever(search_kwargs={\"k\":3})"
   ]
  },
  {
   "cell_type": "code",
   "execution_count": 15,
   "id": "cc06701b",
   "metadata": {},
   "outputs": [
    {
     "data": {
      "text/plain": [
       "[Document(id='d1124f5a-1eb6-4892-8c43-5d1222fe7646', metadata={'source': 'tweet'}, page_content='Building an exciting new project with LangChain - come check it out!'),\n",
       " Document(id='5070cd01-fabb-4c02-9464-abe35905b0ca', metadata={'source': 'tweet'}, page_content='LangGraph is the best framework for building stateful, agentic applications!'),\n",
       " Document(id='c095787d-b4f4-408a-934e-b93c687ce6ee', metadata={'source': 'tweet'}, page_content='I have a bad feeling I am going to get deleted :(')]"
      ]
     },
     "execution_count": 15,
     "metadata": {},
     "output_type": "execute_result"
    }
   ],
   "source": [
    "retriever.invoke(\"LangChain provides abstractions to make working with LLMs easy\")"
   ]
  },
  {
   "cell_type": "markdown",
   "id": "13e44b0a",
   "metadata": {},
   "source": [
    "#### now store the faiss indext to local disk"
   ]
  },
  {
   "cell_type": "code",
   "execution_count": 16,
   "id": "0f624285",
   "metadata": {},
   "outputs": [],
   "source": [
    "vector_store.save_local(\"faiss_index\")"
   ]
  },
  {
   "cell_type": "code",
   "execution_count": 18,
   "id": "2623653e",
   "metadata": {},
   "outputs": [],
   "source": [
    "local_vector_store=FAISS.load_local(\"faiss_index\",embeddings=embeddings,allow_dangerous_deserialization=True)"
   ]
  },
  {
   "cell_type": "code",
   "execution_count": 19,
   "id": "30671210",
   "metadata": {},
   "outputs": [
    {
     "data": {
      "text/plain": [
       "[Document(id='d1124f5a-1eb6-4892-8c43-5d1222fe7646', metadata={'source': 'tweet'}, page_content='Building an exciting new project with LangChain - come check it out!'),\n",
       " Document(id='5070cd01-fabb-4c02-9464-abe35905b0ca', metadata={'source': 'tweet'}, page_content='LangGraph is the best framework for building stateful, agentic applications!'),\n",
       " Document(id='260f16ac-4196-4e6a-8002-d6898aad11b4', metadata={'source': 'tweet'}, page_content=\"Wow! That was an amazing movie. I can't wait to see it again.\"),\n",
       " Document(id='7265c12b-58c9-4d71-b10d-d33d0c4f8dad', metadata={'source': 'website'}, page_content='The top 10 soccer players in the world right now.')]"
      ]
     },
     "execution_count": 19,
     "metadata": {},
     "output_type": "execute_result"
    }
   ],
   "source": [
    "local_vector_store.similarity_search(\"Langchain\")"
   ]
  },
  {
   "cell_type": "markdown",
   "id": "beddbe1f",
   "metadata": {},
   "source": []
  }
 ],
 "metadata": {
  "kernelspec": {
   "display_name": "Python 3",
   "language": "python",
   "name": "python3"
  },
  "language_info": {
   "codemirror_mode": {
    "name": "ipython",
    "version": 3
   },
   "file_extension": ".py",
   "mimetype": "text/x-python",
   "name": "python",
   "nbconvert_exporter": "python",
   "pygments_lexer": "ipython3",
   "version": "3.13.2"
  }
 },
 "nbformat": 4,
 "nbformat_minor": 5
}
