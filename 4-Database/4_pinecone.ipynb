{
 "cells": [
  {
   "cell_type": "code",
   "execution_count": 53,
   "id": "83a2f2dc",
   "metadata": {},
   "outputs": [
    {
     "data": {
      "text/plain": [
       "True"
      ]
     },
     "execution_count": 53,
     "metadata": {},
     "output_type": "execute_result"
    }
   ],
   "source": [
    "import os\n",
    "from dotenv import load_dotenv\n",
    "load_dotenv()"
   ]
  },
  {
   "cell_type": "code",
   "execution_count": 54,
   "id": "c9bbf90c",
   "metadata": {},
   "outputs": [],
   "source": [
    "os.environ['HF_TOKEN']=os.getenv(\"HF_TOKEN\")\n",
    "os.environ['GOOGLE_API_KEY']=os.getenv(\"GOOGLE_API_KEY\")"
   ]
  },
  {
   "cell_type": "code",
   "execution_count": 55,
   "id": "0c469d2f",
   "metadata": {},
   "outputs": [],
   "source": [
    "from langchain_huggingface import HuggingFaceEmbeddings\n",
    "embeddings=HuggingFaceEmbeddings(model_name=\"all-MiniLM-L6-v2\")"
   ]
  },
  {
   "cell_type": "code",
   "execution_count": 56,
   "id": "9fe9f687",
   "metadata": {},
   "outputs": [
    {
     "data": {
      "text/plain": [
       "[-0.03338824212551117,\n",
       " 0.03453981503844261,\n",
       " 0.05947450175881386,\n",
       " 0.059286098927259445,\n",
       " -0.06353531032800674,\n",
       " -0.06819586455821991,\n",
       " 0.08823321014642715,\n",
       " 0.0344407856464386,\n",
       " -0.03278516232967377,\n",
       " -0.01581495814025402,\n",
       " 0.020981721580028534,\n",
       " -0.018340323120355606,\n",
       " -0.03983224928379059,\n",
       " -0.0804707333445549,\n",
       " -0.014469229616224766,\n",
       " 0.03326485678553581,\n",
       " 0.014259278774261475,\n",
       " -0.03404996171593666,\n",
       " -0.142915740609169,\n",
       " -0.023083431646227837,\n",
       " -0.021380223333835602,\n",
       " 0.002633583964779973,\n",
       " -0.04729269817471504,\n",
       " -0.010752756148576736,\n",
       " -0.06866802275180817,\n",
       " 0.031124936416745186,\n",
       " 0.07594586908817291,\n",
       " 0.0011282607447355986,\n",
       " 0.011632048524916172,\n",
       " -0.036039240658283234,\n",
       " 0.04483754187822342,\n",
       " 0.018390731886029243,\n",
       " 0.12672801315784454,\n",
       " -0.0013597395736724138,\n",
       " 0.00820669624954462,\n",
       " 0.06909967958927155,\n",
       " -0.08076362311840057,\n",
       " -0.05841310694813728,\n",
       " 0.0537545382976532,\n",
       " 0.02622750587761402,\n",
       " -0.0068285781890153885,\n",
       " -0.05635844171047211,\n",
       " 0.0032929808367043734,\n",
       " -0.07250188291072845,\n",
       " 0.06960924714803696,\n",
       " 0.031674377620220184,\n",
       " -0.012384756468236446,\n",
       " 0.023199263960123062,\n",
       " 0.08131056278944016,\n",
       " 0.0002782801166176796,\n",
       " -0.12659238278865814,\n",
       " -0.04998628422617912,\n",
       " -0.0356525182723999,\n",
       " 0.04856066405773163,\n",
       " 0.09733077138662338,\n",
       " 0.06224421039223671,\n",
       " -0.03750475123524666,\n",
       " 0.008118347264826298,\n",
       " 0.027651378884911537,\n",
       " -0.04321666061878204,\n",
       " 0.016248486936092377,\n",
       " 0.0022867415100336075,\n",
       " 0.00309703778475523,\n",
       " -0.015322054736316204,\n",
       " 0.03742996230721474,\n",
       " -0.010506524704396725,\n",
       " -0.05321488529443741,\n",
       " -0.03969472274184227,\n",
       " -0.052877575159072876,\n",
       " -0.030448181554675102,\n",
       " -0.01169707253575325,\n",
       " 0.07245181500911713,\n",
       " -0.07213437557220459,\n",
       " 0.039102260023355484,\n",
       " -0.037163618952035904,\n",
       " 0.02642219513654709,\n",
       " 0.026734240353107452,\n",
       " -0.031147021800279617,\n",
       " 0.06340932846069336,\n",
       " -0.01694667898118496,\n",
       " 0.006343636196106672,\n",
       " -0.025483056902885437,\n",
       " -0.015998903661966324,\n",
       " 0.014684697613120079,\n",
       " -0.041031938046216965,\n",
       " 0.0566893145442009,\n",
       " 0.05189083516597748,\n",
       " 0.012766474857926369,\n",
       " 0.010396670550107956,\n",
       " 0.03603462874889374,\n",
       " -0.07487243413925171,\n",
       " 0.022285541519522667,\n",
       " 0.05366937443614006,\n",
       " 0.02101721055805683,\n",
       " 0.010703171603381634,\n",
       " 0.011209411546587944,\n",
       " 0.02216527797281742,\n",
       " -0.03350183740258217,\n",
       " -0.1379026621580124,\n",
       " 0.17661640048027039,\n",
       " 0.032913584262132645,\n",
       " 0.07648541033267975,\n",
       " -0.05645769461989403,\n",
       " 0.03820193186402321,\n",
       " -0.05886794626712799,\n",
       " 0.01618366502225399,\n",
       " -0.002985523547977209,\n",
       " 0.008209982886910439,\n",
       " 0.026603657752275467,\n",
       " 0.03410128131508827,\n",
       " -0.003371256170794368,\n",
       " -0.04683651030063629,\n",
       " 0.02934238500893116,\n",
       " -0.018165430054068565,\n",
       " 0.09393952786922455,\n",
       " 0.016673749312758446,\n",
       " -0.016232172027230263,\n",
       " 0.0710032656788826,\n",
       " 0.04189838096499443,\n",
       " -0.012875034473836422,\n",
       " 0.027333233505487442,\n",
       " -0.03769170492887497,\n",
       " -0.010565748438239098,\n",
       " 0.08810007572174072,\n",
       " 0.03338446840643883,\n",
       " -0.0023001458030194044,\n",
       " -0.02008177526295185,\n",
       " -3.438964559312266e-33,\n",
       " 0.003885340876877308,\n",
       " -0.045698005706071854,\n",
       " 0.036723796278238297,\n",
       " 0.10973255336284637,\n",
       " 0.005294233560562134,\n",
       " -0.033840350806713104,\n",
       " -0.05718802288174629,\n",
       " -0.030986428260803223,\n",
       " 0.02820848859846592,\n",
       " 0.014682862907648087,\n",
       " -0.005613863468170166,\n",
       " 0.02814449556171894,\n",
       " -0.06591305881738663,\n",
       " 0.01608225144445896,\n",
       " 0.04844911769032478,\n",
       " 0.07509639114141464,\n",
       " -0.004293185193091631,\n",
       " 0.026304613798856735,\n",
       " -0.028514500707387924,\n",
       " 0.022873979061841965,\n",
       " -0.052803315222263336,\n",
       " -0.06066502258181572,\n",
       " 0.01952853798866272,\n",
       " 0.054101839661598206,\n",
       " 0.021753566339612007,\n",
       " -0.025309862568974495,\n",
       " 0.03161480650305748,\n",
       " -0.12111622095108032,\n",
       " 0.04928331449627876,\n",
       " 0.0027341139502823353,\n",
       " -0.038959380239248276,\n",
       " -0.02350741997361183,\n",
       " 0.010390643030405045,\n",
       " 0.0266758780926466,\n",
       " -0.020386047661304474,\n",
       " 0.013104519806802273,\n",
       " 0.012831240892410278,\n",
       " -0.027721170336008072,\n",
       " -0.0760044977068901,\n",
       " 0.039699066430330276,\n",
       " -0.06335613131523132,\n",
       " 0.06014365702867508,\n",
       " 0.0524851493537426,\n",
       " 0.008374602533876896,\n",
       " 0.015201416797935963,\n",
       " -0.018722597509622574,\n",
       " 0.012121830135583878,\n",
       " -0.014375108294188976,\n",
       " 0.033597737550735474,\n",
       " -0.013080423697829247,\n",
       " -0.061135824769735336,\n",
       " 0.029406387358903885,\n",
       " -0.09374040365219116,\n",
       " -0.0020575993694365025,\n",
       " 0.02402638830244541,\n",
       " -0.04306026175618172,\n",
       " -0.03385302796959877,\n",
       " -0.003630479332059622,\n",
       " 0.005760165397077799,\n",
       " 0.019234327599406242,\n",
       " 0.024349426850676537,\n",
       " 0.0710911974310875,\n",
       " -0.04483497142791748,\n",
       " 0.07316724210977554,\n",
       " -0.08264464884996414,\n",
       " 0.005427956581115723,\n",
       " 0.02321869507431984,\n",
       " 0.06096751242876053,\n",
       " 0.0946073979139328,\n",
       " -0.014135266654193401,\n",
       " -0.041771162301301956,\n",
       " -0.027401821687817574,\n",
       " 0.03853411599993706,\n",
       " -0.0073500811122357845,\n",
       " -0.007266101893037558,\n",
       " 0.04803263023495674,\n",
       " -0.011426704004406929,\n",
       " -0.06901119649410248,\n",
       " 0.03715129941701889,\n",
       " -0.06476707011461258,\n",
       " -0.06643076241016388,\n",
       " -0.0011766547104343772,\n",
       " -0.02179591916501522,\n",
       " -0.007523787207901478,\n",
       " 0.06725423038005829,\n",
       " 0.008094755001366138,\n",
       " -0.038112908601760864,\n",
       " -0.08759458363056183,\n",
       " 0.030362308025360107,\n",
       " -0.04203788936138153,\n",
       " -0.061076924204826355,\n",
       " 0.012958226725459099,\n",
       " 0.0050508719868958,\n",
       " 0.018419792875647545,\n",
       " -0.12826381623744965,\n",
       " 2.6248739262693755e-33,\n",
       " 0.08888933062553406,\n",
       " 0.03213614225387573,\n",
       " -0.10708092898130417,\n",
       " -0.016275126487016678,\n",
       " -0.04150312766432762,\n",
       " 0.002086942782625556,\n",
       " -0.060672059655189514,\n",
       " 0.12048250436782837,\n",
       " -0.08354715257883072,\n",
       " 0.050116799771785736,\n",
       " 0.00118069292511791,\n",
       " -0.050770170986652374,\n",
       " 0.05996888130903244,\n",
       " 0.05485885962843895,\n",
       " 0.0697220042347908,\n",
       " 0.004157187417149544,\n",
       " 0.12240327894687653,\n",
       " 0.03817790001630783,\n",
       " -0.018992019817233086,\n",
       " 0.01268420647829771,\n",
       " -0.03257127106189728,\n",
       " 0.026601113379001617,\n",
       " -0.059803131967782974,\n",
       " -0.024400904774665833,\n",
       " -0.016547152772545815,\n",
       " 0.020274387672543526,\n",
       " -0.023540081456303596,\n",
       " 0.08794983476400375,\n",
       " -0.09462469071149826,\n",
       " -0.05664953961968422,\n",
       " 0.07793811708688736,\n",
       " -0.01454021967947483,\n",
       " -0.04598596692085266,\n",
       " 0.03597741574048996,\n",
       " 0.01722746156156063,\n",
       " 0.10854944586753845,\n",
       " 0.023995298892259598,\n",
       " -0.09443826228380203,\n",
       " 0.021734854206442833,\n",
       " -0.03514181822538376,\n",
       " -0.015562944114208221,\n",
       " -0.009056073613464832,\n",
       " -0.026420511305332184,\n",
       " 0.09819953888654709,\n",
       " -0.05173289403319359,\n",
       " -0.05118058994412422,\n",
       " -0.04413079842925072,\n",
       " 0.0607789047062397,\n",
       " -0.010921907611191273,\n",
       " -0.001620299881324172,\n",
       " -0.12291136384010315,\n",
       " -0.0813702866435051,\n",
       " -0.023045778274536133,\n",
       " -0.05079672485589981,\n",
       " -0.11667698621749878,\n",
       " 0.02522161789238453,\n",
       " -0.019859865307807922,\n",
       " 0.049684587866067886,\n",
       " -0.013690253719687462,\n",
       " 0.0043411860242486,\n",
       " -0.014368372969329357,\n",
       " 0.047707103192806244,\n",
       " 0.037185024470090866,\n",
       " 0.022829927504062653,\n",
       " -0.04654860123991966,\n",
       " 0.06936833262443542,\n",
       " -0.021325044333934784,\n",
       " 0.029570072889328003,\n",
       " 0.000986306113190949,\n",
       " -0.033218443393707275,\n",
       " 0.04180165007710457,\n",
       " -0.005182679742574692,\n",
       " -0.020640268921852112,\n",
       " 0.04860811308026314,\n",
       " -0.04133263975381851,\n",
       " -0.005364629905670881,\n",
       " -0.02189498394727707,\n",
       " 0.02127024158835411,\n",
       " 0.018460899591445923,\n",
       " -0.03659107908606529,\n",
       " -0.05728469416499138,\n",
       " -0.0034459615126252174,\n",
       " -0.04625873267650604,\n",
       " 0.051345691084861755,\n",
       " 0.025934018194675446,\n",
       " 0.03859260305762291,\n",
       " 0.06607186794281006,\n",
       " -0.01730247773230076,\n",
       " -0.010598035529255867,\n",
       " 0.02265201322734356,\n",
       " 0.036723747849464417,\n",
       " 0.035846464335918427,\n",
       " 0.01203653309494257,\n",
       " 0.03178590163588524,\n",
       " -0.12105195224285126,\n",
       " -1.5130833475041072e-08,\n",
       " 0.006866083014756441,\n",
       " -0.027710216119885445,\n",
       " 0.08934707194566727,\n",
       " 0.07790016382932663,\n",
       " 0.06404796987771988,\n",
       " 0.03166114538908005,\n",
       " -0.07114414870738983,\n",
       " -0.04326842352747917,\n",
       " -0.03240786865353584,\n",
       " -0.02145579643547535,\n",
       " -0.008305278606712818,\n",
       " 0.038060277700424194,\n",
       " -0.00011359872587490827,\n",
       " 0.012233801186084747,\n",
       " 0.12013914436101913,\n",
       " 0.030236708000302315,\n",
       " -0.0519142784178257,\n",
       " -0.011444034986197948,\n",
       " -0.04784313216805458,\n",
       " -0.07834546267986298,\n",
       " 0.03221027925610542,\n",
       " -0.025861667469143867,\n",
       " -0.002064612926915288,\n",
       " -0.02923080325126648,\n",
       " -0.01997470296919346,\n",
       " -0.03496573865413666,\n",
       " -0.014112576842308044,\n",
       " 0.03993980213999748,\n",
       " -0.06896210461854935,\n",
       " 0.055890392512083054,\n",
       " -0.012570605613291264,\n",
       " 0.18196909129619598,\n",
       " -0.012776505202054977,\n",
       " -0.0011513318167999387,\n",
       " 0.028124818578362465,\n",
       " 0.011323049664497375,\n",
       " 0.0462803952395916,\n",
       " 0.016169758513569832,\n",
       " 0.026298897340893745,\n",
       " -0.054048746824264526,\n",
       " -0.026807105168700218,\n",
       " 0.06764835864305496,\n",
       " 0.010659273713827133,\n",
       " -0.1292617917060852,\n",
       " 0.0693831518292427,\n",
       " 0.030720509588718414,\n",
       " 0.038877543061971664,\n",
       " -0.140781968832016,\n",
       " 0.051911916583776474,\n",
       " -0.06790672242641449,\n",
       " -0.029856590554118156,\n",
       " 0.01736208237707615,\n",
       " 0.08236216753721237,\n",
       " 0.11180808395147324,\n",
       " 0.0989338755607605,\n",
       " 0.057195406407117844,\n",
       " 0.015903180465102196,\n",
       " -0.040913406759500504,\n",
       " -0.012436415068805218,\n",
       " 0.02024916373193264,\n",
       " 0.0674375668168068,\n",
       " 0.039333492517471313,\n",
       " 0.05208095163106918,\n",
       " -0.01940511167049408]"
      ]
     },
     "execution_count": 56,
     "metadata": {},
     "output_type": "execute_result"
    }
   ],
   "source": [
    "embeddings.embed_query(\"hello AI\")"
   ]
  },
  {
   "cell_type": "code",
   "execution_count": 57,
   "id": "db0973cc",
   "metadata": {},
   "outputs": [
    {
     "data": {
      "text/plain": [
       "384"
      ]
     },
     "execution_count": 57,
     "metadata": {},
     "output_type": "execute_result"
    }
   ],
   "source": [
    "len(embeddings.embed_query(\"hello AI\"))"
   ]
  },
  {
   "cell_type": "code",
   "execution_count": 58,
   "id": "1901be1c",
   "metadata": {},
   "outputs": [],
   "source": [
    "from langchain_google_genai import GoogleGenerativeAIEmbeddings\n",
    "embeddings = GoogleGenerativeAIEmbeddings(model=\"models/embedding-001\")\n"
   ]
  },
  {
   "cell_type": "code",
   "execution_count": 59,
   "id": "87201dd7",
   "metadata": {},
   "outputs": [],
   "source": [
    "from pinecone import Pinecone"
   ]
  },
  {
   "cell_type": "code",
   "execution_count": 60,
   "id": "624844a3",
   "metadata": {},
   "outputs": [],
   "source": [
    "pinecone_api_key=os.getenv(\"PINECONE_API_KEY\")"
   ]
  },
  {
   "cell_type": "code",
   "execution_count": 61,
   "id": "a0780b3e",
   "metadata": {},
   "outputs": [],
   "source": [
    "pc=Pinecone(api_key=pinecone_api_key)"
   ]
  },
  {
   "cell_type": "code",
   "execution_count": 62,
   "id": "425b259d",
   "metadata": {},
   "outputs": [],
   "source": [
    "from pinecone import ServerlessSpec\n",
    "#crate index \n",
    "#we are using gemeni model hence 768\n",
    "index_name=\"agenticbatch2\"\n",
    "\n",
    "if not pc.has_index(index_name):\n",
    "    pc.create_index(\n",
    "        name=index_name,\n",
    "        dimension=768,\n",
    "        metric=\"cosine\",\n",
    "        spec=ServerlessSpec(cloud=\"aws\", region=\"us-east-1\")\n",
    "    )"
   ]
  },
  {
   "cell_type": "code",
   "execution_count": 63,
   "id": "3429ac5a",
   "metadata": {},
   "outputs": [],
   "source": [
    "### loading index\n",
    "index=pc.Index(index_name)"
   ]
  },
  {
   "cell_type": "code",
   "execution_count": 64,
   "id": "2890b922",
   "metadata": {},
   "outputs": [],
   "source": [
    "from langchain_pinecone import PineconeVectorStore\n",
    "vector_store=PineconeVectorStore(index=index, embedding=embeddings)"
   ]
  },
  {
   "cell_type": "code",
   "execution_count": 65,
   "id": "28ba24d4",
   "metadata": {},
   "outputs": [
    {
     "data": {
      "text/plain": [
       "[Document(id='d052162f-26cd-47a2-bdf4-3565fe1b9021', metadata={'source': 'tweet'}, page_content='Building an exciting new project with LangChain - come check it out!'),\n",
       " Document(id='47964250-5335-43e5-8c86-fd454ae0edc1', metadata={'source': 'tweet'}, page_content='LangGraph is the best framework for building stateful, agentic applications!'),\n",
       " Document(id='5426cf05-0c84-48ca-8b81-18aaf31cb8fb', metadata={'source': 'tweet'}, page_content='I have a bad feeling I am going to get deleted :('),\n",
       " Document(id='9af31a26-ac23-41a4-a92b-1db468404ae1', metadata={'source': 'tweet'}, page_content='I had chocolate chip pancakes and scrambled eggs for breakfast this morning.')]"
      ]
     },
     "execution_count": 65,
     "metadata": {},
     "output_type": "execute_result"
    }
   ],
   "source": [
    "results=vector_store.similarity_search(\"what is a langchain?\")\n",
    "results"
   ]
  },
  {
   "cell_type": "code",
   "execution_count": 66,
   "id": "8b046451",
   "metadata": {},
   "outputs": [],
   "source": [
    "from uuid import uuid4\n",
    "from langchain_core.documents import Document\n",
    "\n",
    "document_1 = Document(\n",
    "    page_content=\"I had chocolate chip pancakes and scrambled eggs for breakfast this morning.\",\n",
    "    metadata={\"source\": \"tweet\"},#additional info\n",
    ")\n",
    "\n",
    "document_2 = Document(\n",
    "    page_content=\"The weather forecast for tomorrow is cloudy and overcast, with a high of 62 degrees.\",\n",
    "    metadata={\"source\": \"news\"},\n",
    ")\n",
    "\n",
    "document_3 = Document(\n",
    "    page_content=\"Building an exciting new project with LangChain - come check it out!\",\n",
    "    metadata={\"source\": \"tweet\"},\n",
    ")\n",
    "\n",
    "document_4 = Document(\n",
    "    page_content=\"Robbers broke into the city bank and stole $1 million in cash.\",\n",
    "    metadata={\"source\": \"news\"},\n",
    ")\n",
    "\n",
    "document_5 = Document(\n",
    "    page_content=\"Wow! That was an amazing movie. I can't wait to see it again.\",\n",
    "    metadata={\"source\": \"tweet\"},\n",
    ")\n",
    "\n",
    "document_6 = Document(\n",
    "    page_content=\"Is the new iPhone worth the price? Read this review to find out.\",\n",
    "    metadata={\"source\": \"website\"},\n",
    ")\n",
    "\n",
    "document_7 = Document(\n",
    "    page_content=\"The top 10 soccer players in the world right now.\",\n",
    "    metadata={\"source\": \"website\"},\n",
    ")\n",
    "\n",
    "document_8 = Document(\n",
    "    page_content=\"LangGraph is the best framework for building stateful, agentic applications!\",\n",
    "    metadata={\"source\": \"tweet\"},\n",
    ")\n",
    "\n",
    "document_9 = Document(\n",
    "    page_content=\"The stock market is down 500 points today due to fears of a recession.\",\n",
    "    metadata={\"source\": \"news\"},\n",
    ")\n",
    "\n",
    "document_10 = Document(\n",
    "    page_content=\"I have a bad feeling I am going to get deleted :(\",\n",
    "    metadata={\"source\": \"tweet\"},\n",
    ")\n",
    "\n",
    "documents = [\n",
    "    document_1,\n",
    "    document_2,\n",
    "    document_3,\n",
    "    document_4,\n",
    "    document_5,\n",
    "    document_6,\n",
    "    document_7,\n",
    "    document_8,\n",
    "    document_9,\n",
    "    document_10,\n",
    "]"
   ]
  },
  {
   "cell_type": "code",
   "execution_count": 67,
   "id": "e9bf0e5b",
   "metadata": {},
   "outputs": [],
   "source": [
    "uuids=[str(uuid4()) for _ in range(len(documents))]"
   ]
  },
  {
   "cell_type": "code",
   "execution_count": 68,
   "id": "3261eec8",
   "metadata": {},
   "outputs": [
    {
     "data": {
      "text/plain": [
       "['4f5ac986-cf0e-442c-9244-b7b7b3babaf6',\n",
       " 'f40c13fa-2176-478c-b518-1d930006fe8d',\n",
       " '0c2cfc6e-8945-43c1-a541-3c12621e51e7',\n",
       " '6b5e965b-96e6-46b4-9b6a-7258bd628424',\n",
       " 'eabf5cca-d709-404f-81da-a5e099d70e77',\n",
       " 'ae8fd3f2-7da6-451c-98e0-ca5eafa01e61',\n",
       " 'c85f795d-66c6-43f0-8e0b-da32b52ff345',\n",
       " '7362d029-e810-4202-9897-d273b42d4a80',\n",
       " 'aaea3ad3-aceb-4042-bea9-a24dcdcb9d55',\n",
       " '87aac97f-3f8c-4b06-ab1d-b613c59cec0b']"
      ]
     },
     "execution_count": 68,
     "metadata": {},
     "output_type": "execute_result"
    }
   ],
   "source": [
    "uuids"
   ]
  },
  {
   "cell_type": "code",
   "execution_count": 69,
   "id": "bf453262",
   "metadata": {},
   "outputs": [
    {
     "data": {
      "text/plain": [
       "['4f5ac986-cf0e-442c-9244-b7b7b3babaf6',\n",
       " 'f40c13fa-2176-478c-b518-1d930006fe8d',\n",
       " '0c2cfc6e-8945-43c1-a541-3c12621e51e7',\n",
       " '6b5e965b-96e6-46b4-9b6a-7258bd628424',\n",
       " 'eabf5cca-d709-404f-81da-a5e099d70e77',\n",
       " 'ae8fd3f2-7da6-451c-98e0-ca5eafa01e61',\n",
       " 'c85f795d-66c6-43f0-8e0b-da32b52ff345',\n",
       " '7362d029-e810-4202-9897-d273b42d4a80',\n",
       " 'aaea3ad3-aceb-4042-bea9-a24dcdcb9d55',\n",
       " '87aac97f-3f8c-4b06-ab1d-b613c59cec0b']"
      ]
     },
     "execution_count": 69,
     "metadata": {},
     "output_type": "execute_result"
    }
   ],
   "source": [
    "vector_store.add_documents(documents=documents,ids=uuids)"
   ]
  },
  {
   "cell_type": "code",
   "execution_count": 70,
   "id": "0046e1c1",
   "metadata": {},
   "outputs": [
    {
     "data": {
      "text/plain": [
       "[Document(id='d052162f-26cd-47a2-bdf4-3565fe1b9021', metadata={'source': 'tweet'}, page_content='Building an exciting new project with LangChain - come check it out!')]"
      ]
     },
     "execution_count": 70,
     "metadata": {},
     "output_type": "execute_result"
    }
   ],
   "source": [
    "results = vector_store.similarity_search(\"what langchain provides to us?\",k=1)\n",
    "results"
   ]
  },
  {
   "cell_type": "code",
   "execution_count": 71,
   "id": "fde3bdaa",
   "metadata": {},
   "outputs": [],
   "source": [
    "## If using cosine similarity (range [-1, 1]), you might set score_threshold=0.7 to get only highly relevant results.\n",
    "## If scores represent distances (e.g., L2 norm where lower = better), you might set score_threshold=1.5 to exclude poor matches.\n",
    "\n",
    "retriever=vector_store.as_retriever(\n",
    "    search_type=\"similarity_score_threshold\",\n",
    "    search_kwargs={\"score_threshold\":0.7}\n",
    ")"
   ]
  },
  {
   "cell_type": "code",
   "execution_count": 72,
   "id": "ecbcf115",
   "metadata": {},
   "outputs": [
    {
     "data": {
      "text/plain": [
       "[Document(id='d052162f-26cd-47a2-bdf4-3565fe1b9021', metadata={'source': 'tweet'}, page_content='Building an exciting new project with LangChain - come check it out!'),\n",
       " Document(id='47964250-5335-43e5-8c86-fd454ae0edc1', metadata={'source': 'tweet'}, page_content='LangGraph is the best framework for building stateful, agentic applications!'),\n",
       " Document(id='5426cf05-0c84-48ca-8b81-18aaf31cb8fb', metadata={'source': 'tweet'}, page_content='I have a bad feeling I am going to get deleted :('),\n",
       " Document(id='31ba73fe-1e84-454b-9209-1446b50f893c', metadata={'source': 'tweet'}, page_content=\"Wow! That was an amazing movie. I can't wait to see it again.\")]"
      ]
     },
     "execution_count": 72,
     "metadata": {},
     "output_type": "execute_result"
    }
   ],
   "source": [
    "retriever.invoke(\"langchain\")"
   ]
  },
  {
   "cell_type": "code",
   "execution_count": 73,
   "id": "04893ce1",
   "metadata": {},
   "outputs": [],
   "source": [
    "from langchain_google_genai import ChatGoogleGenerativeAI\n",
    "model=ChatGoogleGenerativeAI(model=\"gemini-1.5-flash\")"
   ]
  },
  {
   "cell_type": "code",
   "execution_count": 74,
   "id": "bdc476a9",
   "metadata": {},
   "outputs": [
    {
     "name": "stderr",
     "output_type": "stream",
     "text": [
      "c:\\vijay\\work\\code\\AI\\AgenticAILearning\\venv\\Lib\\site-packages\\langsmith\\client.py:272: LangSmithMissingAPIKeyWarning: API key must be provided when using hosted LangSmith API\n",
      "  warnings.warn(\n"
     ]
    }
   ],
   "source": [
    "from langchain import hub\n",
    "prompt=hub.pull(\"rlm/rag-prompt\")"
   ]
  },
  {
   "cell_type": "code",
   "execution_count": 75,
   "id": "71928835",
   "metadata": {},
   "outputs": [],
   "source": [
    "from langchain_core.prompts import PromptTemplate\n",
    "prompt=PromptTemplate(\n",
    "    template=\"\"\"You are an assistant for question-answering tasks. Use the following pieces of retrieved context to answer the question. If you don't know the answer, just say that you don't know. Use three sentences maximum and keep the answer concise.\\nQuestion: {question} \\nContext: {context} \\nAnswer:\"\"\",\n",
    "    input_variables=['context', 'question']\n",
    ")"
   ]
  },
  {
   "cell_type": "code",
   "execution_count": 76,
   "id": "625cc3c5",
   "metadata": {},
   "outputs": [
    {
     "data": {
      "text/plain": [
       "StringPromptValue(text=\"You are an assistant for question-answering tasks. Use the following pieces of retrieved context to answer the question. If you don't know the answer, just say that you don't know. Use three sentences maximum and keep the answer concise.\\nQuestion: what is a langchain? \\nContext: langchain is very super framework for LLM. \\nAnswer:\")"
      ]
     },
     "execution_count": 76,
     "metadata": {},
     "output_type": "execute_result"
    }
   ],
   "source": [
    "prompt.invoke({\"question\":\"what is a langchain?\",\"context\":\"langchain is very super framework for LLM.\"})"
   ]
  },
  {
   "cell_type": "code",
   "execution_count": 77,
   "id": "bfba2317",
   "metadata": {},
   "outputs": [],
   "source": [
    "from langchain_core.output_parsers import StrOutputParser\n",
    "from langchain_core.runnables import RunnablePassthrough"
   ]
  },
  {
   "cell_type": "code",
   "execution_count": 78,
   "id": "d1b24041",
   "metadata": {},
   "outputs": [],
   "source": [
    "def format_docs(docs):\n",
    "    return \"\\n\\n\".join(doc.page_content for doc in docs)"
   ]
  },
  {
   "cell_type": "code",
   "execution_count": 79,
   "id": "928cce22",
   "metadata": {},
   "outputs": [],
   "source": [
    "rag_chain=(\n",
    "    {\"context\":retriever|format_docs, \"question\": RunnablePassthrough()}\n",
    "    |prompt|model|StrOutputParser()\n",
    ")"
   ]
  },
  {
   "cell_type": "code",
   "execution_count": 80,
   "id": "8737c8e8",
   "metadata": {},
   "outputs": [
    {
     "data": {
      "text/plain": [
       "\"I don't know.  The provided text does not contain information about Llama models.\""
      ]
     },
     "execution_count": 80,
     "metadata": {},
     "output_type": "execute_result"
    }
   ],
   "source": [
    "rag_chain.invoke(\"what is llama model?\")"
   ]
  },
  {
   "cell_type": "code",
   "execution_count": 81,
   "id": "d4faf27c",
   "metadata": {},
   "outputs": [
    {
     "data": {
      "text/plain": [
       "\"LangChain is mentioned in the context of a new project.  The provided text doesn't offer further details about LangChain itself.  More information is needed to answer your question fully.\""
      ]
     },
     "execution_count": 81,
     "metadata": {},
     "output_type": "execute_result"
    }
   ],
   "source": [
    "rag_chain.invoke(\"langchain\")"
   ]
  },
  {
   "cell_type": "code",
   "execution_count": null,
   "id": "1211028b",
   "metadata": {},
   "outputs": [],
   "source": []
  }
 ],
 "metadata": {
  "kernelspec": {
   "display_name": "Python 3",
   "language": "python",
   "name": "python3"
  },
  "language_info": {
   "codemirror_mode": {
    "name": "ipython",
    "version": 3
   },
   "file_extension": ".py",
   "mimetype": "text/x-python",
   "name": "python",
   "nbconvert_exporter": "python",
   "pygments_lexer": "ipython3",
   "version": "3.13.2"
  }
 },
 "nbformat": 4,
 "nbformat_minor": 5
}
