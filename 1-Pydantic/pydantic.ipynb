{
 "cells": [
  {
   "cell_type": "code",
   "execution_count": 9,
   "id": "4d02db5a",
   "metadata": {},
   "outputs": [],
   "source": [
    "from dataclasses import dataclass\n",
    "\n",
    "@dataclass\n",
    "class Person():\n",
    "    name:str\n",
    "    age:int\n",
    "    city:str\n",
    "    state:str"
   ]
  },
  {
   "cell_type": "code",
   "execution_count": 16,
   "id": "3ac11e3c",
   "metadata": {},
   "outputs": [
    {
     "data": {
      "text/plain": [
       "Person(name='vijay', age=35, city='Pune', state='MH')"
      ]
     },
     "execution_count": 16,
     "metadata": {},
     "output_type": "execute_result"
    }
   ],
   "source": [
    "person=Person(name=\"vijay\", age=35, city=\"Pune\", state=\"MH\",)\n",
    "person\n"
   ]
  },
  {
   "cell_type": "code",
   "execution_count": 17,
   "id": "f731f809",
   "metadata": {},
   "outputs": [
    {
     "data": {
      "text/plain": [
       "Person(name='vijay', age=35, city='Pune', state=1)"
      ]
     },
     "execution_count": 17,
     "metadata": {},
     "output_type": "execute_result"
    }
   ],
   "source": [
    "### int can be coverted to str when we use @dataclass\n",
    "### no hard typecast check\n",
    "person1=Person(name=\"vijay\", age=35, city=\"Pune\", state=1)\n",
    "person1"
   ]
  },
  {
   "cell_type": "code",
   "execution_count": 18,
   "id": "9ddf2154",
   "metadata": {},
   "outputs": [
    {
     "data": {
      "text/plain": [
       "Person(name='vijay', age='35', city='Pune', state=1)"
      ]
     },
     "execution_count": 18,
     "metadata": {},
     "output_type": "execute_result"
    }
   ],
   "source": [
    "### int can be coverted to str when we use @dataclass\n",
    "### no hard typecast check\n",
    "person1=Person(name=\"vijay\", age=\"35\", city=\"Pune\", state=1)\n",
    "person1"
   ]
  },
  {
   "cell_type": "markdown",
   "id": "cb1860f7",
   "metadata": {},
   "source": [
    "#### Pydantic Basics: Creating and Using Models\n",
    "Pydantic models are the foundation of data validation in Python. They use Python type annotations to define the structure and validate data at runtime. Here's a detailed exploration of basic model creation with several examples.\n",
    "\n"
   ]
  },
  {
   "cell_type": "markdown",
   "id": "98cb34cd",
   "metadata": {},
   "source": []
  },
  {
   "cell_type": "code",
   "execution_count": 19,
   "id": "68e55f30",
   "metadata": {},
   "outputs": [],
   "source": [
    "## Pydantic\n",
    "from pydantic import BaseModel"
   ]
  },
  {
   "cell_type": "code",
   "execution_count": 20,
   "id": "aa8a990b",
   "metadata": {},
   "outputs": [],
   "source": [
    "class Person01(BaseModel):\n",
    "    name:str\n",
    "    age:int\n",
    "    city:str\n",
    "    state:str"
   ]
  },
  {
   "cell_type": "code",
   "execution_count": 21,
   "id": "7f621000",
   "metadata": {},
   "outputs": [
    {
     "ename": "ValidationError",
     "evalue": "1 validation error for Person01\nstate\n  Input should be a valid string [type=string_type, input_value=1, input_type=int]\n    For further information visit https://errors.pydantic.dev/2.11/v/string_type",
     "output_type": "error",
     "traceback": [
      "\u001b[31m---------------------------------------------------------------------------\u001b[39m",
      "\u001b[31mValidationError\u001b[39m                           Traceback (most recent call last)",
      "\u001b[36mCell\u001b[39m\u001b[36m \u001b[39m\u001b[32mIn[21]\u001b[39m\u001b[32m, line 2\u001b[39m\n\u001b[32m      1\u001b[39m \u001b[38;5;66;03m## With Pydantic strict validation will be applied and state int can not converted to str\u001b[39;00m\n\u001b[32m----> \u001b[39m\u001b[32m2\u001b[39m person01=\u001b[43mPerson01\u001b[49m\u001b[43m(\u001b[49m\u001b[43mname\u001b[49m\u001b[43m=\u001b[49m\u001b[33;43m\"\u001b[39;49m\u001b[33;43mvijay\u001b[39;49m\u001b[33;43m\"\u001b[39;49m\u001b[43m,\u001b[49m\u001b[43m \u001b[49m\u001b[43mage\u001b[49m\u001b[43m=\u001b[49m\u001b[33;43m\"\u001b[39;49m\u001b[33;43m35\u001b[39;49m\u001b[33;43m\"\u001b[39;49m\u001b[43m,\u001b[49m\u001b[43m \u001b[49m\u001b[43mcity\u001b[49m\u001b[43m=\u001b[49m\u001b[33;43m\"\u001b[39;49m\u001b[33;43mPune\u001b[39;49m\u001b[33;43m\"\u001b[39;49m\u001b[43m,\u001b[49m\u001b[43m \u001b[49m\u001b[43mstate\u001b[49m\u001b[43m=\u001b[49m\u001b[32;43m1\u001b[39;49m\u001b[43m)\u001b[49m\n\u001b[32m      3\u001b[39m person01\n",
      "\u001b[36mFile \u001b[39m\u001b[32mc:\\vijay\\work\\code\\AI\\AgenticAILearning\\venv\\Lib\\site-packages\\pydantic\\main.py:253\u001b[39m, in \u001b[36mBaseModel.__init__\u001b[39m\u001b[34m(self, **data)\u001b[39m\n\u001b[32m    251\u001b[39m \u001b[38;5;66;03m# `__tracebackhide__` tells pytest and some other tools to omit this function from tracebacks\u001b[39;00m\n\u001b[32m    252\u001b[39m __tracebackhide__ = \u001b[38;5;28;01mTrue\u001b[39;00m\n\u001b[32m--> \u001b[39m\u001b[32m253\u001b[39m validated_self = \u001b[38;5;28;43mself\u001b[39;49m\u001b[43m.\u001b[49m\u001b[43m__pydantic_validator__\u001b[49m\u001b[43m.\u001b[49m\u001b[43mvalidate_python\u001b[49m\u001b[43m(\u001b[49m\u001b[43mdata\u001b[49m\u001b[43m,\u001b[49m\u001b[43m \u001b[49m\u001b[43mself_instance\u001b[49m\u001b[43m=\u001b[49m\u001b[38;5;28;43mself\u001b[39;49m\u001b[43m)\u001b[49m\n\u001b[32m    254\u001b[39m \u001b[38;5;28;01mif\u001b[39;00m \u001b[38;5;28mself\u001b[39m \u001b[38;5;129;01mis\u001b[39;00m \u001b[38;5;129;01mnot\u001b[39;00m validated_self:\n\u001b[32m    255\u001b[39m     warnings.warn(\n\u001b[32m    256\u001b[39m         \u001b[33m'\u001b[39m\u001b[33mA custom validator is returning a value other than `self`.\u001b[39m\u001b[38;5;130;01m\\n\u001b[39;00m\u001b[33m'\u001b[39m\n\u001b[32m    257\u001b[39m         \u001b[33m\"\u001b[39m\u001b[33mReturning anything other than `self` from a top level model validator isn\u001b[39m\u001b[33m'\u001b[39m\u001b[33mt supported when validating via `__init__`.\u001b[39m\u001b[38;5;130;01m\\n\u001b[39;00m\u001b[33m\"\u001b[39m\n\u001b[32m    258\u001b[39m         \u001b[33m'\u001b[39m\u001b[33mSee the `model_validator` docs (https://docs.pydantic.dev/latest/concepts/validators/#model-validators) for more details.\u001b[39m\u001b[33m'\u001b[39m,\n\u001b[32m    259\u001b[39m         stacklevel=\u001b[32m2\u001b[39m,\n\u001b[32m    260\u001b[39m     )\n",
      "\u001b[31mValidationError\u001b[39m: 1 validation error for Person01\nstate\n  Input should be a valid string [type=string_type, input_value=1, input_type=int]\n    For further information visit https://errors.pydantic.dev/2.11/v/string_type"
     ]
    }
   ],
   "source": [
    "## With Pydantic strict validation will be applied and state int can not converted to str\n",
    "person01=Person01(name=\"vijay\", age=\"35\", city=\"Pune\", state=1)\n",
    "person01"
   ]
  },
  {
   "cell_type": "code",
   "execution_count": 22,
   "id": "f120437c",
   "metadata": {},
   "outputs": [
    {
     "data": {
      "text/plain": [
       "Person01(name='vijay', age=35, city='Pune', state='1')"
      ]
     },
     "execution_count": 22,
     "metadata": {},
     "output_type": "execute_result"
    }
   ],
   "source": [
    "## we need pass state as str then it will work\n",
    "person02=Person01(name=\"vijay\", age=\"35\", city=\"Pune\", state=\"1\")\n",
    "person02"
   ]
  },
  {
   "cell_type": "markdown",
   "id": "106ba694",
   "metadata": {},
   "source": [
    "#### 2. Model with Optional Fields\n",
    "Add optional fields using Python's Optional type:\n",
    "\n"
   ]
  },
  {
   "cell_type": "code",
   "execution_count": 24,
   "id": "3e9e8ab6",
   "metadata": {},
   "outputs": [],
   "source": [
    "from typing import Optional\n",
    "\n",
    "class Employee(BaseModel):\n",
    "    id:int\n",
    "    name:str\n",
    "    department:str\n",
    "    salary: Optional[float]=None #Optional with default value\n",
    "    is_active: Optional[bool]=True #optional field with default value"
   ]
  },
  {
   "cell_type": "code",
   "execution_count": 25,
   "id": "5fc525c2",
   "metadata": {},
   "outputs": [
    {
     "data": {
      "text/plain": [
       "Employee(id=1, name='vijay', department='technology', salary=None, is_active=True)"
      ]
     },
     "execution_count": 25,
     "metadata": {},
     "output_type": "execute_result"
    }
   ],
   "source": [
    "## default value will automatically assigned\n",
    "emploeyee1=Employee(id=1,name=\"vijay\",department=\"technology\")\n",
    "emploeyee1"
   ]
  },
  {
   "cell_type": "code",
   "execution_count": 26,
   "id": "b2d7956b",
   "metadata": {},
   "outputs": [
    {
     "data": {
      "text/plain": [
       "Employee(id=1, name='vijay', department='technology', salary=10000.0, is_active=True)"
      ]
     },
     "execution_count": 26,
     "metadata": {},
     "output_type": "execute_result"
    }
   ],
   "source": [
    "## given salary value will get assigned\n",
    "emploeyee2=Employee(id=1,name=\"vijay\",salary=10000,department=\"technology\")\n",
    "emploeyee2"
   ]
  },
  {
   "cell_type": "markdown",
   "id": "2d97a467",
   "metadata": {},
   "source": [
    "### Lets play with List now"
   ]
  },
  {
   "cell_type": "code",
   "execution_count": 30,
   "id": "682fe039",
   "metadata": {},
   "outputs": [],
   "source": [
    "from typing import List\n",
    "\n",
    "class Department(BaseModel):\n",
    "    id:int\n",
    "    employees:List[str]\n",
    "    headCount:int"
   ]
  },
  {
   "cell_type": "code",
   "execution_count": 31,
   "id": "20ff0b29",
   "metadata": {},
   "outputs": [
    {
     "data": {
      "text/plain": [
       "Department(id=100, employees=['vijay', 'krish', 'prashant'], headCount=10)"
      ]
     },
     "execution_count": 31,
     "metadata": {},
     "output_type": "execute_result"
    }
   ],
   "source": [
    "department1=Department(id=100,employees=(\"vijay\",\"krish\",\"prashant\"),headCount=10)\n",
    "department1"
   ]
  },
  {
   "cell_type": "code",
   "execution_count": 32,
   "id": "b5c9fa64",
   "metadata": {},
   "outputs": [
    {
     "ename": "ValidationError",
     "evalue": "1 validation error for Department\nemployees.2\n  Input should be a valid string [type=string_type, input_value=7, input_type=int]\n    For further information visit https://errors.pydantic.dev/2.11/v/string_type",
     "output_type": "error",
     "traceback": [
      "\u001b[31m---------------------------------------------------------------------------\u001b[39m",
      "\u001b[31mValidationError\u001b[39m                           Traceback (most recent call last)",
      "\u001b[36mCell\u001b[39m\u001b[36m \u001b[39m\u001b[32mIn[32]\u001b[39m\u001b[32m, line 2\u001b[39m\n\u001b[32m      1\u001b[39m \u001b[38;5;66;03m## as we have add int to List[str] , pydentic will throw error\u001b[39;00m\n\u001b[32m----> \u001b[39m\u001b[32m2\u001b[39m department2=\u001b[43mDepartment\u001b[49m\u001b[43m(\u001b[49m\u001b[38;5;28;43mid\u001b[39;49m\u001b[43m=\u001b[49m\u001b[32;43m100\u001b[39;49m\u001b[43m,\u001b[49m\u001b[43memployees\u001b[49m\u001b[43m=\u001b[49m\u001b[43m(\u001b[49m\u001b[33;43m\"\u001b[39;49m\u001b[33;43mvijay\u001b[39;49m\u001b[33;43m\"\u001b[39;49m\u001b[43m,\u001b[49m\u001b[33;43m\"\u001b[39;49m\u001b[33;43mkrish\u001b[39;49m\u001b[33;43m\"\u001b[39;49m\u001b[43m,\u001b[49m\u001b[32;43m7\u001b[39;49m\u001b[43m)\u001b[49m\u001b[43m,\u001b[49m\u001b[43mheadCount\u001b[49m\u001b[43m=\u001b[49m\u001b[32;43m10\u001b[39;49m\u001b[43m)\u001b[49m\n\u001b[32m      3\u001b[39m department2\n",
      "\u001b[36mFile \u001b[39m\u001b[32mc:\\vijay\\work\\code\\AI\\AgenticAILearning\\venv\\Lib\\site-packages\\pydantic\\main.py:253\u001b[39m, in \u001b[36mBaseModel.__init__\u001b[39m\u001b[34m(self, **data)\u001b[39m\n\u001b[32m    251\u001b[39m \u001b[38;5;66;03m# `__tracebackhide__` tells pytest and some other tools to omit this function from tracebacks\u001b[39;00m\n\u001b[32m    252\u001b[39m __tracebackhide__ = \u001b[38;5;28;01mTrue\u001b[39;00m\n\u001b[32m--> \u001b[39m\u001b[32m253\u001b[39m validated_self = \u001b[38;5;28;43mself\u001b[39;49m\u001b[43m.\u001b[49m\u001b[43m__pydantic_validator__\u001b[49m\u001b[43m.\u001b[49m\u001b[43mvalidate_python\u001b[49m\u001b[43m(\u001b[49m\u001b[43mdata\u001b[49m\u001b[43m,\u001b[49m\u001b[43m \u001b[49m\u001b[43mself_instance\u001b[49m\u001b[43m=\u001b[49m\u001b[38;5;28;43mself\u001b[39;49m\u001b[43m)\u001b[49m\n\u001b[32m    254\u001b[39m \u001b[38;5;28;01mif\u001b[39;00m \u001b[38;5;28mself\u001b[39m \u001b[38;5;129;01mis\u001b[39;00m \u001b[38;5;129;01mnot\u001b[39;00m validated_self:\n\u001b[32m    255\u001b[39m     warnings.warn(\n\u001b[32m    256\u001b[39m         \u001b[33m'\u001b[39m\u001b[33mA custom validator is returning a value other than `self`.\u001b[39m\u001b[38;5;130;01m\\n\u001b[39;00m\u001b[33m'\u001b[39m\n\u001b[32m    257\u001b[39m         \u001b[33m\"\u001b[39m\u001b[33mReturning anything other than `self` from a top level model validator isn\u001b[39m\u001b[33m'\u001b[39m\u001b[33mt supported when validating via `__init__`.\u001b[39m\u001b[38;5;130;01m\\n\u001b[39;00m\u001b[33m\"\u001b[39m\n\u001b[32m    258\u001b[39m         \u001b[33m'\u001b[39m\u001b[33mSee the `model_validator` docs (https://docs.pydantic.dev/latest/concepts/validators/#model-validators) for more details.\u001b[39m\u001b[33m'\u001b[39m,\n\u001b[32m    259\u001b[39m         stacklevel=\u001b[32m2\u001b[39m,\n\u001b[32m    260\u001b[39m     )\n",
      "\u001b[31mValidationError\u001b[39m: 1 validation error for Department\nemployees.2\n  Input should be a valid string [type=string_type, input_value=7, input_type=int]\n    For further information visit https://errors.pydantic.dev/2.11/v/string_type"
     ]
    }
   ],
   "source": [
    "## as we have add int to List[str] , pydentic will throw error\n",
    "department2=Department(id=100,employees=(\"vijay\",\"krish\",7),headCount=10)\n",
    "department2"
   ]
  },
  {
   "cell_type": "code",
   "execution_count": 33,
   "id": "ae7300d4",
   "metadata": {},
   "outputs": [
    {
     "name": "stdout",
     "output_type": "stream",
     "text": [
      "1 validation error for Department\n",
      "employees.2\n",
      "  Input should be a valid string [type=string_type, input_value=7, input_type=int]\n",
      "    For further information visit https://errors.pydantic.dev/2.11/v/string_type\n"
     ]
    }
   ],
   "source": [
    "## in production we dont want to throw this type error instend we will write in a readable format\n",
    "## let use Exception handling here to achieve this\n",
    "try:\n",
    "    department3=Department(id=100,employees=(\"vijay\",\"krish\",7),headCount=10)\n",
    "    department3\n",
    "except Exception as e:\n",
    "    print(e)"
   ]
  },
  {
   "cell_type": "markdown",
   "id": "9bc0dd82",
   "metadata": {},
   "source": [
    "#### Model with Nested Models\n",
    "Create complex structures with nested models:"
   ]
  },
  {
   "cell_type": "code",
   "execution_count": 35,
   "id": "8ab9679a",
   "metadata": {},
   "outputs": [],
   "source": [
    "from pydantic import BaseModel\n",
    "from typing import List\n",
    "\n",
    "class Student(BaseModel):\n",
    "    rollno:int\n",
    "    name:str\n",
    "    gender:str\n",
    "\n",
    "class Branch(BaseModel):\n",
    "    barnch_name:str\n",
    "    students:List[Student]"
   ]
  },
  {
   "cell_type": "code",
   "execution_count": 36,
   "id": "86f41950",
   "metadata": {},
   "outputs": [
    {
     "data": {
      "text/plain": [
       "Branch(barnch_name='Mechanical', students=[Student(rollno=3, name='Charlie', gender='Male'), Student(rollno=4, name='Diana', gender='Female')])"
      ]
     },
     "execution_count": 36,
     "metadata": {},
     "output_type": "execute_result"
    }
   ],
   "source": [
    "branch1=Branch(barnch_name=\"Mechanical\",\n",
    "               students=[\n",
    "        {\"rollno\": 3, \"name\": \"Charlie\", \"gender\": \"Male\"},\n",
    "        {\"rollno\": 4, \"name\": \"Diana\", \"gender\": \"Female\"}\n",
    "    ]\n",
    "    )\n",
    "branch1"
   ]
  },
  {
   "cell_type": "markdown",
   "id": "9cbab602",
   "metadata": {},
   "source": [
    "#### Pydantic Fields: Customization and Constraints\n",
    "\n",
    "The Field function in Pydantic enhances model fields beyond basic type hints by allowing you to specify validation rules, default values, aliases, and more. Here's a comprehensive tutorial with examples."
   ]
  },
  {
   "cell_type": "code",
   "execution_count": 37,
   "id": "9019f19a",
   "metadata": {},
   "outputs": [],
   "source": [
    "from pydantic import BaseModel, Field\n",
    "\n",
    "class Television(BaseModel):\n",
    "    model:str=Field(min_length=3,max_length=10)\n",
    "    price:float=Field(gt=5000,lt=100000)\n",
    "    quatity:int=Field(gt=0)"
   ]
  },
  {
   "cell_type": "code",
   "execution_count": 38,
   "id": "d59ab425",
   "metadata": {},
   "outputs": [
    {
     "name": "stdout",
     "output_type": "stream",
     "text": [
      "1 validation error for Television\n",
      "quatity\n",
      "  Input should be greater than 0 [type=greater_than, input_value=0, input_type=int]\n",
      "    For further information visit https://errors.pydantic.dev/2.11/v/greater_than\n"
     ]
    }
   ],
   "source": [
    "## here we are applying condition base validation\n",
    "try:\n",
    "    tele1=Television(model=\"android\",price=80000,quatity=0)\n",
    "except Exception as e:\n",
    "    print(e)"
   ]
  },
  {
   "cell_type": "code",
   "execution_count": 39,
   "id": "7b326816",
   "metadata": {},
   "outputs": [
    {
     "name": "stdout",
     "output_type": "stream",
     "text": [
      "username='vijay' age=35 email='user@example.com'\n"
     ]
    }
   ],
   "source": [
    "from pydantic import BaseModel, Field\n",
    "\n",
    "class User(BaseModel):\n",
    "    username:str=Field(description=\"Unique username for the user\")\n",
    "    age:int=Field(default=35,description=\"User age default to 18 \")\n",
    "    email:str= Field(default_factory=lambda: \"user@example.com\",description=\"Default email address\")\n",
    "\n",
    "\n",
    "user1 = User(username=\"vijay\")\n",
    "print(user1)"
   ]
  },
  {
   "cell_type": "code",
   "execution_count": 40,
   "id": "40e33585",
   "metadata": {},
   "outputs": [
    {
     "name": "stdout",
     "output_type": "stream",
     "text": [
      "username='vijay' age=36 email='vijay@gmail.com'\n"
     ]
    }
   ],
   "source": [
    "user2 = User(username=\"vijay\",age=36,email=\"vijay@gmail.com\")\n",
    "print(user2)"
   ]
  },
  {
   "cell_type": "markdown",
   "id": "d94e72ac",
   "metadata": {},
   "source": [
    "### Lets create email validator now\n"
   ]
  },
  {
   "cell_type": "code",
   "execution_count": 41,
   "id": "9e8cacbd",
   "metadata": {},
   "outputs": [
    {
     "name": "stdout",
     "output_type": "stream",
     "text": [
      "username='vijay' age=36 email='vijay@gmail.com'\n"
     ]
    }
   ],
   "source": [
    "## please intall pydantic[email] for EmailStr\n",
    "\n",
    "from pydantic import BaseModel, Field, EmailStr\n",
    "\n",
    "class User001(BaseModel):\n",
    "    username:str=Field(description=\"Unique username for the user\")\n",
    "    age:int=Field(default=35,description=\"User age default to 18 \")\n",
    "    email:EmailStr= Field(default_factory=lambda: \"user@example.com\",description=\"Default email address\")\n",
    "\n",
    "\n",
    "user01 = User001(username=\"vijay\",age=36,email=\"vijay@gmail.com\")\n",
    "print(user01)"
   ]
  },
  {
   "cell_type": "code",
   "execution_count": 42,
   "id": "fd516a06",
   "metadata": {},
   "outputs": [
    {
     "name": "stdout",
     "output_type": "stream",
     "text": [
      "1 validation error for User001\n",
      "email\n",
      "  value is not a valid email address: An email address cannot have a period immediately after the @-sign. [type=value_error, input_value='vijay@.com', input_type=str]\n"
     ]
    }
   ],
   "source": [
    "## invalid email is throwing error\n",
    "try:\n",
    "    user02 = User001(username=\"vijay\",age=36,email=\"vijay@.com\")\n",
    "    print(user02)\n",
    "except Exception as e:\n",
    "    print(e)"
   ]
  },
  {
   "cell_type": "code",
   "execution_count": 43,
   "id": "9a0b2dd0",
   "metadata": {},
   "outputs": [
    {
     "data": {
      "text/plain": [
       "{'properties': {'username': {'description': 'Unique username for the user',\n",
       "   'title': 'Username',\n",
       "   'type': 'string'},\n",
       "  'age': {'default': 35,\n",
       "   'description': 'User age default to 18 ',\n",
       "   'title': 'Age',\n",
       "   'type': 'integer'},\n",
       "  'email': {'description': 'Default email address',\n",
       "   'format': 'email',\n",
       "   'title': 'Email',\n",
       "   'type': 'string'}},\n",
       " 'required': ['username'],\n",
       " 'title': 'User001',\n",
       " 'type': 'object'}"
      ]
     },
     "execution_count": 43,
     "metadata": {},
     "output_type": "execute_result"
    }
   ],
   "source": [
    "## To print defination of your class\n",
    "User001.model_json_schema()"
   ]
  },
  {
   "cell_type": "code",
   "execution_count": null,
   "id": "90da81da",
   "metadata": {},
   "outputs": [],
   "source": []
  }
 ],
 "metadata": {
  "kernelspec": {
   "display_name": "Python 3",
   "language": "python",
   "name": "python3"
  },
  "language_info": {
   "codemirror_mode": {
    "name": "ipython",
    "version": 3
   },
   "file_extension": ".py",
   "mimetype": "text/x-python",
   "name": "python",
   "nbconvert_exporter": "python",
   "pygments_lexer": "ipython3",
   "version": "3.13.2"
  }
 },
 "nbformat": 4,
 "nbformat_minor": 5
}
