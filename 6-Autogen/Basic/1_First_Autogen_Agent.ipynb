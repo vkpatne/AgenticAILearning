{
 "cells": [
  {
   "cell_type": "markdown",
   "id": "e3e2e2e1",
   "metadata": {},
   "source": [
    "## First Autogen Agent"
   ]
  },
  {
   "cell_type": "code",
   "execution_count": 3,
   "id": "5d26fe86",
   "metadata": {},
   "outputs": [],
   "source": [
    "from autogen_agentchat.agents import AssistantAgent\n",
    "from autogen_ext.models.openai import OpenAIChatCompletionClient\n",
    "from dotenv import load_dotenv\n",
    "load_dotenv()\n",
    "\n",
    "import os\n",
    "GOOGLE_API_KEY=os.getenv(\"GOOGLE_API_KEY\")"
   ]
  },
  {
   "cell_type": "code",
   "execution_count": 5,
   "id": "1ceb1c1b",
   "metadata": {},
   "outputs": [],
   "source": [
    "model_client=OpenAIChatCompletionClient(model=\"gemini-1.5-flash-8b\",api_key=GOOGLE_API_KEY)\n",
    "agent_1=AssistantAgent(name=\"my_assistant\", model_client= model_client)"
   ]
  },
  {
   "cell_type": "code",
   "execution_count": 6,
   "id": "c865d81c",
   "metadata": {},
   "outputs": [],
   "source": [
    "result= await agent_1.run(task=\"Tell me about you.\")"
   ]
  },
  {
   "cell_type": "code",
   "execution_count": 7,
   "id": "39d1cb57",
   "metadata": {},
   "outputs": [
    {
     "name": "stdout",
     "output_type": "stream",
     "text": [
      "messages=[TextMessage(id='a247ac43-a899-43ea-803b-0a8150c71a77', source='user', models_usage=None, metadata={}, created_at=datetime.datetime(2025, 7, 12, 16, 44, 28, 558815, tzinfo=datetime.timezone.utc), content='Tell me about you.', type='TextMessage'), TextMessage(id='5073c364-f751-40d7-b4f4-fd484d5470fe', source='my_assistant', models_usage=RequestUsage(prompt_tokens=29, completion_tokens=82), metadata={}, created_at=datetime.datetime(2025, 7, 12, 16, 44, 31, 208792, tzinfo=datetime.timezone.utc), content=\"I am a large language model, trained by Google.  I am able to communicate in response to a wide range of prompts and questions, and I can perform tasks such as generating text, translating languages, and answering questions.  My knowledge cutoff date is September 2021, meaning I don't have information about events after that date.  I am still under development.\\n\\nTERMINATE\\n\", type='TextMessage')] stop_reason=None\n"
     ]
    }
   ],
   "source": [
    "print(result)"
   ]
  },
  {
   "cell_type": "code",
   "execution_count": null,
   "id": "d970e766",
   "metadata": {},
   "outputs": [],
   "source": []
  }
 ],
 "metadata": {
  "kernelspec": {
   "display_name": "Python 3",
   "language": "python",
   "name": "python3"
  },
  "language_info": {
   "codemirror_mode": {
    "name": "ipython",
    "version": 3
   },
   "file_extension": ".py",
   "mimetype": "text/x-python",
   "name": "python",
   "nbconvert_exporter": "python",
   "pygments_lexer": "ipython3",
   "version": "3.13.2"
  }
 },
 "nbformat": 4,
 "nbformat_minor": 5
}
